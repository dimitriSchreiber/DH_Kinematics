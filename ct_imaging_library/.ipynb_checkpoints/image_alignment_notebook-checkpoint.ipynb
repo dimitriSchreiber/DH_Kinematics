{
 "cells": [
  {
   "cell_type": "code",
   "execution_count": 38,
   "metadata": {},
   "outputs": [],
   "source": [
    "import numpy as np\n",
    "import matplotlib.pyplot as plt\n",
    "import transforms3d as t3d"
   ]
  },
  {
   "cell_type": "code",
   "execution_count": 39,
   "metadata": {},
   "outputs": [],
   "source": [
    "#good optimizers:\n",
    "#https://nlopt.readthedocs.io/en/latest/\n",
    "#pagmo / pygmo\n",
    "\n",
    "#mystic might be the best: https://github.com/uqfoundation/mystic \n",
    "#http://trac.mystic.cacr.caltech.edu/project/mystic/wiki.html"
   ]
  },
  {
   "cell_type": "code",
   "execution_count": 53,
   "metadata": {},
   "outputs": [],
   "source": [
    "from sklearn.metrics import mean_squared_error\n",
    "\n",
    "def convert_quat_and_cart_to_homogeneous(q, xyz):\n",
    "    T = np.eye(4)\n",
    "    T[:3,:3] = t3d.quaternions.quat2mat(q)\n",
    "    T[:3,3] = xyz\n",
    "    return T\n",
    "\n",
    "def generate_random_homogeneous_transform():\n",
    "    q = np.random.dirichlet([1.3, 1.3, 1.3, 1.3], size = 1).squeeze()\n",
    "    xyz = np.random.rand(3)\n",
    "    return convert_quat_and_cart_to_homogeneous(q, xyz)\n",
    "\n",
    "def list_permuter(list1, list2):\n",
    "    #subitem for item in a for subitem in (item if isinstance(item, list) else [item])\n",
    "    return [[subitem for item in pair for subitem in (item if isinstance(item, list) else [item])] for\n",
    "            pair in itertools.product(list1,list2)]\n",
    "\n"
   ]
  },
  {
   "cell_type": "code",
   "execution_count": 50,
   "metadata": {},
   "outputs": [],
   "source": [
    "#define all the points of the object\n",
    "alpha = 0.05\n",
    "\n",
    "point_positions = np.array([[1, -1, 0],[-1, -1, 0], [-1, 1, 0],[1, 0, -1],[-np.cos(np.pi/3), -np.sin(np.pi/3), -1],\n",
    "                            [-np.cos(np.pi/3), np.sin(np.pi/3), -1]]).T\n",
    "\n",
    "point_positions_noisy = point_positions + np.random.normal(loc=0.0, scale=alpha, size = point_positions.shape)"
   ]
  },
  {
   "cell_type": "code",
   "execution_count": 51,
   "metadata": {},
   "outputs": [],
   "source": [
    "T = generate_random_homogeneous_transform()\n",
    "\n",
    "point_positions = np.vstack([point_positions, np.ones(6)])\n",
    "point_positions_noisy = np.vstack([point_positions_noisy, np.ones(6)])\n",
    "point_positions_noisy_transformed = T @ point_positions_noisy"
   ]
  },
  {
   "cell_type": "code",
   "execution_count": 52,
   "metadata": {},
   "outputs": [
    {
     "name": "stdout",
     "output_type": "stream",
     "text": [
      "     fun: 0.0006869198221985352\n",
      "     jac: array([-1.38735581e-04,  3.05157853e-04,  7.22169279e-05,  2.00793416e-04,\n",
      "       -4.56355709e-04,  6.08072369e-05,  2.94669007e-04])\n",
      " message: 'Optimization terminated successfully.'\n",
      "    nfev: 121\n",
      "     nit: 13\n",
      "    njev: 13\n",
      "  status: 0\n",
      " success: True\n",
      "       x: array([0.60200249, 0.04356425, 0.00717109, 0.34726217, 0.76877974,\n",
      "       0.48597681, 0.2404963 ])\n"
     ]
    },
    {
     "data": {
      "image/png": "[encoded data removed]",
      "text/plain": [
       "<Figure size 432x288 with 1 Axes>"
      ]
     },
     "metadata": {
      "needs_background": "light"
     },
     "output_type": "display_data"
    }
   ],
   "source": [
    "from scipy.optimize import minimize\n",
    "\n",
    "# generate quaternion and xyz translation vector\n",
    "# constraints: ||q|| = 1, |xyz| < 10\n",
    "# loss: loss(point_positions, convert_quat_and_cart_to_homogeneous(q,xyz)@point_positions_noisy)\n",
    "def objective(quat_xyz, point_positions, observed_point_positions):\n",
    "    #returns MSE between points\n",
    "    q = quat_xyz[0:4]\n",
    "    xyz = quat_xyz[4:]\n",
    "    T = convert_quat_and_cart_to_homogeneous(q,xyz)\n",
    "    return mean_squared_error(T@point_positions, observed_point_positions)\n",
    "\n",
    "def eq_constraint(quat_xyz):\n",
    "    return np.sum(quat_xyz[:4]) - 1\n",
    "\n",
    "result = minimize(objective, x0 = np.array([0,0,0,1,0,0,0]), args=(point_positions, point_positions_noisy_transformed), method = 'SLSQP', constraints={\"fun\": eq_constraint, \"type\": \"eq\"})\n",
    "\n",
    "print(result)\n",
    "\n",
    "plt.figure()\n",
    "plt.scatter(point_positions_noisy_transformed[0,:], point_positions_noisy_transformed[2,:])\n",
    "plt.scatter((T@point_positions)[0,:], (T@point_positions)[2,:])\n",
    "plt.legend(['Observed', 'Reprojected'])\n",
    "plt.show()"
   ]
  },
  {
   "cell_type": "code",
   "execution_count": null,
   "metadata": {},
   "outputs": [],
   "source": []
  }
 ],
 "metadata": {
  "kernelspec": {
   "display_name": "Python 3",
   "language": "python",
   "name": "python3"
  },
  "language_info": {
   "codemirror_mode": {
    "name": "ipython",
    "version": 3
   },
   "file_extension": ".py",
   "mimetype": "text/x-python",
   "name": "python",
   "nbconvert_exporter": "python",
   "pygments_lexer": "ipython3",
   "version": "3.7.1"
  }
 },
 "nbformat": 4,
 "nbformat_minor": 2
}
