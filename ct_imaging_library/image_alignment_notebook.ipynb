{
 "cells": [
  {
   "cell_type": "code",
   "execution_count": 1,
   "metadata": {},
   "outputs": [],
   "source": [
    "import numpy as np\n",
    "import matplotlib.pyplot as plt\n",
    "import transforms3d as t3d\n",
    "import itertools\n",
    "from tqdm import tqdm"
   ]
  },
  {
   "cell_type": "code",
   "execution_count": 2,
   "metadata": {},
   "outputs": [],
   "source": [
    "#good optimizers:\n",
    "#https://nlopt.readthedocs.io/en/latest/\n",
    "#pagmo / pygmo\n",
    "\n",
    "#mystic might be the best: https://github.com/uqfoundation/mystic \n",
    "#http://trac.mystic.cacr.caltech.edu/project/mystic/wiki.html"
   ]
  },
  {
   "cell_type": "code",
   "execution_count": 3,
   "metadata": {},
   "outputs": [],
   "source": [
    "from sklearn.metrics import mean_squared_error\n",
    "\n",
    "def convert_quat_and_cart_to_homogeneous(q, xyz):\n",
    "    T = np.eye(4)\n",
    "    T[:3,:3] = t3d.quaternions.quat2mat(q)\n",
    "    T[:3,3] = xyz\n",
    "    return T\n",
    "\n",
    "def generate_random_homogeneous_transform():\n",
    "    q = np.random.dirichlet([1.3, 1.3, 1.3, 1.3], size = 1).squeeze()\n",
    "    xyz = np.random.rand(3)\n",
    "    return convert_quat_and_cart_to_homogeneous(q, xyz)\n",
    "\n",
    "def list_permuter(list1, list2):\n",
    "    #subitem for item in a for subitem in (item if isinstance(item, list) else [item])\n",
    "    return [[subitem for item in pair for subitem in (item if isinstance(item, list) else [item])] for\n",
    "            pair in itertools.product(list1,list2)]\n",
    "\n"
   ]
  },
  {
   "cell_type": "code",
   "execution_count": 4,
   "metadata": {},
   "outputs": [],
   "source": [
    "#define all the points of the object\n",
    "alpha = 0.05\n",
    "\n",
    "point_positions = np.array([[1, -1, 0],[-1, -1, 0], [-1, 1, 0],[1, 0, -1],[-np.cos(np.pi/3), -np.sin(np.pi/3), -1],\n",
    "                            [-np.cos(np.pi/3), np.sin(np.pi/3), -1]]).T\n",
    "\n",
    "point_positions = point_positions * 25.4\n",
    "\n",
    "point_positions_noisy = point_positions + np.random.normal(loc=0.0, scale=alpha, size = point_positions.shape)"
   ]
  },
  {
   "cell_type": "code",
   "execution_count": 5,
   "metadata": {},
   "outputs": [],
   "source": [
    "T = generate_random_homogeneous_transform()\n",
    "\n",
    "point_positions = np.vstack([point_positions, np.ones(6)])\n",
    "point_positions_noisy = np.vstack([point_positions_noisy, np.ones(6)])\n",
    "point_positions_noisy_transformed = T @ point_positions_noisy\n",
    "\n",
    "point_permutations = np.array(list(itertools.permutations(list(range(6)), 6)))"
   ]
  },
  {
   "cell_type": "code",
   "execution_count": 6,
   "metadata": {},
   "outputs": [
    {
     "name": "stdout",
     "output_type": "stream",
     "text": [
      "[[  6.91846468 -25.08694398  -5.8229602   -0.58032619 -33.02142072\n",
      "  -16.29572746]\n",
      " [ 33.83079813  -3.19212072 -33.20179198  27.87789213  12.9635078\n",
      "  -12.90009636]\n",
      " [-11.33178091 -24.66898717  11.65979501  23.28856461  -2.52349564\n",
      "   28.93890671]\n",
      " [  1.           1.           1.           1.           1.\n",
      "    1.        ]]\n",
      "[[  6.91846468 -25.08694398  -5.8229602   -0.58032619 -16.29572746\n",
      "  -33.02142072]\n",
      " [ 33.83079813  -3.19212072 -33.20179198  27.87789213 -12.90009636\n",
      "   12.9635078 ]\n",
      " [-11.33178091 -24.66898717  11.65979501  23.28856461  28.93890671\n",
      "   -2.52349564]\n",
      " [  1.           1.           1.           1.           1.\n",
      "    1.        ]]\n"
     ]
    }
   ],
   "source": [
    "print(point_positions_noisy_transformed[:,point_permutations[0,:]])\n",
    "print(point_positions_noisy_transformed[:,point_permutations[1,:]])"
   ]
  },
  {
   "cell_type": "code",
   "execution_count": 19,
   "metadata": {},
   "outputs": [
    {
     "data": {
      "text/plain": [
       "array([[  0.        , -37.04723667, -50.76651019, -49.36142105,\n",
       "        -37.46179573,   0.87434147],\n",
       "       [  0.        , -25.69112918,   0.4429512 ,   0.90420917,\n",
       "        -26.09771512, -26.29564081],\n",
       "       [  0.        , -48.75635196,  -1.60642665, -52.43259662,\n",
       "         -4.60483183, -26.03838797]])"
      ]
     },
     "execution_count": 19,
     "metadata": {},
     "output_type": "execute_result"
    }
   ],
   "source": [
    "point_positions_noisy_transformed[0:3,:] - point_positions_noisy_transformed[0:3,0,None].repeat(6,axis=1) \n",
    "\n"
   ]
  },
  {
   "cell_type": "code",
   "execution_count": 14,
   "metadata": {},
   "outputs": [],
   "source": [
    "centroids = np.load('centroids.npy')\n",
    "centroids = np.vstack([centroids.T, np.ones(6)])\n",
    "point_positions_noisy_transformed = np.array([centroids[0,:], centroids[1,:], -centroids[2,:], centroids[3,:]])\n",
    "#point_positions_noisy_transformed = np.array([centroids[1,:], centroids[2,:], centroids[0,:], centroids[3,:]])\n",
    "#point_positions_noisy_transformed = np.array([centroids[1,:], centroids[2,:], centroids[0,:], centroids[3,:]])"
   ]
  },
  {
   "cell_type": "code",
   "execution_count": 11,
   "metadata": {},
   "outputs": [
    {
     "name": "stderr",
     "output_type": "stream",
     "text": [
      "100%|██████████| 720/720 [01:21<00:00,  8.86it/s]\n"
     ]
    }
   ],
   "source": [
    "from scipy.optimize import minimize\n",
    "\n",
    "# generate quaternion and xyz translation vector\n",
    "# constraints: ||q|| = 1, |xyz| < 10\n",
    "# loss: loss(point_positions, convert_quat_and_cart_to_homogeneous(q,xyz)@point_positions_noisy)\n",
    "def objective(quat_xyz, point_positions, observed_point_positions):\n",
    "    #returns MSE between points\n",
    "    q = quat_xyz[0:4]\n",
    "    xyz = quat_xyz[4:]\n",
    "    T = convert_quat_and_cart_to_homogeneous(q,xyz)\n",
    "    return mean_squared_error(T@point_positions, observed_point_positions)\n",
    "\n",
    "def eq_constraint(quat_xyz):\n",
    "    return np.sum(quat_xyz[:4]) - 1\n",
    "\n",
    "results = []\n",
    "error = []\n",
    "for i in tqdm(range(point_permutations.shape[0])):\n",
    "    result = minimize(objective, x0 = np.array([0,0,0,1,0,0,0]), args=(point_positions, point_positions_noisy_transformed[:,point_permutations[i,:]]), method = 'SLSQP', constraints={\"fun\": eq_constraint, \"type\": \"eq\"})\n",
    "    #print(result)\n",
    "    results.append(result)\n",
    "    error.append(result['fun'])\n",
    "error = np.array(error)\n",
    "\n"
   ]
  },
  {
   "cell_type": "code",
   "execution_count": 12,
   "metadata": {},
   "outputs": [
    {
     "data": {
      "image/png": "[encoded data removed]",
      "text/plain": [
       "<Figure size 1080x360 with 3 Axes>"
      ]
     },
     "metadata": {
      "needs_background": "light"
     },
     "output_type": "display_data"
    }
   ],
   "source": [
    "plt.rcParams['figure.figsize'] = [15, 5]\n",
    "\n",
    "min_error = np.amin(error)\n",
    "min_error_index = np.argmin(error)\n",
    "max_error = np.amax(error)\n",
    "max_error_index = np.argmax(error)\n",
    "\n",
    "quat_xyz = results[min_error_index]['x']\n",
    "T = convert_quat_and_cart_to_homogeneous(quat_xyz[:4], quat_xyz[4:])\n",
    "\n",
    "quat_xyz_worst = results[max_error_index]['x']\n",
    "T_worst = convert_quat_and_cart_to_homogeneous(quat_xyz_worst[:4], quat_xyz_worst[4:])\n",
    "\n",
    "plt.figure()\n",
    "plt.subplot(1,3,1)\n",
    "plt.scatter(point_positions_noisy_transformed[0,:], point_positions_noisy_transformed[2,:])\n",
    "plt.scatter((T@point_positions)[0,:], (T@point_positions)[2,:])\n",
    "plt.legend(['Observed', 'Reprojected'])\n",
    "plt.title('Best transform')\n",
    "\n",
    "plt.subplot(1,3,2)\n",
    "plt.scatter(point_positions_noisy_transformed[0,:], point_positions_noisy_transformed[2,:])\n",
    "plt.scatter((T_worst@point_positions)[0,:], (T_worst@point_positions)[2,:])\n",
    "plt.legend(['Observed', 'Reprojected'])\n",
    "plt.title('Worst transform')\n",
    "\n",
    "plt.subplot(1,3,3)\n",
    "plt.plot(error)\n",
    "plt.title('Error (MSE)')\n",
    "plt.scatter([min_error_index], [min_error])\n",
    "plt.scatter([max_error_index], [max_error])\n",
    "plt.legend(['Error plot','Min error', 'Max error'])\n",
    "plt.savefig('image_alignment_test.png', bbox_inches='tight')\n",
    "\n",
    "plt.show()\n",
    "\n"
   ]
  },
  {
   "cell_type": "code",
   "execution_count": 13,
   "metadata": {},
   "outputs": [
    {
     "data": {
      "text/plain": [
       "     fun: 51.272798838772424\n",
       "     jac: array([ 0.01394081,  0.01426172,  0.01382685,  0.01389027,  0.00769901,\n",
       "       -0.00288486,  0.02139521])\n",
       " message: 'Optimization terminated successfully.'\n",
       "    nfev: 776\n",
       "     nit: 82\n",
       "    njev: 82\n",
       "  status: 0\n",
       " success: True\n",
       "       x: array([  -48.66071836,  -653.48380621, -3400.8717358 ,  4104.01626038,\n",
       "         -64.58279153,   166.69208132,   141.19109397])"
      ]
     },
     "execution_count": 13,
     "metadata": {},
     "output_type": "execute_result"
    }
   ],
   "source": [
    "results[min_error_index]"
   ]
  },
  {
   "cell_type": "code",
   "execution_count": 44,
   "metadata": {},
   "outputs": [
    {
     "name": "stdout",
     "output_type": "stream",
     "text": [
      "[[191.64069101 192.05932444 192.24353003 166.33382328 166.568035\n",
      "  166.72756171]\n",
      " [170.00733542 119.8283411  127.73785554 173.76966724 132.71050128\n",
      "  139.56034172]\n",
      " [ 33.40261143  41.31040979  91.49054181  58.61624475  42.81845897\n",
      "   86.27572806]\n",
      " [  1.           1.           1.           1.           1.\n",
      "    1.        ]]\n"
     ]
    }
   ],
   "source": [
    "print((T@point_positions))"
   ]
  },
  {
   "cell_type": "code",
   "execution_count": 43,
   "metadata": {},
   "outputs": [
    {
     "data": {
      "text/plain": [
       "array([[ 87.94611307,  50.8988764 ,  37.17960289,  38.58469203,\n",
       "         50.48431734,  88.82045455],\n",
       "       [192.05172018, 166.360591  , 192.49467138, 192.95592935,\n",
       "        165.95400506, 165.75607937],\n",
       "       [121.69589517, 170.45224713, 123.30232181, 174.12849178,\n",
       "        126.300727  , 147.73428313],\n",
       "       [  1.        ,   1.        ,   1.        ,   1.        ,\n",
       "          1.        ,   1.        ]])"
      ]
     },
     "execution_count": 43,
     "metadata": {},
     "output_type": "execute_result"
    }
   ],
   "source": [
    "centroids"
   ]
  },
  {
   "cell_type": "code",
   "execution_count": null,
   "metadata": {},
   "outputs": [],
   "source": []
  }
 ],
 "metadata": {
  "kernelspec": {
   "display_name": "Python 3",
   "language": "python",
   "name": "python3"
  },
  "language_info": {
   "codemirror_mode": {
    "name": "ipython",
    "version": 3
   },
   "file_extension": ".py",
   "mimetype": "text/x-python",
   "name": "python",
   "nbconvert_exporter": "python",
   "pygments_lexer": "ipython3",
   "version": "3.7.1"
  }
 },
 "nbformat": 4,
 "nbformat_minor": 2
}
