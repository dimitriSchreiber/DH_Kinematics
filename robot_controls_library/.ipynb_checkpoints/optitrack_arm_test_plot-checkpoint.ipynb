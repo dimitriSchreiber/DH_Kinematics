{
 "cells": [
  {
   "cell_type": "code",
   "execution_count": 1,
   "metadata": {},
   "outputs": [],
   "source": [
    "import numpy as np\n",
    "import matplotlib.pyplot as plt\n",
    "import time\n",
    "import sys\n",
    "import armControl\n",
    "import signal\n",
    "\n",
    "sys.path.append(\"..\")\n",
    "sys.path.append(\"../../\")\n",
    "\n",
    "from armControl import *\n",
    "from importlib import reload\n",
    "from forwardKinematics import robot_config\n",
    "from utils.motor_setup import maxonGearSmall\n",
    "import transforms3d as tf3d\n",
    "from utils.NatNetClient2 import NatNetClient\n",
    "from utils.GetJointData import data, NatNetFuncs #receiveNewFrame, receiveRigidBodyFrameList\n",
    "from utils.getRobotPose import getOptitrackPose"
   ]
  },
  {
   "cell_type": "code",
   "execution_count": 2,
   "metadata": {},
   "outputs": [
    {
     "name": "stdout",
     "output_type": "stream",
     "text": [
      "Opening socket at ip: 192.168.0.115 using port: 1122\n"
     ]
    },
    {
     "ename": "OSError",
     "evalue": "[Errno 113] No route to host",
     "output_type": "error",
     "traceback": [
      "\u001b[0;31m---------------------------------------------------------------------------\u001b[0m",
      "\u001b[0;31mOSError\u001b[0m                                   Traceback (most recent call last)",
      "\u001b[0;32m<ipython-input-2-1f45c020f7b3>\u001b[0m in \u001b[0;36m<module>\u001b[0;34m\u001b[0m\n\u001b[1;32m      3\u001b[0m \u001b[0;34m\u001b[0m\u001b[0m\n\u001b[1;32m      4\u001b[0m \u001b[0mmotors\u001b[0m \u001b[0;34m=\u001b[0m \u001b[0mmaxonGearSmall\u001b[0m\u001b[0;34m(\u001b[0m\u001b[0;34m)\u001b[0m\u001b[0;34m\u001b[0m\u001b[0;34m\u001b[0m\u001b[0m\n\u001b[0;32m----> 5\u001b[0;31m \u001b[0mmotors\u001b[0m\u001b[0;34m.\u001b[0m\u001b[0mtcp_init\u001b[0m\u001b[0;34m(\u001b[0m\u001b[0msocket_ip\u001b[0m\u001b[0;34m,\u001b[0m \u001b[0msocket_port\u001b[0m\u001b[0;34m)\u001b[0m\u001b[0;34m\u001b[0m\u001b[0;34m\u001b[0m\u001b[0m\n\u001b[0m",
      "\u001b[0;32m~/DH_Kinematics/robot_controls_library/utils/motor_setup.py\u001b[0m in \u001b[0;36mtcp_init\u001b[0;34m(self, socket_ip, socket_port)\u001b[0m\n\u001b[1;32m     68\u001b[0m         \u001b[0;32mdef\u001b[0m \u001b[0mtcp_init\u001b[0m\u001b[0;34m(\u001b[0m\u001b[0mself\u001b[0m\u001b[0;34m,\u001b[0m \u001b[0msocket_ip\u001b[0m\u001b[0;34m,\u001b[0m \u001b[0msocket_port\u001b[0m\u001b[0;34m)\u001b[0m\u001b[0;34m:\u001b[0m\u001b[0;34m\u001b[0m\u001b[0;34m\u001b[0m\u001b[0m\n\u001b[1;32m     69\u001b[0m                 \u001b[0mself\u001b[0m\u001b[0;34m.\u001b[0m\u001b[0mtcp\u001b[0m \u001b[0;34m=\u001b[0m \u001b[0mtcp_communication\u001b[0m\u001b[0;34m(\u001b[0m\u001b[0msocket_ip\u001b[0m\u001b[0;34m,\u001b[0m \u001b[0msocket_port\u001b[0m\u001b[0;34m)\u001b[0m\u001b[0;34m\u001b[0m\u001b[0;34m\u001b[0m\u001b[0m\n\u001b[0;32m---> 70\u001b[0;31m                 \u001b[0mself\u001b[0m\u001b[0;34m.\u001b[0m\u001b[0mclient_socket\u001b[0m \u001b[0;34m=\u001b[0m \u001b[0mself\u001b[0m\u001b[0;34m.\u001b[0m\u001b[0mtcp\u001b[0m\u001b[0;34m.\u001b[0m\u001b[0mopen_socket\u001b[0m\u001b[0;34m(\u001b[0m\u001b[0;34m)\u001b[0m\u001b[0;34m\u001b[0m\u001b[0;34m\u001b[0m\u001b[0m\n\u001b[0m\u001b[1;32m     71\u001b[0m                 \u001b[0mself\u001b[0m\u001b[0;34m.\u001b[0m\u001b[0mclient_socket\u001b[0m\u001b[0;34m.\u001b[0m\u001b[0msettimeout\u001b[0m\u001b[0;34m(\u001b[0m\u001b[0;36m1.0\u001b[0m\u001b[0;34m)\u001b[0m \u001b[0;31m#THIS IS NEW 1/17/2019 and may cause issues\u001b[0m\u001b[0;34m\u001b[0m\u001b[0;34m\u001b[0m\u001b[0m\n\u001b[1;32m     72\u001b[0m                 \u001b[0mIsWindows\u001b[0m \u001b[0;34m=\u001b[0m \u001b[0mos\u001b[0m\u001b[0;34m.\u001b[0m\u001b[0mname\u001b[0m \u001b[0;34m==\u001b[0m \u001b[0;34m'nt'\u001b[0m\u001b[0;34m\u001b[0m\u001b[0;34m\u001b[0m\u001b[0m\n",
      "\u001b[0;32m~/DH_Kinematics/robot_controls_library/utils/tcp_class.py\u001b[0m in \u001b[0;36mopen_socket\u001b[0;34m(self)\u001b[0m\n\u001b[1;32m     11\u001b[0m                 \u001b[0mprint\u001b[0m\u001b[0;34m(\u001b[0m\u001b[0;34m\"Opening socket at ip: {} using port: {}\"\u001b[0m\u001b[0;34m.\u001b[0m\u001b[0mformat\u001b[0m\u001b[0;34m(\u001b[0m\u001b[0mself\u001b[0m\u001b[0;34m.\u001b[0m\u001b[0mip\u001b[0m\u001b[0;34m,\u001b[0m \u001b[0mself\u001b[0m\u001b[0;34m.\u001b[0m\u001b[0mport\u001b[0m\u001b[0;34m)\u001b[0m\u001b[0;34m)\u001b[0m\u001b[0;34m\u001b[0m\u001b[0;34m\u001b[0m\u001b[0m\n\u001b[1;32m     12\u001b[0m                 \u001b[0mCLIENT_SOCKET\u001b[0m \u001b[0;34m=\u001b[0m \u001b[0msocket\u001b[0m\u001b[0;34m.\u001b[0m\u001b[0msocket\u001b[0m\u001b[0;34m(\u001b[0m\u001b[0msocket\u001b[0m\u001b[0;34m.\u001b[0m\u001b[0mAF_INET\u001b[0m\u001b[0;34m,\u001b[0m \u001b[0msocket\u001b[0m\u001b[0;34m.\u001b[0m\u001b[0mSOCK_STREAM\u001b[0m\u001b[0;34m)\u001b[0m\u001b[0;34m\u001b[0m\u001b[0;34m\u001b[0m\u001b[0m\n\u001b[0;32m---> 13\u001b[0;31m                 \u001b[0mCLIENT_SOCKET\u001b[0m\u001b[0;34m.\u001b[0m\u001b[0mconnect\u001b[0m\u001b[0;34m(\u001b[0m\u001b[0;34m(\u001b[0m\u001b[0mself\u001b[0m\u001b[0;34m.\u001b[0m\u001b[0mip\u001b[0m\u001b[0;34m,\u001b[0m \u001b[0mself\u001b[0m\u001b[0;34m.\u001b[0m\u001b[0mport\u001b[0m\u001b[0;34m)\u001b[0m\u001b[0;34m)\u001b[0m\u001b[0;34m\u001b[0m\u001b[0;34m\u001b[0m\u001b[0m\n\u001b[0m\u001b[1;32m     14\u001b[0m                 \u001b[0mCLIENT_SOCKET\u001b[0m\u001b[0;34m.\u001b[0m\u001b[0msetblocking\u001b[0m\u001b[0;34m(\u001b[0m\u001b[0;36m1\u001b[0m\u001b[0;34m)\u001b[0m\u001b[0;34m\u001b[0m\u001b[0;34m\u001b[0m\u001b[0m\n\u001b[1;32m     15\u001b[0m                 \u001b[0;31m#CLIENT_SOCKET.settimeout(1) #if setblocking is 1, this is basically settimeout(None)\u001b[0m\u001b[0;34m\u001b[0m\u001b[0;34m\u001b[0m\u001b[0;34m\u001b[0m\u001b[0m\n",
      "\u001b[0;31mOSError\u001b[0m: [Errno 113] No route to host"
     ]
    }
   ],
   "source": [
    "socket_ip = '192.168.0.115'\n",
    "socket_port = 1122\n",
    "\n",
    "motors = maxonGearSmall()\n",
    "motors.tcp_init(socket_ip, socket_port)"
   ]
  },
  {
   "cell_type": "code",
   "execution_count": 2,
   "metadata": {},
   "outputs": [
    {
     "ename": "NameError",
     "evalue": "name 'armControl' is not defined",
     "output_type": "error",
     "traceback": [
      "\u001b[0;31m---------------------------------------------------------------------------\u001b[0m",
      "\u001b[0;31mNameError\u001b[0m                                 Traceback (most recent call last)",
      "\u001b[0;32m<ipython-input-2-98ad3e992827>\u001b[0m in \u001b[0;36m<module>\u001b[0;34m\u001b[0m\n\u001b[1;32m      1\u001b[0m \u001b[0;32mfrom\u001b[0m \u001b[0mimportlib\u001b[0m \u001b[0;32mimport\u001b[0m \u001b[0mreload\u001b[0m\u001b[0;34m\u001b[0m\u001b[0;34m\u001b[0m\u001b[0m\n\u001b[0;32m----> 2\u001b[0;31m \u001b[0mreload\u001b[0m\u001b[0;34m(\u001b[0m\u001b[0marmControl\u001b[0m\u001b[0;34m)\u001b[0m\u001b[0;34m\u001b[0m\u001b[0;34m\u001b[0m\u001b[0m\n\u001b[0m\u001b[1;32m      3\u001b[0m \u001b[0mmyArm\u001b[0m \u001b[0;34m=\u001b[0m \u001b[0marmControl\u001b[0m\u001b[0;34m.\u001b[0m\u001b[0mremoteRobotArm\u001b[0m\u001b[0;34m(\u001b[0m\u001b[0;34m)\u001b[0m\u001b[0;34m\u001b[0m\u001b[0;34m\u001b[0m\u001b[0m\n\u001b[1;32m      4\u001b[0m \u001b[0minit_pos\u001b[0m \u001b[0;34m=\u001b[0m \u001b[0mnp\u001b[0m\u001b[0;34m.\u001b[0m\u001b[0marray\u001b[0m\u001b[0;34m(\u001b[0m\u001b[0;34m[\u001b[0m\u001b[0;34m-\u001b[0m\u001b[0;36m0.000\u001b[0m\u001b[0;34m,\u001b[0m\u001b[0;36m0.000\u001b[0m\u001b[0;34m,\u001b[0m\u001b[0;36m0\u001b[0m\u001b[0;34m,\u001b[0m\u001b[0;34m-\u001b[0m\u001b[0;36m0.4\u001b[0m\u001b[0;34m,\u001b[0m\u001b[0;34m-\u001b[0m\u001b[0;36m0.4\u001b[0m\u001b[0;34m,\u001b[0m\u001b[0;34m-\u001b[0m\u001b[0;36m1\u001b[0m\u001b[0;34m,\u001b[0m\u001b[0;34m-\u001b[0m\u001b[0;36m0.04\u001b[0m\u001b[0;34m]\u001b[0m\u001b[0;34m)\u001b[0m\u001b[0;34m\u001b[0m\u001b[0;34m\u001b[0m\u001b[0m\n\u001b[1;32m      5\u001b[0m \u001b[0msetpoint_arm\u001b[0m \u001b[0;34m=\u001b[0m \u001b[0minit_pos\u001b[0m\u001b[0;34m\u001b[0m\u001b[0;34m\u001b[0m\u001b[0m\n",
      "\u001b[0;31mNameError\u001b[0m: name 'armControl' is not defined"
     ]
    }
   ],
   "source": [
    "# Set to original position\n",
    "reload(armControl)\n",
    "myArm = armControl.remoteRobotArm()\n",
    "init_pos = np.array([-0.000,0.000,0,-0.6,-0.3,-1,-0.04])\n",
    "setpoint_arm = init_pos\n",
    "myArm.commandJoints(motors, setpoint_arm)"
   ]
  },
  {
   "cell_type": "code",
   "execution_count": null,
   "metadata": {},
   "outputs": [],
   "source": [
    "print_trak_data = False\n",
    "print_cartesian = True\n",
    "\n",
    "server_ip = \"192.168.0.111\"\n",
    "multicastAddress = \"239.255.42.99\"\n",
    "\n",
    "joint_names = ['RigidBody']\n",
    "ids = [0]\n",
    "\n",
    "#Tracking class\n",
    "print(\"Starting streaming client now...\")\n",
    "streamingClient = NatNetClient(server_ip, multicastAddress, verbose = print_trak_data)\n",
    "NatNet = NatNetFuncs()\n",
    "streamingClient.newFrameListener = NatNet.receiveNewFrame\n",
    "streamingClient.rigidBodyListListener = NatNet.receiveRigidBodyFrameList\n",
    "\n",
    "prev_frame = 0\n",
    "time.sleep(0.5)\n",
    "\n",
    "streamingClient.run()\n",
    "\n",
    "time.sleep(0.5)\n",
    "\n",
    "track_data = data(joint_names,ids)\n",
    "\n",
    "time.sleep(0.5)\n",
    "\n",
    "track_data.parse_data(NatNet.joint_data, NatNet.frame) #updates the frame and data that is being used\n",
    "#debug values"
   ]
  },
  {
   "cell_type": "code",
   "execution_count": null,
   "metadata": {},
   "outputs": [],
   "source": [
    "dt = 0.005\n",
    "runtime = 16\n",
    "num_elements = int(runtime/dt)\n",
    "velocity = np.ones(8)*3.14/20\n",
    "setpoints = np.zeros((num_elements, 7))\n",
    "frequency = 0.3\n",
    "amplitude = np.pi/10\n",
    "for i in range(num_elements):\n",
    "    setpoints[i,3:-1] = (np.ones(3) * np.sin(i*dt*2*pi*frequency)*amplitude)\n",
    "    \n",
    "myArm.commandJoints(motors, init_pos[0,:], trajectory=True)\n",
    "\n",
    "for i in range(num_elements):\n",
    "    setpoint = setpoints[i]\n",
    "    myArm.commandJoints(motors, setpoint, trajectory=False)\n",
    "    \n",
    "    base = track_data.bodies[0].homogenous_mat\n",
    "    base_inv = track_data.bodies[0].homg_inv\n",
    "    rgdbdy1 = track_data.bodies[0].homogenous_mat\n",
    "    \n",
    "    rgdbdy1_base, rgdbdy1_pos, rgdbdy1_euler, _ = track_data.homg_mat_mult(base_inv,rgdbdy1)\n",
    "    \n",
    "    rgdbdy1_deg = np.array(rgdbdy1_euler)*180/np.pi\n",
    "    rgdbdy1_pos_mm = np.array(rgdbdy1_pos)*1000\n",
    "    track_data.parse_data(NatNet.joint_data, NatNet.frame) #updates the frame and data that is being used\n",
    "    time.sleep(dt)\n",
    "    print(\"rgdbdy_pos:, {}\" .format(rgdbdy1_pos_mm))\n",
    "time.sleep(1.5)"
   ]
  },
  {
   "cell_type": "code",
   "execution_count": null,
   "metadata": {},
   "outputs": [],
   "source": [
    "plt.figure()\n",
    "plt.plot(rgdbdy1_pos_mm[0], label='x')\n",
    "plt.plot(rgdbdy1_pos_mm[1], label='y')\n",
    "plt.plot(rgdbdy1_pos_mm[2], label='z')\n",
    "plt.legend()\n",
    "plt.title('Trajectory of needle frame over time')"
   ]
  },
  {
   "cell_type": "code",
   "execution_count": null,
   "metadata": {},
   "outputs": [],
   "source": []
  }
 ],
 "metadata": {
  "kernelspec": {
   "display_name": "Python 3",
   "language": "python",
   "name": "python3"
  },
  "language_info": {
   "codemirror_mode": {
    "name": "ipython",
    "version": 3
   },
   "file_extension": ".py",
   "mimetype": "text/x-python",
   "name": "python",
   "nbconvert_exporter": "python",
   "pygments_lexer": "ipython3",
   "version": "3.6.8"
  }
 },
 "nbformat": 4,
 "nbformat_minor": 2
}
