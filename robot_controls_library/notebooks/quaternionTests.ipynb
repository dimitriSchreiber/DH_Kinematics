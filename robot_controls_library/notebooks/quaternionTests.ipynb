{
 "cells": [
  {
   "cell_type": "code",
   "execution_count": 5,
   "metadata": {},
   "outputs": [],
   "source": [
    "import transforms3d as t3d\n",
    "import numpy as np\n",
    "import sys\n",
    "\n",
    "sys.path.append(\"../../\")\n",
    "from utils.quaternion_functions import quat_average"
   ]
  },
  {
   "cell_type": "code",
   "execution_count": 11,
   "metadata": {},
   "outputs": [
    {
     "data": {
      "text/plain": [
       "array([[0.       , 1.       , 0.       , 0.       ],\n",
       "       [0.7071068, 0.7071068, 0.       , 0.       ]])"
      ]
     },
     "execution_count": 11,
     "metadata": {},
     "output_type": "execute_result"
    }
   ],
   "source": [
    "np.array([q1,q2])"
   ]
  },
  {
   "cell_type": "code",
   "execution_count": 17,
   "metadata": {},
   "outputs": [
    {
     "name": "stdout",
     "output_type": "stream",
     "text": [
      "[[1 2]\n",
      " [3 4]]\n",
      "[2. 3.]\n"
     ]
    }
   ],
   "source": [
    "a = np.array([[1, 2], [3, 4]])\n",
    "print(a)\n",
    "b = np.mean(a, axis=0)\n",
    "print(b)"
   ]
  },
  {
   "cell_type": "code",
   "execution_count": 15,
   "metadata": {},
   "outputs": [
    {
     "name": "stdout",
     "output_type": "stream",
     "text": [
      "axis angle of q1: (array([1., 0., 0.]), 3.141592653589793)\n",
      "axis angle of q2: (array([1., 0., 0.]), 1.5707963267948966)\n",
      "average: (array([1., 0., 0.]), 2.356194490192345)\n",
      "axis angle difference from mean of q1: (array([1., 0., 0.]), 0.7853981633974478)\n",
      "axis angle difference from mean of q2: (array([-1.,  0.,  0.]), 0.785398163397449)\n"
     ]
    }
   ],
   "source": [
    "import numpy as np\n",
    "\n",
    "#https://www.andre-gaschler.com/rotationconverter/\n",
    "q1 = [0, 1, 0, 0] # 180 degree rotation around axis 0\n",
    "q2 = [0.7071068, 0.7071068, 0, 0] # 90 degree rotation around axis 0\n",
    "avg = quat_average(np.array([q1,q2]),np.ones(2)/2)\n",
    "print('axis angle of q1: {}'.format(t3d.quaternions.quat2axangle(q1)))\n",
    "print('axis angle of q2: {}'.format(t3d.quaternions.quat2axangle(q2)))\n",
    "print('average: {}'.format(t3d.quaternions.quat2axangle(avg)))\n",
    "\n",
    "avg_inv = t3d.quaternions.qinverse(avg)    \n",
    "q1_error = t3d.quaternions.qmult(q1,avg_inv)\n",
    "q2_error = t3d.quaternions.qmult(q2,avg_inv)\n",
    "print('axis angle difference from mean of q1: {}'\n",
    "      .format(t3d.quaternions.quat2axangle(q1_error)))\n",
    "print('axis angle difference from mean of q2: {}'\n",
    "      .format(t3d.quaternions.quat2axangle(q2_error)))\n"
   ]
  }
 ],
 "metadata": {
  "kernelspec": {
   "display_name": "Python 3",
   "language": "python",
   "name": "python3"
  },
  "language_info": {
   "codemirror_mode": {
    "name": "ipython",
    "version": 3
   },
   "file_extension": ".py",
   "mimetype": "text/x-python",
   "name": "python",
   "nbconvert_exporter": "python",
   "pygments_lexer": "ipython3",
   "version": "3.6.7"
  }
 },
 "nbformat": 4,
 "nbformat_minor": 2
}
