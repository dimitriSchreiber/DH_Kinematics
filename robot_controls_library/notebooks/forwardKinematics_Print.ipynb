{
 "cells": [
  {
   "cell_type": "markdown",
   "metadata": {},
   "source": [
    "# setup"
   ]
  },
  {
   "cell_type": "code",
   "execution_count": 5,
   "metadata": {},
   "outputs": [],
   "source": [
    "import sys\n",
    "sys.path.append(\"..\")\n",
    "\n",
    "from forwardKinematics import robot_config\n",
    "import numpy as np\n",
    "import time\n",
    "\n",
    "pi = np.pi\n",
    "myRobot = robot_config()"
   ]
  },
  {
   "cell_type": "markdown",
   "metadata": {},
   "source": [
    "# check forward kinematics speed and behavior"
   ]
  },
  {
   "cell_type": "code",
   "execution_count": 10,
   "metadata": {},
   "outputs": [
    {
     "name": "stdout",
     "output_type": "stream",
     "text": [
      "Joint angles/positions [0.5  0.25 0.   0.   0.   0.   0.  ]\n",
      "0.0013133034706115723\n",
      "Forward kinematic positions: [[ 0.00000000e+00  5.00000000e-01  3.06161700e-17]\n",
      " [-2.50000000e-01  5.00000000e-01  6.12323400e-17]\n",
      " [-2.05000000e+00  5.00000000e-01  2.81668764e-16]\n",
      " [-2.16300000e+00  5.00000000e-01  2.95507273e-16]\n",
      " [-2.24300000e+00  5.00000000e-01  3.10203034e-16]\n",
      " [-2.32300000e+00  5.00000000e-01  3.24898796e-16]\n",
      " [-2.49800000e+00  5.00000000e-01  2.30000000e-02]]\n",
      "0.0015666913986206055\n",
      "Forward kinematic orientations: [[ 0.00000000e+00 -7.07106781e-01 -7.07106781e-01  4.32978028e-17]\n",
      " [ 5.00000000e-01 -5.00000000e-01 -5.00000000e-01  5.00000000e-01]\n",
      " [ 5.00000000e-01 -5.00000000e-01 -5.00000000e-01  5.00000000e-01]\n",
      " [ 5.00000000e-01 -5.00000000e-01  5.00000000e-01  5.00000000e-01]\n",
      " [ 1.66533454e-16 -2.22044605e-16  7.07106781e-01  7.07106781e-01]\n",
      " [ 5.00000000e-01 -5.00000000e-01  5.00000000e-01  5.00000000e-01]\n",
      " [ 0.00000000e+00 -7.07106781e-01 -4.32978028e-17  7.07106781e-01]]\n"
     ]
    }
   ],
   "source": [
    "q = np.array([0.5, 0.25, 0., 0., 0., 0., 0.])\n",
    "print(\"Joint angles/positions {}\".format(q))\n",
    "\n",
    "\n",
    "s = time.time()\n",
    "for i in range(1000):\n",
    "\tpositions = myRobot.forwardKinPos(q)\n",
    "dt = time.time()-s\n",
    "print(dt/1000)\n",
    "print('Forward kinematic positions: {}'.format(positions))\n",
    "\n",
    "s = time.time()\n",
    "for i in range(100):\n",
    "\torientation = myRobot.forwardKinOrientation(q)\n",
    "dt = time.time()-s\n",
    "print(dt/100)\n",
    "print('Forward kinematic orientations: {}'.format(orientation))"
   ]
  },
  {
   "cell_type": "code",
   "execution_count": 11,
   "metadata": {},
   "outputs": [
    {
     "name": "stdout",
     "output_type": "stream",
     "text": [
      "7.526087760925292e-05\n",
      "analytic jacobian: \n",
      "[[ 0.0000000e+00 -1.0000000e+00  0.0000000e+00 -0.0000000e+00\n",
      "   0.0000000e+00  0.0000000e+00  0.0000000e+00]\n",
      " [ 1.0000000e+00  6.1232340e-17  0.0000000e+00  0.0000000e+00\n",
      "   0.0000000e+00  0.0000000e+00  0.0000000e+00]\n",
      " [ 6.1232340e-17  1.2246468e-16  0.0000000e+00  0.0000000e+00\n",
      "   0.0000000e+00  0.0000000e+00  0.0000000e+00]\n",
      " [ 0.0000000e+00 -1.0000000e+00 -1.0000000e+00 -6.1232340e-17\n",
      "   0.0000000e+00  0.0000000e+00  0.0000000e+00]\n",
      " [ 1.0000000e+00  6.1232340e-17  6.1232340e-17 -1.0000000e+00\n",
      "   0.0000000e+00  0.0000000e+00  0.0000000e+00]\n",
      " [ 6.1232340e-17  1.2246468e-16  1.2246468e-16 -1.2246468e-16\n",
      "   0.0000000e+00  0.0000000e+00  0.0000000e+00]]\n",
      "0.02265511178970337\n",
      "numeric jacobian: \n",
      "[[ 0.00000000e+00 -1.00000000e+00  0.00000000e+00 -2.30000000e-02\n",
      "   0.00000000e+00 -2.30000000e-02 -1.00000000e+00]\n",
      " [ 1.00000000e+00  0.00000000e+00  2.30000000e-02  0.00000000e+00\n",
      "  -2.55000000e-01  0.00000000e+00  0.00000000e+00]\n",
      " [ 0.00000000e+00  0.00000000e+00  0.00000000e+00 -3.35000000e-01\n",
      "   0.00000000e+00 -1.75000000e-01  0.00000000e+00]\n",
      " [ 0.00000000e+00  0.00000000e+00 -1.57079633e+05  1.57079633e+05\n",
      "   1.00000000e+00  1.57079633e+05  0.00000000e+00]\n",
      " [ 0.00000000e+00  0.00000000e+00 -1.11022302e-11 -1.11022302e-11\n",
      "   0.00000000e+00 -1.11022302e-11  0.00000000e+00]\n",
      " [ 0.00000000e+00  0.00000000e+00  1.57079633e+05 -1.57079633e+05\n",
      "   0.00000000e+00 -1.57079633e+05  0.00000000e+00]]\n",
      "0.0015657846927642823\n",
      "Forward kinematic orientations: [[ 0.00000000e+00 -7.07106781e-01 -7.07106781e-01  4.32978028e-17]\n",
      " [ 5.00000000e-01 -5.00000000e-01 -5.00000000e-01  5.00000000e-01]\n",
      " [ 5.00000000e-01 -5.00000000e-01 -5.00000000e-01  5.00000000e-01]\n",
      " [ 5.00000000e-01 -5.00000000e-01  5.00000000e-01  5.00000000e-01]\n",
      " [ 1.66533454e-16 -2.22044605e-16  7.07106781e-01  7.07106781e-01]\n",
      " [ 5.00000000e-01 -5.00000000e-01  5.00000000e-01  5.00000000e-01]\n",
      " [ 0.00000000e+00 -7.07106781e-01 -4.32978028e-17  7.07106781e-01]]\n",
      "0.0012620749473571777\n"
     ]
    }
   ],
   "source": [
    "\n",
    "# calculate position of the end-effector\n",
    "#xyz = myRobot.Tx('EE', q)\n",
    "#print('XYZ forward kin: {}'.format(xyz))\n",
    "#print(xyz.shape)\n",
    "#print(type(xyz))\n",
    "# calculate the Jacobian for the end effector\n",
    "s = time.time()\n",
    "for i in range(1000):\n",
    "\tJEE = myRobot.J('j4', q)\n",
    "dt = time.time()-s\n",
    "print(dt/1000)\n",
    "print(\"analytic jacobian: \\n{}\".format(JEE))\n",
    "\n",
    "def calculateJacobian(q, num_joints = 7, dx = 1e-5):\n",
    "\tjacobian = np.zeros((6,num_joints))\n",
    "\tfor i in range(num_joints):\n",
    "\t\tq_plus = q.copy()\n",
    "\t\tq_plus[i] += dx\n",
    "\t\tq_minus = q.copy()\n",
    "\t\tq_minus[i] -= dx\n",
    "\t\tx_plus = myRobot.Tx('EE', q_plus)\n",
    "\t\tx_minus = myRobot.Tx('EE', q_minus)\n",
    "\t\tjacobian[:3, i] = (x_plus - x_minus) / (2*dx)\n",
    "\n",
    "\t\tqEE_plus = myRobot.Te('EE', q_plus)\n",
    "\t\tqEE_minus = myRobot.Te('EE', q_minus)\n",
    "\t\tjacobian[3:, i] = (qEE_plus - qEE_minus) / (2*dx)\n",
    "\n",
    "\treturn jacobian\n",
    "\n",
    "s = time.time()\n",
    "for i in range(1000):\n",
    "\tJEE_numerical = calculateJacobian(q)\n",
    "dt = time.time()-s\n",
    "print(dt/1000)\n",
    "print(\"numeric jacobian: \\n{}\".format(JEE_numerical))\n",
    "\n",
    "\n",
    "\n",
    "#J_orientation = myRobot._calc_T('j1', lambdify = True)\n",
    "#print(J_orientation(*tuple(q)))\n",
    "\n",
    "s = time.time()\n",
    "for i in range(1000):\n",
    "\torientation = myRobot.forwardKinOrientation(q)\n",
    "dt = time.time()-s\n",
    "print(dt/1000)\n",
    "print('Forward kinematic orientations: {}'.format(orientation))\n",
    "\n",
    "s = time.time()\n",
    "for i in range(1000):\n",
    "\ttest = myRobot.forwardKinHomogenous(q)\n",
    "dt = time.time()-s\n",
    "print(dt/1000)"
   ]
  },
  {
   "cell_type": "code",
   "execution_count": null,
   "metadata": {},
   "outputs": [],
   "source": []
  }
 ],
 "metadata": {
  "kernelspec": {
   "display_name": "Python 3",
   "language": "python",
   "name": "python3"
  },
  "language_info": {
   "codemirror_mode": {
    "name": "ipython",
    "version": 3
   },
   "file_extension": ".py",
   "mimetype": "text/x-python",
   "name": "python",
   "nbconvert_exporter": "python",
   "pygments_lexer": "ipython3",
   "version": "3.6.7"
  }
 },
 "nbformat": 4,
 "nbformat_minor": 2
}
