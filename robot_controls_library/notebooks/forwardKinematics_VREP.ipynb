{
 "cells": [
  {
   "cell_type": "code",
   "execution_count": 1,
   "metadata": {},
   "outputs": [],
   "source": [
    "#puts above directory into the path\n",
    "import sys\n",
    "sys.path.append(\"../../VREP_robot\")\n",
    "sys.path.append(\"../../VREP_robot/utils\")\n",
    "sys.path.append(\"../\")\n",
    "import vrep\n",
    "from vrepRobot import *\n",
    "\n",
    "from forwardKinematics import robot_config\n",
    "import numpy as np\n",
    "import time\n",
    "\n",
    "pi = np.pi"
   ]
  },
  {
   "cell_type": "code",
   "execution_count": 2,
   "metadata": {},
   "outputs": [],
   "source": [
    "# myRobot = robot_config()\n",
    "# vrep_env = VREP_Environement()\n",
    "# robot_handles  = ['pose_j0', 'pose_j1', 'pose_j2', 'pose_j3', 'pose_j4', 'pose_j5', 'pose_j6', 'pose_j7']\n",
    "# vrep_env.add_robot(VREP_Robot('robot', robot_handles))\n",
    "# vrep_env.start_simulation()"
   ]
  },
  {
   "cell_type": "markdown",
   "metadata": {},
   "source": [
    "# Setup Environment"
   ]
  },
  {
   "cell_type": "code",
   "execution_count": 3,
   "metadata": {},
   "outputs": [
    {
     "name": "stdout",
     "output_type": "stream",
     "text": [
      "Connected to remote API server\n",
      "In synchronous mode\n",
      "1 robot(s) connected: ['ik_robot']\n"
     ]
    }
   ],
   "source": [
    "# setup environment\n",
    "myRobot = robot_config()\n",
    "# vrep_env = VREP_Environement(synchronous=False)\n",
    "vrep_env = VREP_Environement(synchronous=True)\n",
    "ik_handles = ['ik_joint1', 'ik_joint2', 'ik_joint3', 'ik_joint4', 'ik_joint5', 'ik_joint6', 'ik_joint7', 'ik_ee', 'kinematicsTest_IKTip', 'ik_rf7_static']\n",
    "vrep_env.add_robot(VREP_Robot('ik_robot', ik_handles, connection_type = 'nonblocking'))\n",
    "vrep_env.start_simulation()"
   ]
  },
  {
   "cell_type": "code",
   "execution_count": 4,
   "metadata": {},
   "outputs": [],
   "source": [
    "# start = time.time()\n",
    "\n",
    "# while time.time() - start < 18:\n",
    "#     dt = time.time() - start\n",
    "#     a = np.sin(dt)*0.5\n",
    "#     q = np.array([0.2, -2.5, 0., 0., 0., 0., 0. + a])\n",
    "#     positions = np.zeros((8,3))\n",
    "#     positions[1:,:] = (myRobot.forwardKinPos(q))\n",
    "#     orientations = np.zeros((8, 4)) #4 for quat\n",
    "#     orientations[0,-1] = 1\n",
    "\n",
    "#     print('Forward kinematic positions: {}'.format(positions))\n",
    "#     orientations[1:,:] = myRobot.forwardKinOrientation(q)\n",
    "#     print('Forward kinematic orientations: {}'.format(orientations))\n",
    "\n",
    "#     print(vrep_env.robot.handle_names)\n",
    "#     for i in range(len(robot_handles)):\n",
    "#         vrep_env.robot.setObjectPosition(vrep_env.robot.handles[i], positions[i])\n",
    "#         vrep_env.robot.setObjectQuaternion(vrep_env.robot.handles[i], orientations[i])\n",
    "        \n",
    "#     time.sleep(0.2)"
   ]
  },
  {
   "cell_type": "code",
   "execution_count": 5,
   "metadata": {},
   "outputs": [],
   "source": [
    "#JEE = myRobot.J('EE', q)\n",
    "#print(\"analytic jacobian: \\n{}\".format(JEE))"
   ]
  },
  {
   "cell_type": "code",
   "execution_count": 6,
   "metadata": {},
   "outputs": [],
   "source": [
    "vrep_env.ik_robot.getCollisionHandle('Collision')\n",
    "time.sleep(1)"
   ]
  },
  {
   "cell_type": "markdown",
   "metadata": {},
   "source": [
    "# Initialization"
   ]
  },
  {
   "cell_type": "code",
   "execution_count": 9,
   "metadata": {},
   "outputs": [
    {
     "data": {
      "text/plain": [
       "(0, [-4.470348358154297e-08, 0.0, 2.9802322387695312e-08, 1.0])"
      ]
     },
     "execution_count": 9,
     "metadata": {},
     "output_type": "execute_result"
    }
   ],
   "source": [
    "# initialize collision check\n",
    "# !!!important\n",
    "vrep_env.ik_robot.getCollisionState(initialize=True)\n",
    "vrep_env.ik_robot.getObjectPosition(vrep_env.ik_robot.handles[8], relative2='ik_rf7_static',initialize=True)\n",
    "vrep_env.ik_robot.getObjectOrientation(vrep_env.ik_robot.handles[8], relative2='ik_rf7_static',initialize=True)\n",
    "vrep_env.ik_robot.getObjectQuaternion(vrep_env.ik_robot.handles[8], relative2='ik_rf7_static',initialize=True)\n",
    "time.sleep(0.5)\n",
    "vrep_env.ik_robot.getCollisionState(initialize=True)\n",
    "vrep_env.ik_robot.getObjectPosition(vrep_env.ik_robot.handles[8], relative2='ik_rf7_static',initialize=True)\n",
    "vrep_env.ik_robot.getObjectOrientation(vrep_env.ik_robot.handles[8], relative2='ik_rf7_static',initialize=True)\n",
    "vrep_env.ik_robot.getObjectQuaternion(vrep_env.ik_robot.handles[8], relative2='ik_rf7_static',initialize=True)"
   ]
  },
  {
   "cell_type": "markdown",
   "metadata": {},
   "source": [
    "# Generate Configs\n",
    "### set sample number here"
   ]
  },
  {
   "cell_type": "code",
   "execution_count": 11,
   "metadata": {},
   "outputs": [
    {
     "name": "stdout",
     "output_type": "stream",
     "text": [
      "joint lower limit\n",
      " [-0.1        -0.045      -1.57079633 -0.90757121 -0.87615528 -0.90757121\n",
      "  0.        ]\n",
      "joint upper limit\n",
      " [0.1        0.905      1.57079633 0.90757121 0.90408055 0.90757121\n",
      " 0.055     ]\n",
      "total configs =  2985984\n",
      "[[-0.1        -0.045      -1.57079633 -0.90757121 -0.87615528 -0.90757121]\n",
      " [-0.1        -0.045      -1.57079633 -0.90757121 -0.87615528 -0.74255826]\n",
      " [-0.1        -0.045      -1.57079633 -0.90757121 -0.87615528 -0.57754532]\n",
      " ...\n",
      " [ 0.1         0.905       1.57079633  0.90757121  0.90408055  0.57754532]\n",
      " [ 0.1         0.905       1.57079633  0.90757121  0.90408055  0.74255826]\n",
      " [ 0.1         0.905       1.57079633  0.90757121  0.90408055  0.90757121]]\n",
      "16.5888\n"
     ]
    }
   ],
   "source": [
    "# generate config samples\n",
    "from configGenerator_VREP import configGenerator_VREP\n",
    "config = configGenerator_VREP.generate_sample(12)  # !!!set sample number here\n",
    "total_config = config.shape[0]\n",
    "print(\"total configs = \", total_config)\n",
    "print(config)\n",
    "print(total_config/50/3600)"
   ]
  },
  {
   "cell_type": "markdown",
   "metadata": {},
   "source": [
    "# Collision Detect"
   ]
  },
  {
   "cell_type": "code",
   "execution_count": 12,
   "metadata": {},
   "outputs": [],
   "source": [
    "# initialize collision state placeholder\n",
    "y = np.zeros((total_config))\n",
    "EEPosition = np.zeros((total_config,3))\n",
    "EEOrientation = np.zeros((total_config,3))\n",
    "EEQuaternion = np.zeros((total_config,4))"
   ]
  },
  {
   "cell_type": "code",
   "execution_count": 13,
   "metadata": {},
   "outputs": [
    {
     "data": {
      "application/vnd.jupyter.widget-view+json": {
       "model_id": "884798cb213746f09c0b846dc2a24e20",
       "version_major": 2,
       "version_minor": 0
      },
      "text/plain": [
       "HBox(children=(IntProgress(value=0, max=2985984), HTML(value='')))"
      ]
     },
     "metadata": {},
     "output_type": "display_data"
    },
    {
     "name": "stdout",
     "output_type": "stream",
     "text": [
      "\n",
      "runtime =  2417.63381\n",
      "collision state =  [0. 0. 1. ... 1. 1. 1.]\n",
      "EEPosition\n",
      " [[ 4.76837158e-07  4.99997735e-02 -1.78813934e-07]\n",
      " [ 4.76837158e-07  4.99997735e-02 -1.78813934e-07]\n",
      " [-1.39356852e-01  3.42609286e-01 -3.39107633e-01]\n",
      " ...\n",
      " [-1.68813825e-01  1.22001052e-01  6.45845056e-01]\n",
      " [-1.57135487e-01  1.30518973e-01  6.20015979e-01]\n",
      " [-1.42311573e-01  1.35369122e-01  5.94860196e-01]]\n",
      "EEPrientation\n",
      " [[-8.94069672e-08 -2.66453526e-15  5.96046448e-08]\n",
      " [-8.94069672e-08 -2.66453526e-15  5.96046448e-08]\n",
      " [-1.70191407e+00 -6.99286997e-01 -2.15088320e+00]\n",
      " ...\n",
      " [-1.71914947e+00 -7.18684733e-01  9.64241266e-01]\n",
      " [-1.88544333e+00 -6.17468953e-01  8.60947967e-01]\n",
      " [-2.02828836e+00 -5.05016685e-01  7.84706831e-01]]\n",
      "EEQuaternion\n",
      " [[-4.47034836e-08  0.00000000e+00  2.98023224e-08  1.00000000e+00]\n",
      " [-4.47034836e-08  0.00000000e+00  2.98023224e-08  1.00000000e+00]\n",
      " [-1.37097567e-01 -7.28857279e-01 -4.22488511e-01  5.21032393e-01]\n",
      " ...\n",
      " [-7.34773755e-01  1.25433683e-01  5.19364595e-01  4.17892724e-01]\n",
      " [-7.75076628e-01  1.59446836e-01  4.57043111e-01  4.06133771e-01]\n",
      " [-8.10106277e-01  1.92375064e-01  3.91611993e-01  3.91611695e-01]]\n"
     ]
    }
   ],
   "source": [
    "# collision detect\n",
    "from tqdm import tqdm_notebook as tqdm\n",
    "\n",
    "pbar = tqdm(total=total_config)  # set progress bar\n",
    "\n",
    "t = time.clock()\n",
    "for i in range(total_config):\n",
    "#for i in range(len(jointAngle)):\n",
    "    joint_angle = config[i, :]\n",
    "    for j in range(6):\n",
    "        vrep_env.ik_robot.setJointPosition(vrep_env.ik_robot.handles[j], joint_angle[j])\n",
    "    #vrep_env.ik_robot.setJointPosition(vrep_env.ik_robot.handles[5], jointAngle[i])\n",
    "    \n",
    "    vrep.simxSynchronousTrigger(vrep_env.clientID)\n",
    "    #vrep.simxGetPingTime(vrep_env.clientID)\n",
    "    #time.sleep(1)\n",
    "    collisionState = vrep_env.ik_robot.getCollisionState()\n",
    "    #print(collisionState)\n",
    "    y[i] = collisionState\n",
    "    vrep.simxSynchronousTrigger(vrep_env.clientID)\n",
    "    #vrep.simxGetPingTime(vrep_env.clientID)\n",
    "    EEPosition[i,:] = vrep_env.ik_robot.getObjectPosition(vrep_env.ik_robot.handles[8], relative2='ik_rf7_static')[1]\n",
    "    EEOrientation[i,:] = vrep_env.ik_robot.getObjectOrientation(vrep_env.ik_robot.handles[8], relative2='ik_rf7_static')[1]\n",
    "    EEQuaternion[i,:] = vrep_env.ik_robot.getObjectQuaternion(vrep_env.ik_robot.handles[8], relative2='ik_rf7_static')[1]\n",
    "    pbar.update(1)\n",
    "#     time.sleep(0.5)\n",
    "    #print(EEPosition[i,:])\n",
    "    \n",
    "    #if i%int(total_config/100+1) == 0:\n",
    "    #    Data = np.hstack((config, y.reshape(-1,1),EEPosition,EEOrientation,EEQuaternion))\n",
    "    #    #np.save(r'C:\\Users\\xumw1\\Documents\\GitHub\\robotPathPlanning\\logs\\CollisionData{}.npy'.format(i),Data)\n",
    "    #    np.save('logs/CollisionData{}.npy'.format(i),Data)\n",
    "    \n",
    "pbar.close()\n",
    "print('runtime = ', time.clock()-t)  \n",
    "print('collision state = ', y)\n",
    "print('EEPosition\\n', EEPosition)\n",
    "print('EEPrientation\\n', EEOrientation)\n",
    "print('EEQuaternion\\n', EEQuaternion)\n",
    "#np.save(r'C:\\Users\\xumw1\\Documents\\GitHub\\robotPathPlanning\\logs\\CollisionData.npy',Data)\n",
    "Data = np.hstack((config, y.reshape(-1,1),EEPosition,EEOrientation,EEQuaternion))\n",
    "np.save('logs/CollisionData.npy',Data)"
   ]
  },
  {
   "cell_type": "markdown",
   "metadata": {},
   "source": [
    "# Save Data"
   ]
  },
  {
   "cell_type": "code",
   "execution_count": 15,
   "metadata": {},
   "outputs": [],
   "source": [
    "Data = np.hstack((config, y.reshape(-1,1),EEPosition,EEOrientation,EEQuaternion))\n",
    "np.save('logs/CollisionData.npy',Data)"
   ]
  },
  {
   "cell_type": "markdown",
   "metadata": {},
   "source": [
    "# Plot"
   ]
  },
  {
   "cell_type": "code",
   "execution_count": null,
   "metadata": {},
   "outputs": [],
   "source": [
    "# plot\n",
    "%matplotlib inline\n",
    "from mpl_toolkits.mplot3d import Axes3D\n",
    "import matplotlib.pyplot as plt\n",
    "\n",
    "fig = plt.figure()\n",
    "ax = fig.add_subplot(111, projection='3d')\n",
    "ax.scatter(-EEPosition[:,1], EEPosition[:,2], -EEPosition[:,0])\n",
    "plt.show()"
   ]
  },
  {
   "cell_type": "code",
   "execution_count": null,
   "metadata": {},
   "outputs": [],
   "source": [
    "EEPosition_free = EEPosition[y==0,:]\n",
    "print(EEPosition_free)"
   ]
  },
  {
   "cell_type": "code",
   "execution_count": null,
   "metadata": {},
   "outputs": [],
   "source": [
    "fig = plt.figure()\n",
    "ax = fig.add_subplot(111, projection='3d')\n",
    "ax.scatter(-EEPosition_free[:,1], EEPosition_free[:,2], -EEPosition_free[:,0])\n",
    "plt.show()"
   ]
  },
  {
   "cell_type": "code",
   "execution_count": null,
   "metadata": {},
   "outputs": [],
   "source": [
    "#test\n",
    "# EEPosition = np.zeros((5,3))\n",
    "# joint_angle = np.linspace(0,1,5)\n",
    "# for i in range(5):\n",
    "#     vrep_env.ik_robot.setJointPosition(vrep_env.ik_robot.handles[0], joint_angle[i])\n",
    "#     vrep_env.ik_robot.setJointPosition(vrep_env.ik_robot.handles[1], joint_angle[i])\n",
    "#     vrep_env.ik_robot.setJointPosition(vrep_env.ik_robot.handles[3], joint_angle[i])\n",
    "#     vrep.simxSynchronousTrigger(vrep_env.clientID)\n",
    "#     vrep.simxGetPingTime(vrep_env.clientID)\n",
    "#     collisionState = vrep_env.ik_robot.getCollisionState()\n",
    "#     EEPosition[i,:] = vrep_env.ik_robot.getObjectPosition(vrep_env.ik_robot.handles[8], relative2='ik_rf7_static')[1]\n",
    "#     time.sleep(1)\n",
    "#     print(collisionState)\n",
    "# print('EEPosition\\n', EEPosition)"
   ]
  },
  {
   "cell_type": "code",
   "execution_count": null,
   "metadata": {},
   "outputs": [],
   "source": [
    "# fig = plt.figure()\n",
    "# ax = fig.add_subplot(111, projection='3d')\n",
    "# ax.scatter(-EEPosition[:,1], EEPosition[:,2], -EEPosition[:,0])\n",
    "# plt.show()"
   ]
  },
  {
   "cell_type": "markdown",
   "metadata": {},
   "source": [
    "## orientation dictionary work"
   ]
  },
  {
   "cell_type": "code",
   "execution_count": null,
   "metadata": {},
   "outputs": [],
   "source": [
    "import transforms3d as t3d\n",
    "import numpy as np\n",
    "\n",
    "def quantizeOrientationsBins(numBins, quaternions):\n",
    "    #numBins is per axis --> numBins**2\n",
    "    #using spherical coordinates: https://en.wikipedia.org/wiki/Spherical_coordinate_system\n",
    "    #theta 0 is - pi/2 to pi/2\n",
    "    #phi is -pi to pi\n",
    "    #orientations is in quaternions\n",
    "    \n",
    "    quaternions = np.roll(quaternions, 1).copy()#we need w, x, y, z; vrep uses x, y, z, w\n",
    "    \n",
    "    thetaInterval = np.linspace(-np.pi/2, np.pi/2, num=numBins+1)\n",
    "    phiInterval = np.linspace(-np.pi, np.pi, num=numBins+1)\n",
    "    \n",
    "    spherical = np.zeros((quaternions.shape[0],2)) #phi, theta\n",
    "    for i in range(spherical.shape[0]):\n",
    "        # mod\n",
    "        if quaternions.ndim != 1:\n",
    "            rotMat = t3d.quaternions.quat2mat(quaternions[i,:])\n",
    "        else:\n",
    "            rotMat = t3d.quaternions.quat2mat(quaternions)\n",
    "        cartesian = rotMat@np.ones((3,1))\n",
    "        spherical[i,0] = np.arctan2(cartesian[1], cartesian[0]) # phi\n",
    "        spherical[i,1] = np.arctan2(np.sqrt(cartesian[0]**2 + cartesian[1]**2), cartesian[2]) - np.pi/2 # theta\n",
    "        \n",
    "    binCounts = np.zeros((numBins,numBins))\n",
    "    for i in range(numBins):\n",
    "        for j in range(numBins):\n",
    "            temp = np.stack((np.logical_and(spherical[:,1] > thetaInterval[i], spherical[:,1] < thetaInterval[i+1]),\n",
    "                             np.logical_and(spherical[:,0] > phiInterval[j], spherical[:,0] < phiInterval[j+1])), axis = 1)\n",
    "            #print(temp.shape)\n",
    "            temp = temp.all(axis=1)\n",
    "            binCounts[i,j] = np.sum(temp)\n",
    "    return binCounts, spherical, temp, thetaInterval, phiInterval\n",
    "\n",
    "binCounts, spherical, temp, thetaInterval, phiInterval = quantizeOrientationsBins(4, EEQuaternion)\n",
    "\n",
    "print(binCounts)"
   ]
  },
  {
   "cell_type": "code",
   "execution_count": null,
   "metadata": {},
   "outputs": [],
   "source": [
    "start = time.time()\n",
    "for i in range(1000):\n",
    "    binCounts, spherical, temp, thetaInterval, phiInterval = quantizeOrientationsBins(4, EEQuaternion) \n",
    "end = time.time()\n",
    "end - start\n",
    "\n"
   ]
  },
  {
   "cell_type": "code",
   "execution_count": null,
   "metadata": {},
   "outputs": [],
   "source": []
  }
 ],
 "metadata": {
  "kernelspec": {
   "display_name": "Python 3",
   "language": "python",
   "name": "python3"
  },
  "language_info": {
   "codemirror_mode": {
    "name": "ipython",
    "version": 3
   },
   "file_extension": ".py",
   "mimetype": "text/x-python",
   "name": "python",
   "nbconvert_exporter": "python",
   "pygments_lexer": "ipython3",
   "version": "3.6.7"
  }
 },
 "nbformat": 4,
 "nbformat_minor": 2
}
