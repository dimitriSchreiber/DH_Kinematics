{
 "cells": [
  {
   "cell_type": "code",
   "execution_count": null,
   "metadata": {},
   "outputs": [],
   "source": [
    "%matplotlib inline\n",
    "\n",
    "#puts above directory into the path\n",
    "import sys\n",
    "sys.path.append(\"../../VREP_robot\")\n",
    "sys.path.append(\"../../VREP_robot/utils\")\n",
    "sys.path.append(\"../\")\n",
    "import vrep\n",
    "from vrepRobot import *\n",
    "\n",
    "from forwardKinematics import robot_config\n",
    "import numpy as np\n",
    "import time\n",
    "\n",
    "pi = np.pi"
   ]
  },
  {
   "cell_type": "code",
   "execution_count": 2,
   "metadata": {},
   "outputs": [],
   "source": [
    "#puts above directory into the path\n",
    "import sys\n",
    "sys.path.append(\"../../VREP_robot\")\n",
    "sys.path.append(\"../../VREP_robot/utils\")\n",
    "sys.path.append(\"../\")\n",
    "import vrep\n",
    "from vrepRobot import *\n",
    "\n",
    "from forwardKinematics import robot_config\n",
    "import numpy as np\n",
    "import time\n",
    "\n",
    "pi = np.pi"
   ]
  },
  {
   "cell_type": "code",
   "execution_count": null,
   "metadata": {},
   "outputs": [
    {
     "name": "stdout",
     "output_type": "stream",
     "text": [
      "Connected to remote API server\n",
      "1 robot(s) connected: ['ik_robot']\n"
     ]
    }
   ],
   "source": [
    "# setup environment\n",
    "myRobot = robot_config()\n",
    "vrep_env = VREP_Environement(synchronous=False)\n",
    "ik_handles = ['ik_joint1', 'ik_joint2', 'ik_joint3', 'ik_joint4', 'ik_joint5', 'ik_joint6', 'ik_joint7', 'kinematicsTest_IKTip', 'ik_rf7_static']\n",
    "#k_handles  = ['pose_j0', 'pose_j1', 'pose_j2', 'pose_j3', 'pose_j4', 'pose_j5', 'pose_j6', 'pose_j7']\n",
    "vrep_env.add_robot(VREP_Robot('ik_robot', ik_handles, connection_type = 'blocking'))\n",
    "vrep_env.start_simulation()"
   ]
  },
  {
   "cell_type": "code",
   "execution_count": null,
   "metadata": {},
   "outputs": [],
   "source": [
    "# generate config samples\n",
    "from configGenerator_VREP import configGenerator_VREP\n",
    "config = configGenerator_VREP.generate_sample(2)  # set sample number here\n",
    "total_config = config.shape[0]\n",
    "print(\"total configs = \", total_config)\n",
    "#print(config)\n",
    "print(total_config/50/3600)"
   ]
  },
  {
   "cell_type": "code",
   "execution_count": null,
   "metadata": {},
   "outputs": [],
   "source": [
    "# initialize collision state placeholder\n",
    "y = np.zeros((total_config))\n",
    "EEPosition = np.zeros((total_config,3))\n",
    "#EEorientation = np.zeros((total_config,3))\n",
    "EEQuaternion = np.zeros((total_config,4))"
   ]
  },
  {
   "cell_type": "code",
   "execution_count": null,
   "metadata": {},
   "outputs": [],
   "source": [
    "# get collision handle\n",
    "vrep_env.ik_robot.getCollisionHandle('Collision')\n",
    "vrep.simxSynchronousTrigger(vrep_env.clientID)\n",
    "vrep.simxGetPingTime(vrep_env.clientID)\n",
    "\n",
    "time.sleep(10)"
   ]
  },
  {
   "cell_type": "code",
   "execution_count": null,
   "metadata": {},
   "outputs": [],
   "source": [
    "# initialize collision check\n",
    "vrep_env.ik_robot.getCollisionState(initialize=True)"
   ]
  },
  {
   "cell_type": "code",
   "execution_count": null,
   "metadata": {},
   "outputs": [],
   "source": [
    "# collision detect\n",
    "from tqdm import tqdm_notebook as tqdm\n",
    "\n",
    "pbar = tqdm(total=total_config)  # set progress bar\n",
    "\n",
    "t = time.clock()\n",
    "for i in range(total_config):\n",
    "#for i in range(len(jointAngle)):\n",
    "    joint_angle = config[i, :]\n",
    "    for j in range(6):\n",
    "        vrep_env.ik_robot.setJointPosition(vrep_env.ik_robot.handles[j], joint_angle[j])\n",
    "    #vrep_env.ik_robot.setJointPosition(vrep_env.ik_robot.handles[5], jointAngle[i])\n",
    "    \n",
    "    vrep.simxSynchronousTrigger(vrep_env.clientID)\n",
    "    vrep.simxGetPingTime(vrep_env.clientID)\n",
    "    collisionState = vrep_env.ik_robot.getCollisionState()\n",
    "    y[i] = collisionState\n",
    "    #vrep.simxSynchronousTrigger(vrep_env.clientID)\n",
    "    #vrep.simxGetPingTime(vrep_env.clientID)\n",
    "    EEPosition[i,:] = vrep_env.ik_robot.getObjectPosition(vrep_env.ik_robot.handles[8], relative2='ik_rf7_static')[1]\n",
    "    EEQuaternion[i,:] = vrep_env.ik_robot.getObjectQuaternion(vrep_env.ik_robot.handles[8], relative2='ik_rf7_static')[1]\n",
    "    pbar.update(1)\n",
    "    #time.sleep(0.5)\n",
    "    #print(EEPosition[i,:])\n",
    "    \n",
    "    if i%int(total_config/100+1) == 0:\n",
    "        Data = np.hstack((config, y.reshape(-1,1),EEPosition,EEQuaternion))\n",
    "        #np.save('logs/CollisionData{}.npy'.format(i),Data)\n",
    "    \n",
    "pbar.close()\n",
    "print('runtime = ', time.clock()-t)  \n",
    "# print('collision state = ', y)\n",
    "print('EEposition\\n', EEPosition)\n",
    "# print('EEorientation\\n', EEorientation)"
   ]
  },
  {
   "cell_type": "code",
   "execution_count": null,
   "metadata": {},
   "outputs": [],
   "source": [
    "# save data\n",
    "Data = np.hstack((config, y.reshape(-1,1),EEPosition,EEQuaternion))\n",
    "print(Data)\n",
    "np.save('CollisionData.npy',Data)"
   ]
  },
  {
   "cell_type": "code",
   "execution_count": null,
   "metadata": {},
   "outputs": [],
   "source": [
    "loadedData = np.load('CollisionData.npy')\n",
    "print(loadedData)"
   ]
  },
  {
   "cell_type": "code",
   "execution_count": null,
   "metadata": {},
   "outputs": [],
   "source": [
    "# plot\n",
    "\n",
    "from mpl_toolkits.mplot3d import Axes3D\n",
    "import matplotlib.pyplot as plt\n",
    "\n",
    "fig = plt.figure()\n",
    "ax = fig.add_subplot(111, projection='3d')\n",
    "ax.scatter(EEPosition[:,0], EEPosition[:,1], EEPosition[:,2])\n",
    "plt.show()"
   ]
  },
  {
   "cell_type": "code",
   "execution_count": null,
   "metadata": {},
   "outputs": [],
   "source": [
    "# test\n",
    "# for i in range(100):\n",
    "#     joint_angle = np.sin(i*2*np.pi/100)*np.pi/4\n",
    "#     vrep_env.ik_robot.setJointPosition(vrep_env.ik_robot.handles[5], joint_angle)\n",
    "#     vrep.simxSynchronousTrigger(vrep_env.clientID)\n",
    "#     vrep.simxGetPingTime(vrep_env.clientID)\n",
    "#     collisionState = vrep_env.ik_robot.getCollisionState()\n",
    "#     print(collisionState)"
   ]
  },
  {
   "cell_type": "code",
   "execution_count": null,
   "metadata": {},
   "outputs": [],
   "source": [
    "np.unique(y)"
   ]
  },
  {
   "cell_type": "code",
   "execution_count": null,
   "metadata": {},
   "outputs": [],
   "source": []
  }
 ],
 "metadata": {
  "kernelspec": {
   "display_name": "Python 3",
   "language": "python",
   "name": "python3"
  },
  "language_info": {
   "codemirror_mode": {
    "name": "ipython",
    "version": 3
   },
   "file_extension": ".py",
   "mimetype": "text/x-python",
   "name": "python",
   "nbconvert_exporter": "python",
   "pygments_lexer": "ipython3",
   "version": "3.6.7"
  }
 },
 "nbformat": 4,
 "nbformat_minor": 2
}
