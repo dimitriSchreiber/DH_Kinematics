{
 "cells": [
  {
   "cell_type": "markdown",
   "metadata": {},
   "source": [
    "# Compute Error\n"
   ]
  },
  {
   "cell_type": "markdown",
   "metadata": {},
   "source": [
    "## Robot setup"
   ]
  },
  {
   "cell_type": "code",
   "execution_count": 26,
   "metadata": {},
   "outputs": [
    {
     "name": "stdout",
     "output_type": "stream",
     "text": [
      "Starting streaming client now...\n",
      "Opening socket at ip: 192.168.0.115 using port: 1126\n"
     ]
    }
   ],
   "source": [
    "import numpy as np\n",
    "import matplotlib.pyplot as plt\n",
    "import time\n",
    "from sklearn.utils.extmath import cartesian\n",
    "import transforms3d as t3d\n",
    "\n",
    "import sys\n",
    "sys.path.append(\"..\")\n",
    "sys.path.append(\"../../\")\n",
    "\n",
    "from armControl import *\n",
    "from forwardKinematics import robot_config\n",
    "from utils.motor_setup import maxonGearSmall\n",
    "import armControl\n",
    "\n",
    "from utils.NatNetClient2 import NatNetClient\n",
    "from utils.GetJointData import data, NatNetFuncs #receiveNewFrame, receiveRigidBodyFrameList\n",
    "\n",
    "import signal\n",
    "\n",
    "import matplotlib.pyplot as plt\n",
    "\n",
    "socket_ip = '192.168.0.115'\n",
    "socket_port = 1126\n",
    "\n",
    "server_ip = \"192.168.0.103\"\n",
    "multicastAddress = \"239.255.42.99\"\n",
    "\n",
    "joint_names = ['Base','RigidBody']\n",
    "ids = [0, 1]\n",
    "\n",
    "#Tracking class\n",
    "print(\"Starting streaming client now...\")\n",
    "streamingClient = NatNetClient(server_ip, multicastAddress, verbose = False)\n",
    "NatNet = NatNetFuncs()\n",
    "streamingClient.newFrameListener = NatNet.receiveNewFrame\n",
    "streamingClient.rigidBodyListListener = NatNet.receiveRigidBodyFrameList\n",
    "prev_frame = 0\n",
    "time.sleep(0.5)\n",
    "streamingClient.run()\n",
    "time.sleep(0.5)\n",
    "track_data = data(joint_names,ids)\n",
    "time.sleep(0.5)\n",
    "track_data.parse_data(NatNet.joint_data, NatNet.frame)\n",
    "\n",
    "#trajPlanner = trajectoryGenerator()\n",
    "\n",
    "motors = maxonGearSmall()\n",
    "motors.tcp_init(socket_ip, socket_port)\n",
    "\n",
    "#axis_motor_indexes = np.array([-1, -1, -1, 0, 3, 2, 1]) #indexed from 0 for motors and axis\n",
    "#velocity = np.ones(8)*3.14/20\n"
   ]
  },
  {
   "cell_type": "markdown",
   "metadata": {},
   "source": [
    "## Command motors w/ indexing for joints"
   ]
  },
  {
   "cell_type": "markdown",
   "metadata": {},
   "source": [
    "def commandJoints(setpoint_arm, trajectory = True):\n",
    "    myArm = armControl.remoteRobotArm()\n",
    "    myArm.jointAngleSetpoint = setpoint_arm\n",
    "    myArm.updateMotorArmMixing()\n",
    "    setpoint_motor = np.zeros(8)\n",
    "    setpoint_motor[axis_motor_indexes[3:7]] = myArm.motorAngleSetpoint[3:7]\n",
    "    if trajectory:\n",
    "        motors.run_trajectory(setpoint_motor, velocity)\n",
    "    else:\n",
    "        motors.command_motors_radians(setpoint_motor)\n"
   ]
  },
  {
   "cell_type": "markdown",
   "metadata": {},
   "source": [
    "## Arm Motors"
   ]
  },
  {
   "cell_type": "code",
   "execution_count": 27,
   "metadata": {},
   "outputs": [
    {
     "name": "stdout",
     "output_type": "stream",
     "text": [
      "Arming motors now...\n",
      "initializing motors to [0 0 0 0 0 0 0 0]\n",
      "*** C side has an error or needs to be armed ***\n",
      "\n",
      "Arming motors\n"
     ]
    }
   ],
   "source": [
    "print(\"Arming motors now...\")\n",
    "motors.arm_motors()\n"
   ]
  },
  {
   "cell_type": "markdown",
   "metadata": {},
   "source": [
    "## Manual motor zeroing"
   ]
  },
  {
   "cell_type": "code",
   "execution_count": 45,
   "metadata": {},
   "outputs": [
    {
     "ename": "NameError",
     "evalue": "name 'motors' is not defined",
     "output_type": "error",
     "traceback": [
      "\u001b[0;31m---------------------------------------------------------------------------\u001b[0m",
      "\u001b[0;31mNameError\u001b[0m                                 Traceback (most recent call last)",
      "\u001b[0;32m<ipython-input-45-59fabedff90e>\u001b[0m in \u001b[0;36m<module>\u001b[0;34m\u001b[0m\n\u001b[1;32m      5\u001b[0m \u001b[0;34m\u001b[0m\u001b[0m\n\u001b[1;32m      6\u001b[0m \u001b[0msetpoint_arm\u001b[0m \u001b[0;34m=\u001b[0m \u001b[0mnp\u001b[0m\u001b[0;34m.\u001b[0m\u001b[0marray\u001b[0m\u001b[0;34m(\u001b[0m\u001b[0;34m[\u001b[0m\u001b[0;36m0.0\u001b[0m\u001b[0;34m,\u001b[0m\u001b[0;36m0.0\u001b[0m\u001b[0;34m,\u001b[0m\u001b[0;34m-\u001b[0m\u001b[0;36m0.\u001b[0m\u001b[0;34m,\u001b[0m\u001b[0;36m0\u001b[0m\u001b[0;34m,\u001b[0m\u001b[0;36m0.0\u001b[0m\u001b[0;34m,\u001b[0m\u001b[0;36m0\u001b[0m\u001b[0;34m,\u001b[0m\u001b[0;36m0\u001b[0m\u001b[0;34m]\u001b[0m\u001b[0;34m)\u001b[0m\u001b[0;34m\u001b[0m\u001b[0;34m\u001b[0m\u001b[0m\n\u001b[0;32m----> 7\u001b[0;31m \u001b[0mmyArm\u001b[0m\u001b[0;34m.\u001b[0m\u001b[0mcommandJoints\u001b[0m\u001b[0;34m(\u001b[0m\u001b[0mmotors\u001b[0m\u001b[0;34m,\u001b[0m \u001b[0msetpoint_arm\u001b[0m\u001b[0;34m)\u001b[0m\u001b[0;34m\u001b[0m\u001b[0;34m\u001b[0m\u001b[0m\n\u001b[0m\u001b[1;32m      8\u001b[0m \u001b[0mtime\u001b[0m\u001b[0;34m.\u001b[0m\u001b[0msleep\u001b[0m\u001b[0;34m(\u001b[0m\u001b[0;36m0.5\u001b[0m\u001b[0;34m)\u001b[0m\u001b[0;34m\u001b[0m\u001b[0;34m\u001b[0m\u001b[0m\n",
      "\u001b[0;31mNameError\u001b[0m: name 'motors' is not defined"
     ]
    }
   ],
   "source": [
    "from importlib import reload\n",
    "reload(armControl)\n",
    "\n",
    "myArm = armControl.remoteRobotArm()\n",
    "\n",
    "setpoint_arm = np.array([0.0,0.0,-0.,0,0.0,0,0])\n",
    "myArm.commandJoints(motors, setpoint_arm)\n",
    "time.sleep(0.5)\n"
   ]
  },
  {
   "cell_type": "code",
   "execution_count": 49,
   "metadata": {},
   "outputs": [
    {
     "name": "stdout",
     "output_type": "stream",
     "text": [
      "[[5.730 0.000 0.000 0.000 0.000 0.000 0.000]\n",
      " [0.000 5.730 0.000 0.000 0.000 0.000 0.000]\n",
      " [0.000 0.000 0.240 0.000 0.000 0.000 0.000]\n",
      " [0.000 0.000 0.000 0.454 0.000 0.000 0.000]\n",
      " [0.000 0.000 0.000 -0.356 0.454 0.000 0.000]\n",
      " [0.000 0.000 0.000 0.944 -0.624 0.794 0.000]\n",
      " [0.000 0.000 0.000 -5.261 3.232 -8.731 6.350]]\n"
     ]
    }
   ],
   "source": [
    " np.set_printoptions(formatter={'float': lambda x: \"{0:0.3f}\".format(x)})\n",
    "\n",
    "print(myArm.motorTheta_armTheta_full)\n"
   ]
  },
  {
   "cell_type": "code",
   "execution_count": 29,
   "metadata": {},
   "outputs": [],
   "source": [
    "for i in range(8):\n",
    "    motors.zero_motors_radians(i, motors.get_motors_position_radians()[i])"
   ]
  },
  {
   "cell_type": "code",
   "execution_count": 51,
   "metadata": {},
   "outputs": [
    {
     "name": "stdout",
     "output_type": "stream",
     "text": [
      "[8.20e+01 4.20e+01 1.75e+00 8.72e-01 8.72e-01 8.72e-01 4.75e-02]\n",
      "[-82.    -42.     -1.75   -0.872  -0.872  -0.872   0.   ]\n",
      "[0.041 0.021 0.875 0.436 0.436 0.436 0.   ]\n",
      "[-0.041      -0.021      -0.875      -0.436      -0.436      -0.58133333\n",
      "  0.        ]\n"
     ]
    },
    {
     "data": {
      "application/vnd.jupyter.widget-view+json": {
       "model_id": "9b58169078f34d3f9127a1f6b9a7fae3",
       "version_major": 2,
       "version_minor": 0
      },
      "text/plain": [
       "HBox(children=(IntProgress(value=0, max=192), HTML(value='')))"
      ]
     },
     "metadata": {},
     "output_type": "display_data"
    }
   ],
   "source": [
    "from tqdm import tqdm_notebook as tqdm\n",
    "\n",
    "print(myArm.jointUpperLimits)\n",
    "print(myArm.jointLowerLimits)\n",
    "\n",
    "joint1_angles = np.linspace(myArm.jointLowerLimits[0]/2000,myArm.jointUpperLimits[0]/2000, num=2)\n",
    "joint2_angles = np.linspace(myArm.jointLowerLimits[1]/2000,myArm.jointUpperLimits[1]/2000, num=2)\n",
    "joint3_angles = np.linspace(myArm.jointLowerLimits[2]/2,myArm.jointUpperLimits[2]/2, num=2)\n",
    "joint4_angles = np.linspace(myArm.jointLowerLimits[3]/2,myArm.jointUpperLimits[3]/2, num=2)\n",
    "joint5_angles = np.linspace(myArm.jointLowerLimits[4]/2,myArm.jointUpperLimits[4]/2, num=2)\n",
    "joint6_angles = np.linspace(myArm.jointLowerLimits[5]/1.5,myArm.jointUpperLimits[5]/2, num=2)\n",
    "joint7_angles = np.zeros(1)#np.linspace(myArm.jointLowerLimits[6]/2,myArm.jointUpperLimits[6]/2, num=1)\n",
    "\n",
    "\n",
    "joint_angles = [np.array(joint1_angles), np.array(joint2_angles), np.array(joint3_angles), np.array(joint4_angles), np.array(joint5_angles), np.array(joint6_angles), np.array(joint7_angles)]\n",
    "PointsMatrix = cartesian(joint_angles)\n",
    "num_sweeps = 3\n",
    "num_static_points = 50\n",
    "num_points = len(PointsMatrix[:,1])\n",
    "\n",
    "print(np.max(PointsMatrix, axis = 0))\n",
    "print(np.min(PointsMatrix, axis = 0))\n",
    "\n",
    "Pos_Points = np.zeros(shape = (num_points, num_sweeps, 3))\n",
    "Quat_Points = np.zeros(shape = (num_points, num_sweeps, 4))\n",
    "static_pos_points = np.zeros(shape = (num_points, num_static_points, num_sweeps, 3))\n",
    "static_quat_points = np.zeros(shape = (num_points, num_static_points, num_sweeps, 4))\n",
    "\n",
    "pbar = tqdm(total=num_sweeps*num_points)  # set progress bar\n",
    "\n",
    "reorder = np.arange(0,num_points)\n",
    "\n",
    "for i in range(num_sweeps):\n",
    "    np.random.shuffle(reorder)\n",
    "    \n",
    "    for j in range(num_points):\n",
    "        \n",
    "        j_reorder = reorder[j]\n",
    "        \n",
    "        #setpoint_base = np.array([0,0,0])\n",
    "        #setpoint_arm = np.flip(np.array(PointsMatrix[j,:]),0)\n",
    "        #setpoint_robot = np.append(setpoint_base, setpoint_arm)\n",
    "        jointCommand = PointsMatrix[j_reorder,:].copy()\n",
    "        #print('Joint angle index: {}'.format(j))\n",
    "        #print('Command matrix: {}'.format(PointsMatrix))\n",
    "        #print('Commanded joint angles: {}'.format(jointCommand[5]))\n",
    "        \n",
    "        myArm.commandJoints(motors, jointCommand, trajectory = True)\n",
    "        \n",
    "        time.sleep(2)\n",
    "        \n",
    "        track_data.parse_data(NatNet.joint_data, NatNet.frame) #updates the frame and data that is being used\n",
    "        #track_data.parse_data(NatNet.joint_data, NatNet.frame) #updates the frame and data that is being used\n",
    "\n",
    "        #add in optitrack position measurements\n",
    "        \n",
    "        base = track_data.bodies[0].homogenous_mat\n",
    "        base_inv = track_data.bodies[0].homg_inv\n",
    "        needle = track_data.bodies[1].homogenous_mat\n",
    "        needle_base, needlebase_pos, needlebase_euler, _ = track_data.homg_mat_mult(base_inv,needle)\n",
    "        needlebase_rot = np.array(needle_base[0:3,0:3])\n",
    "        needlebase_quat = t3d.quaternions.mat2quat(needlebase_rot)\n",
    "        Pos_Points[j_reorder, i, :] = needlebase_pos.copy()\n",
    "        Quat_Points[j_reorder, i, :] = needlebase_quat.copy()\n",
    "        \n",
    "        for k in range(num_static_points):\n",
    "            track_data.parse_data(NatNet.joint_data, NatNet.frame)\n",
    "\n",
    "            base_static = track_data.bodies[0].homogenous_mat\n",
    "            base_static_inv = track_data.bodies[0].homg_inv\n",
    "            needle_static = track_data.bodies[1].homogenous_mat\n",
    "            needle_base_static, needlebase_pos_static, _ , _ = track_data.homg_mat_mult(base_static_inv,needle_static)\n",
    "            needlebase_rot_static = np.array(needle_base[0:3,0:3])\n",
    "            needlebase_quat_static = t3d.quaternions.mat2quat(needlebase_rot_static)\n",
    "            static_pos_points[j_reorder, k, i, :] = needlebase_pos_static.copy()\n",
    "            static_quat_points[j_reorder, k, i, :] = needlebase_quat_static.copy()\n",
    "        \n",
    "        pbar.update(1)\n",
    "        #print('Read EE position: {}\\n\\n'.format(needlebase_pos))\n",
    "        \n",
    "timestr = time.strftime(\"%Y%m%d-%H%M%S\")\n",
    "np.savez('AllJoints_random'+timestr, Pos_Points, Quat_Points, static_pos_points, static_quat_points)"
   ]
  },
  {
   "cell_type": "code",
   "execution_count": 65,
   "metadata": {},
   "outputs": [],
   "source": [
    "np.savez('AllJoints_random'+timestr, Pos_Points, Quat_Points, static_pos_points, static_quat_points)"
   ]
  },
  {
   "cell_type": "code",
   "execution_count": 83,
   "metadata": {},
   "outputs": [
    {
     "name": "stdout",
     "output_type": "stream",
     "text": [
      "['arr_0', 'arr_1', 'arr_2', 'arr_3']\n"
     ]
    }
   ],
   "source": [
    "npzfile = np.load('AllJoints_random20190224-185821.npz')\n",
    "print(npzfile.files)\n",
    "a = npzfile['arr_0']\n",
    "b = npzfile['arr_1']\n",
    "c = npzfile['arr_2']\n",
    "d = npzfile['arr_3']"
   ]
  },
  {
   "cell_type": "code",
   "execution_count": 90,
   "metadata": {},
   "outputs": [
    {
     "data": {
      "text/plain": [
       "(64, 50, 3, 4)"
      ]
     },
     "execution_count": 90,
     "metadata": {},
     "output_type": "execute_result"
    }
   ],
   "source": [
    "static_quat_points = d.reshape((num_points, num_static_points, num_sweeps, 4))\n",
    "static_quat_points.shape"
   ]
  },
  {
   "cell_type": "code",
   "execution_count": 70,
   "metadata": {},
   "outputs": [
    {
     "name": "stdout",
     "output_type": "stream",
     "text": [
      "Max Deviation: 0.05220338723710853\n",
      "Max Deviation (x,y,z): [0.04206856 0.02538069 0.03016926]\n",
      "Position Covariance Matrix: [[ 4.28982002e-05 -3.38516977e-06  9.19494337e-06]\n",
      " [-3.38516977e-06  8.57741544e-06 -5.79485181e-06]\n",
      " [ 9.19494337e-06 -5.79485181e-06  1.04357022e-05]]\n",
      "Optitrack Position Covariance Matrix: [[ 3.27135338e-10 -6.34126819e-10  2.38576719e-10]\n",
      " [-6.34126819e-10  1.71159686e-09 -7.01192677e-10]\n",
      " [ 2.38576719e-10 -7.01192677e-10  4.33885749e-10]]\n"
     ]
    }
   ],
   "source": [
    "#to calculate robot position covariance\n",
    "Pos_Points.shape # num joint angles, repeats, xyz \n",
    "Pos_mean = Pos_Points.mean(axis=1)\n",
    "pos_error = Pos_Points - Pos_mean[:, np.newaxis, :].repeat(repeats = num_sweeps, axis = 1)\n",
    "pos_RMS = np.mean(np.sqrt(np.sum(pos_error * pos_error, axis = 2)))\n",
    "prop_RMS_xyz = np.mean(np.abs(pos_error), axis = (0,1))\n",
    "pos_max_error = np.max(np.sqrt(np.sum(pos_error * pos_error, axis = 2)))\n",
    "pos_max_error_xyz = np.max(np.abs(pos_error), axis = (0,1))\n",
    "#print('Average error: {}'.format(pos_RMS))\n",
    "#print('Average error (x,y,z): {}'.format(prop_RMS_xyz))\n",
    "print('Max Deviation: {}'.format(pos_max_error))\n",
    "print('Max Deviation (x,y,z): {}'.format(pos_max_error_xyz))\n",
    "\n",
    "cov_xyz = (pos_error.reshape(num_points*num_sweeps,3).T \n",
    "           @ pos_error.reshape(num_points*num_sweeps,3)) / (num_points*num_sweeps)\n",
    "print('Position Covariance Matrix: {}'.format(cov_xyz))\n",
    "\n",
    "#cov_pos_xy = np.divide(np.transpose(pos_error[:,:,1])*pos_error[:,:,2],num_points)\n",
    "#cov_pos_xz = np.divide(np.transpose(pos_error[:,:,1])*pos_error[:,:,3],num_points)\n",
    "#cov_pos_yz = np.divide(np.transpose(pos_error[:,:,2])*pos_error[:,:,3],num_points)\n",
    "#print()\n",
    "#calculate error in optitrack\n",
    "#method 1\n",
    "#static_pos_mean1 = np.mean(static_pos_points.reshape(num_points*num_static_points*num_sweeps, 3), axis = 0)\n",
    "#static_pos_points1 = static_pos_points.reshape(num_points*num_static_points*num_sweeps,3)\n",
    "#static_pos_error1 = static_pos_points - static_pos_mean[np.newaxis,:].repeat(repeats = num_points*num_static_points*num_sweeps, axis = 1)\n",
    "#optitrack_cov_xyz1 = static_pos_error.T @ static_pos_error / (num_points*num_static_points*num_sweeps)\n",
    "\n",
    "#print('Method 1 Optitrack Position Covariance Matrix: {}'.format(optitrack_cov_xyz1))\n",
    "\n",
    "#method 2\n",
    "\n",
    "#static_pos_points2 = static_pos_points.reshape(num_points*num_static_points,num_sweeps,3)\n",
    "#static_pos_mean2 = static_pos_points2.mean(axis = 1)\n",
    "#static_pos_error2 = static_pos_points2 - static_pos_mean2[:, np.newaxis, :].repeat(repeats = num_sweeps, axis = 1)\n",
    "#optitrack_cov_xyz2 = (static_pos_error2.reshape(num_points*num_static_points*num_sweeps,3).T \n",
    "#                       @ static_pos_error2.reshape(num_points*num_static_points*num_sweeps,3)) / (num_points*num_static_points*num_sweeps)\n",
    "\n",
    "\n",
    "#to calculate optitrack covariance:\n",
    "#static_pos_points = np.zeros(shape = (num_points, num_static_points, num_sweeps, 3))\n",
    "#static_pos_points2 = static_pos_points.reshape(num_points*num_static_points,num_sweeps,3)\n",
    "static_pos_mean = static_pos_points.mean(axis = 1) #(num_points, num_sweeps, 3)\n",
    "static_pos_error2 = static_pos_points - static_pos_mean[:, np.newaxis, :, :].repeat(repeats = num_static_points, axis = 1)\n",
    "optitrack_cov_xyz2 = (static_pos_error2.reshape(num_points*num_static_points*num_sweeps,3).T \n",
    "                       @ static_pos_error2.reshape(num_points*num_static_points*num_sweeps,3)) / (num_points*num_static_points*num_sweeps)\n",
    "\n",
    "print('Optitrack Position Covariance Matrix: {}'.format(optitrack_cov_xyz2))"
   ]
  },
  {
   "cell_type": "code",
   "execution_count": 95,
   "metadata": {},
   "outputs": [
    {
     "name": "stdout",
     "output_type": "stream",
     "text": [
      "static_pos_points: (64, 50, 3, 3), static_pos_mean: (64, 3, 3)\n"
     ]
    }
   ],
   "source": [
    "static_pos_points.shape\n",
    "print('static_pos_points: {}, static_pos_mean: {}'.format(static_pos_points.shape,static_pos_mean.shape))"
   ]
  },
  {
   "cell_type": "code",
   "execution_count": 96,
   "metadata": {},
   "outputs": [
    {
     "data": {
      "text/plain": [
       "(64, 50, 3, 4)"
      ]
     },
     "execution_count": 96,
     "metadata": {},
     "output_type": "execute_result"
    }
   ],
   "source": [
    "static_quat_points.shape"
   ]
  },
  {
   "cell_type": "code",
   "execution_count": 98,
   "metadata": {},
   "outputs": [
    {
     "name": "stdout",
     "output_type": "stream",
     "text": [
      "Euler Angle Covariance Matrix: [[ 0.00355553 -0.00136268 -0.0006644 ]\n",
      " [-0.00136268  0.00200973  0.00031462]\n",
      " [-0.0006644   0.00031462  0.00208604]]\n",
      "Optitrack Euler Angle Covariance Matrix: [[ 0.00355401 -0.00136215 -0.0006641 ]\n",
      " [-0.00136215  0.00200905  0.00031446]\n",
      " [-0.0006641   0.00031446  0.00208508]]\n"
     ]
    }
   ],
   "source": [
    "from utils.quaternion_functions import quat_average\n",
    "import transforms3d as t3d\n",
    "import numpy as np\n",
    "\n",
    "#https://www.andre-gaschler.com/rotationconverter/\n",
    "#q1 = [0, 1, 0, 0] # 180 degree rotation around axis 0\n",
    "#q2 = [0.7071068, 0.7071068, 0, 0] # 90 degree rotation around axis 0\n",
    "#avg = quat_average(np.array([q1,q2]),np.ones(2)/2)\n",
    "#print('axis angle of q1: {}'.format(t3d.quaternions.quat2axangle(q1)))\n",
    "#print('axis angle of q2: {}'.format(t3d.quaternions.quat2axangle(q2)))\n",
    "#print('average: {}'.format(t3d.quaternions.quat2axangle(avg)))\n",
    "\n",
    "\n",
    "#Pos_Points = np.zeros(shape = (num_points, num_sweeps, 3))\n",
    "#Quat_Points = np.zeros(shape = (num_points, num_sweeps, 4))\n",
    "\n",
    "avg_quaternions = np.zeros((num_points,4))\n",
    "avg_quaternions_inverse = np.zeros((num_points,4))\n",
    "quaternion_error = np.zeros((num_points, num_sweeps , 4))\n",
    "euler_angle_error = np.zeros((num_points, num_sweeps, 3))\n",
    "\n",
    "for i in range(num_points):\n",
    "    avg_quaternions[i,:] = quat_average(Quat_Points[i,:,:], np.ones(num_sweeps)/num_sweeps)\n",
    "    avg_quaternions_inverse[i,:] = t3d.quaternions.qinverse(avg_quaternions[i,:])\n",
    "\n",
    "for i in range(num_points):\n",
    "    for j in range(num_sweeps):\n",
    "        quaternion_error[i,j,:] = t3d.quaternions.qmult(Quat_Points[i,j,:],avg_quaternions_inverse[i,:])\n",
    "        euler_angle_error[i,j,:] = t3d.euler.quat2euler(quaternion_error[i,j,:])\n",
    "\n",
    "avg_quaternion_bias = quat_average(quaternion_error.reshape((num_sweeps*num_points,4)), \n",
    "                                    np.ones(num_sweeps*num_points)/(num_sweeps*num_points))\n",
    "\n",
    "rms_euler_angle = np.mean(np.sqrt(np.sum(euler_angle_error*euler_angle_error, axis = 2)))*180/np.pi\n",
    "euler_angle_error_mean = np.mean(np.sqrt(euler_angle_error*euler_angle_error), axis=(0,1))*180/np.pi\n",
    "\n",
    "#print('euler angle mean bias: {}'\n",
    "#      .format(t3d.euler.quat2euler(avg_quaternion_bias)))\n",
    "#print('rms euler angle error (degrees): {}'\n",
    "#      .format(rms_euler_angle))\n",
    "\n",
    "#print('euler angle error mean (degrees, xyz): {}'.format(euler_angle_error_mean))\n",
    "\n",
    "cov_rpy = euler_angle_error.reshape(num_points*num_sweeps,3).T @ euler_angle_error.reshape(num_points*num_sweeps,3) / (num_points*num_sweeps)\n",
    "\n",
    "print('Euler Angle Covariance Matrix: {}'.format(cov_rpy))\n",
    "\n",
    "#calculate error in optitrack\n",
    "#static_quat_points = np.zeros(shape = (num_points, num_static_points, num_sweeps, 4))\n",
    "\n",
    "avg_static_quaternions = np.zeros((num_points*num_sweeps,4))\n",
    "avg_static_quaternions_inverse = np.zeros((num_points*num_sweeps,4))\n",
    "quaternion_static_error = np.zeros((num_points*num_sweeps, num_static_points , 4))\n",
    "euler_angle_static_error = np.zeros((num_points*num_sweeps, num_static_points, 3))\n",
    "static_quat_points = static_quat_points.reshape(num_points*num_sweeps, num_static_points, 4)\n",
    "\n",
    "for i in range(num_points*num_sweeps):\n",
    "    avg_static_quaternions[i,:] = quat_average(static_quat_points[i,:,:], np.ones(num_static_points)/num_static_points)\n",
    "    avg_static_quaternions_inverse[i,:] = t3d.quaternions.qinverse(avg_static_quaternions[i,:])\n",
    "\n",
    "for i in range(num_points*num_sweeps):\n",
    "    for j in range(num_static_points):\n",
    "        quaternion_static_error[i,j,:] = t3d.quaternions.qmult(static_quat_points[i,j,:],avg_static_quaternions_inverse[i,:])\n",
    "        euler_angle_static_error[i,j,:] = t3d.euler.quat2euler(quaternion_static_error[i,j,:])\n",
    "\n",
    "optitrack_cov_rpy = euler_angle_static_error.reshape(num_points*num_static_points*num_sweeps,3).T @ euler_angle_static_error.reshape(num_points*num_static_points*num_sweeps,3) / (num_points*num_static_points*num_sweeps)\n",
    "    \n",
    "print('Optitrack Euler Angle Covariance Matrix: {}'.format(optitrack_cov_rpy))\n",
    "\n",
    "\n",
    "#THIS IS BIAS NOT ERROR!!!\n",
    "\n",
    "#avg_inv = t3d.quaternions.qinverse(avg)    \n",
    "#q1_error = t3d.quaternions.qmult(q1,avg_inv)\n",
    "#q2_error = t3d.quaternions.qmult(q2,avg_inv)\n",
    "#print('axis angle difference from mean of q1: {}'\n",
    "#      .format(t3d.quaternions.quat2axangle(q1_error)))\n",
    "#print('axis angle difference from mean of q2: {}'\n",
    "#      .format(t3d.quaternions.quat2axangle(q2_error)))\n"
   ]
  },
  {
   "cell_type": "code",
   "execution_count": 97,
   "metadata": {},
   "outputs": [
    {
     "ename": "ValueError",
     "evalue": "shapes (3,4) and (3,4) not aligned: 4 (dim 1) != 3 (dim 0)",
     "output_type": "error",
     "traceback": [
      "\u001b[0;31m---------------------------------------------------------------------------\u001b[0m",
      "\u001b[0;31mValueError\u001b[0m                                Traceback (most recent call last)",
      "\u001b[0;32m<ipython-input-97-bed1250d8bde>\u001b[0m in \u001b[0;36m<module>\u001b[0;34m\u001b[0m\n\u001b[1;32m      5\u001b[0m \u001b[0;34m\u001b[0m\u001b[0m\n\u001b[1;32m      6\u001b[0m \u001b[0;32mfor\u001b[0m \u001b[0mi\u001b[0m \u001b[0;32min\u001b[0m \u001b[0mrange\u001b[0m\u001b[0;34m(\u001b[0m\u001b[0mnum_points\u001b[0m\u001b[0;34m)\u001b[0m\u001b[0;34m:\u001b[0m\u001b[0;34m\u001b[0m\u001b[0;34m\u001b[0m\u001b[0m\n\u001b[0;32m----> 7\u001b[0;31m     \u001b[0mavg_static_quaternions\u001b[0m\u001b[0;34m[\u001b[0m\u001b[0mi\u001b[0m\u001b[0;34m,\u001b[0m\u001b[0;34m:\u001b[0m\u001b[0;34m,\u001b[0m\u001b[0;34m:\u001b[0m\u001b[0;34m]\u001b[0m \u001b[0;34m=\u001b[0m \u001b[0mquat_average\u001b[0m\u001b[0;34m(\u001b[0m\u001b[0mstatic_quat_points\u001b[0m\u001b[0;34m[\u001b[0m\u001b[0mi\u001b[0m\u001b[0;34m,\u001b[0m\u001b[0;34m:\u001b[0m\u001b[0;34m,\u001b[0m\u001b[0;34m:\u001b[0m\u001b[0;34m,\u001b[0m\u001b[0;34m:\u001b[0m\u001b[0;34m]\u001b[0m\u001b[0;34m,\u001b[0m \u001b[0mnp\u001b[0m\u001b[0;34m.\u001b[0m\u001b[0mones\u001b[0m\u001b[0;34m(\u001b[0m\u001b[0mnum_static_points\u001b[0m\u001b[0;34m)\u001b[0m\u001b[0;34m/\u001b[0m\u001b[0mnum_static_points\u001b[0m\u001b[0;34m)\u001b[0m\u001b[0;34m\u001b[0m\u001b[0;34m\u001b[0m\u001b[0m\n\u001b[0m\u001b[1;32m      8\u001b[0m     \u001b[0mavg_static_quaternions_inverse\u001b[0m\u001b[0;34m[\u001b[0m\u001b[0mi\u001b[0m\u001b[0;34m,\u001b[0m\u001b[0;34m:\u001b[0m\u001b[0;34m,\u001b[0m\u001b[0;34m:\u001b[0m\u001b[0;34m]\u001b[0m \u001b[0;34m=\u001b[0m \u001b[0mt3d\u001b[0m\u001b[0;34m.\u001b[0m\u001b[0mquaternions\u001b[0m\u001b[0;34m.\u001b[0m\u001b[0mqinverse\u001b[0m\u001b[0;34m(\u001b[0m\u001b[0mavg_static_quaternions\u001b[0m\u001b[0;34m[\u001b[0m\u001b[0mi\u001b[0m\u001b[0;34m,\u001b[0m\u001b[0;34m:\u001b[0m\u001b[0;34m,\u001b[0m\u001b[0;34m:\u001b[0m\u001b[0;34m]\u001b[0m\u001b[0;34m)\u001b[0m\u001b[0;34m\u001b[0m\u001b[0;34m\u001b[0m\u001b[0m\n\u001b[1;32m      9\u001b[0m \u001b[0;34m\u001b[0m\u001b[0m\n",
      "\u001b[0;32m~/Desktop/robotPathPlanning/utils/quaternion_functions.py\u001b[0m in \u001b[0;36mquat_average\u001b[0;34m(qs, ws)\u001b[0m\n\u001b[1;32m    145\u001b[0m         \u001b[0;32mfor\u001b[0m \u001b[0mi\u001b[0m \u001b[0;32min\u001b[0m \u001b[0mrange\u001b[0m\u001b[0;34m(\u001b[0m\u001b[0;36m0\u001b[0m\u001b[0;34m,\u001b[0m\u001b[0mn\u001b[0m\u001b[0;34m)\u001b[0m\u001b[0;34m:\u001b[0m\u001b[0;34m\u001b[0m\u001b[0;34m\u001b[0m\u001b[0m\n\u001b[1;32m    146\u001b[0m             \u001b[0;31m#start = time.time()\u001b[0m\u001b[0;34m\u001b[0m\u001b[0;34m\u001b[0m\u001b[0;34m\u001b[0m\u001b[0m\n\u001b[0;32m--> 147\u001b[0;31m             \u001b[0minverse\u001b[0m \u001b[0;34m=\u001b[0m \u001b[0mtransforms3d\u001b[0m\u001b[0;34m.\u001b[0m\u001b[0mquaternions\u001b[0m\u001b[0;34m.\u001b[0m\u001b[0mqinverse\u001b[0m\u001b[0;34m(\u001b[0m\u001b[0mout\u001b[0m\u001b[0;34m)\u001b[0m\u001b[0;34m\u001b[0m\u001b[0;34m\u001b[0m\u001b[0m\n\u001b[0m\u001b[1;32m    148\u001b[0m             \u001b[0mqi\u001b[0m \u001b[0;34m=\u001b[0m \u001b[0mqmult\u001b[0m\u001b[0;34m(\u001b[0m\u001b[0minverse\u001b[0m\u001b[0;34m,\u001b[0m \u001b[0mqs\u001b[0m\u001b[0;34m[\u001b[0m\u001b[0mi\u001b[0m\u001b[0;34m,\u001b[0m\u001b[0;34m:\u001b[0m\u001b[0;34m]\u001b[0m\u001b[0;34m)\u001b[0m\u001b[0;34m\u001b[0m\u001b[0;34m\u001b[0m\u001b[0m\n\u001b[1;32m    149\u001b[0m             \u001b[0mev_i\u001b[0m \u001b[0;34m=\u001b[0m \u001b[0;34m(\u001b[0m\u001b[0;36m2\u001b[0m\u001b[0;34m*\u001b[0m\u001b[0mq_log\u001b[0m\u001b[0;34m(\u001b[0m\u001b[0mqi\u001b[0m\u001b[0;34m)\u001b[0m\u001b[0;34m)\u001b[0m\u001b[0;34m[\u001b[0m\u001b[0;36m1\u001b[0m\u001b[0;34m:\u001b[0m\u001b[0;36m4\u001b[0m\u001b[0;34m]\u001b[0m\u001b[0;34m\u001b[0m\u001b[0;34m\u001b[0m\u001b[0m\n",
      "\u001b[0;32m~/baseEnvironment/lib/python3.6/site-packages/transforms3d/quaternions.py\u001b[0m in \u001b[0;36mqinverse\u001b[0;34m(q)\u001b[0m\n\u001b[1;32m    298\u001b[0m        \u001b[0mw\u001b[0m\u001b[0;34m,\u001b[0m \u001b[0mi\u001b[0m\u001b[0;34m,\u001b[0m \u001b[0mj\u001b[0m\u001b[0;34m,\u001b[0m \u001b[0mk\u001b[0m \u001b[0mof\u001b[0m \u001b[0mquaternion\u001b[0m \u001b[0minverse\u001b[0m\u001b[0;34m\u001b[0m\u001b[0;34m\u001b[0m\u001b[0m\n\u001b[1;32m    299\u001b[0m     '''\n\u001b[0;32m--> 300\u001b[0;31m     \u001b[0;32mreturn\u001b[0m \u001b[0mqconjugate\u001b[0m\u001b[0;34m(\u001b[0m\u001b[0mq\u001b[0m\u001b[0;34m)\u001b[0m \u001b[0;34m/\u001b[0m \u001b[0mqnorm\u001b[0m\u001b[0;34m(\u001b[0m\u001b[0mq\u001b[0m\u001b[0;34m)\u001b[0m\u001b[0;34m\u001b[0m\u001b[0;34m\u001b[0m\u001b[0m\n\u001b[0m\u001b[1;32m    301\u001b[0m \u001b[0;34m\u001b[0m\u001b[0m\n\u001b[1;32m    302\u001b[0m \u001b[0;34m\u001b[0m\u001b[0m\n",
      "\u001b[0;32m~/baseEnvironment/lib/python3.6/site-packages/transforms3d/quaternions.py\u001b[0m in \u001b[0;36mqnorm\u001b[0;34m(q)\u001b[0m\n\u001b[1;32m    277\u001b[0m        \u001b[0mquaternion\u001b[0m \u001b[0mnorm\u001b[0m\u001b[0;34m\u001b[0m\u001b[0;34m\u001b[0m\u001b[0m\n\u001b[1;32m    278\u001b[0m     '''\n\u001b[0;32m--> 279\u001b[0;31m     \u001b[0;32mreturn\u001b[0m \u001b[0mnp\u001b[0m\u001b[0;34m.\u001b[0m\u001b[0mdot\u001b[0m\u001b[0;34m(\u001b[0m\u001b[0mq\u001b[0m\u001b[0;34m,\u001b[0m \u001b[0mq\u001b[0m\u001b[0;34m)\u001b[0m\u001b[0;34m\u001b[0m\u001b[0;34m\u001b[0m\u001b[0m\n\u001b[0m\u001b[1;32m    280\u001b[0m \u001b[0;34m\u001b[0m\u001b[0m\n\u001b[1;32m    281\u001b[0m \u001b[0;34m\u001b[0m\u001b[0m\n",
      "\u001b[0;31mValueError\u001b[0m: shapes (3,4) and (3,4) not aligned: 4 (dim 1) != 3 (dim 0)"
     ]
    }
   ],
   "source": [
    "avg_static_quaternions = np.zeros((num_points,num_sweeps,4))\n",
    "avg_static_quaternions_inverse = np.zeros((num_points,num_sweeps,4))\n",
    "quaternion_static_error = np.zeros((num_points, num_static_points, num_sweeps, 4))\n",
    "euler_angle_static_error = np.zeros((num_points, num_static_points, num_sweeps, 3))\n",
    "\n",
    "for i in range(num_points):\n",
    "    avg_static_quaternions[i,:,:] = quat_average(static_quat_points[i,:,:,:], np.ones(num_static_points)/num_static_points)\n",
    "    avg_static_quaternions_inverse[i,:,:] = t3d.quaternions.qinverse(avg_static_quaternions[i,:,:])\n",
    "\n",
    "for i in range(num_points):\n",
    "    for j in range(num_static_points):\n",
    "        for k in range(num_sweeps):\n",
    "            quaternion_static_error[i,j,k,:] = t3d.quaternions.qmult(static_quat_points[i,j,k,:],avg_static_quaternions_inverse[i,:,:])\n",
    "            euler_angle_static_error[i,j,k,:] = t3d.euler.quat2euler(quaternion_static_error[i,j,k,:])\n",
    "\n",
    "optitrack_cov_rpy = euler_angle_static_error.reshape(num_points*num_static_points*num_sweeps,3).T @ euler_angle_static_error.reshape(num_points*num_static_points*num_sweeps,3) / (num_points*num_static_points*num_sweeps)"
   ]
  },
  {
   "cell_type": "code",
   "execution_count": 72,
   "metadata": {},
   "outputs": [
    {
     "data": {
      "text/plain": [
       "array([[[0., 0., 0., 0.],\n",
       "        [0., 0., 0., 0.],\n",
       "        [0., 0., 0., 0.],\n",
       "        ...,\n",
       "        [0., 0., 0., 0.],\n",
       "        [0., 0., 0., 0.],\n",
       "        [0., 0., 0., 0.]],\n",
       "\n",
       "       [[0., 0., 0., 0.],\n",
       "        [0., 0., 0., 0.],\n",
       "        [0., 0., 0., 0.],\n",
       "        ...,\n",
       "        [0., 0., 0., 0.],\n",
       "        [0., 0., 0., 0.],\n",
       "        [0., 0., 0., 0.]],\n",
       "\n",
       "       [[0., 0., 0., 0.],\n",
       "        [0., 0., 0., 0.],\n",
       "        [0., 0., 0., 0.],\n",
       "        ...,\n",
       "        [0., 0., 0., 0.],\n",
       "        [0., 0., 0., 0.],\n",
       "        [0., 0., 0., 0.]],\n",
       "\n",
       "       ...,\n",
       "\n",
       "       [[0., 0., 0., 0.],\n",
       "        [0., 0., 0., 0.],\n",
       "        [0., 0., 0., 0.],\n",
       "        ...,\n",
       "        [0., 0., 0., 0.],\n",
       "        [0., 0., 0., 0.],\n",
       "        [0., 0., 0., 0.]],\n",
       "\n",
       "       [[0., 0., 0., 0.],\n",
       "        [0., 0., 0., 0.],\n",
       "        [0., 0., 0., 0.],\n",
       "        ...,\n",
       "        [0., 0., 0., 0.],\n",
       "        [0., 0., 0., 0.],\n",
       "        [0., 0., 0., 0.]],\n",
       "\n",
       "       [[0., 0., 0., 0.],\n",
       "        [0., 0., 0., 0.],\n",
       "        [0., 0., 0., 0.],\n",
       "        ...,\n",
       "        [0., 0., 0., 0.],\n",
       "        [0., 0., 0., 0.],\n",
       "        [0., 0., 0., 0.]]])"
      ]
     },
     "execution_count": 72,
     "metadata": {},
     "output_type": "execute_result"
    }
   ],
   "source": [
    "static_quat_points"
   ]
  },
  {
   "cell_type": "code",
   "execution_count": 61,
   "metadata": {},
   "outputs": [
    {
     "data": {
      "text/plain": [
       "(3200, 3, 3)"
      ]
     },
     "execution_count": 61,
     "metadata": {},
     "output_type": "execute_result"
    }
   ],
   "source": [
    "euler_angle_static_error.shape"
   ]
  },
  {
   "cell_type": "code",
   "execution_count": 62,
   "metadata": {},
   "outputs": [
    {
     "data": {
      "text/plain": [
       "(3200, 3, 3)"
      ]
     },
     "execution_count": 62,
     "metadata": {},
     "output_type": "execute_result"
    }
   ],
   "source": [
    "static_pos_error2.shape"
   ]
  },
  {
   "cell_type": "code",
   "execution_count": 63,
   "metadata": {},
   "outputs": [
    {
     "data": {
      "text/plain": [
       "(9600, 3)"
      ]
     },
     "execution_count": 63,
     "metadata": {},
     "output_type": "execute_result"
    }
   ],
   "source": [
    "num_points*num_static_points*num_sweeps,3"
   ]
  },
  {
   "cell_type": "markdown",
   "metadata": {},
   "source": [
    "#Compute Avg of Positions (x,y,z)\n",
    "Pos_Avg = np.zeros(shape = (1, 3, num_sweeps))\n",
    "for i in range(num_sweeps):\n",
    "    Pos_Avg(1,:,i) = np.mean(Pos_Points, axis = 0)\n",
    "Pos_Error = np.zeros(shape = (num_points, 3, num_sweeps))\n",
    "sweepNum = np.linspace(1,num_sweeps,num = num_sweeps)\n",
    "\n",
    "#Compute Error of Positions (x,y,z)\n",
    "for j in range(num_sweeps):\n",
    "    for k in range(num_points):\n",
    "        Pos_Error = Pos_Points[k,:,j] - Pos_Avg[1,:,j]\n",
    "    print(\"Sweep {} Position Error: {}\".format(sweepNum[j], Pos_Error[:,:,j]))\n",
    "\n"
   ]
  },
  {
   "cell_type": "markdown",
   "metadata": {},
   "source": [
    "## Cleanup"
   ]
  },
  {
   "cell_type": "code",
   "execution_count": 17,
   "metadata": {},
   "outputs": [],
   "source": [
    "setpoints = np.zeros(8)\n",
    "velocity = np.ones(8)*3.14/5\n",
    "motors.run_trajectory(setpoints, velocity)\n",
    "time.sleep(1)\n",
    "motors.tcp_close()"
   ]
  },
  {
   "cell_type": "code",
   "execution_count": null,
   "metadata": {},
   "outputs": [],
   "source": [
    "motors.tcp_close()"
   ]
  },
  {
   "cell_type": "code",
   "execution_count": null,
   "metadata": {},
   "outputs": [],
   "source": []
  }
 ],
 "metadata": {
  "kernelspec": {
   "display_name": "Python 3",
   "language": "python",
   "name": "python3"
  },
  "language_info": {
   "codemirror_mode": {
    "name": "ipython",
    "version": 3
   },
   "file_extension": ".py",
   "mimetype": "text/x-python",
   "name": "python",
   "nbconvert_exporter": "python",
   "pygments_lexer": "ipython3",
   "version": "3.6.7"
  }
 },
 "nbformat": 4,
 "nbformat_minor": 2
}
