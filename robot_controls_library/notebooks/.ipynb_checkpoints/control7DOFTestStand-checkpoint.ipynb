{
 "cells": [
  {
   "cell_type": "markdown",
   "metadata": {},
   "source": [
    "## Robot setup"
   ]
  },
  {
   "cell_type": "code",
   "execution_count": 43,
   "metadata": {},
   "outputs": [
    {
     "name": "stdout",
     "output_type": "stream",
     "text": [
      "Opening socket at ip: 192.168.0.115 using port: 1122\n"
     ]
    }
   ],
   "source": [
    "import numpy as np\n",
    "import matplotlib.pyplot as plt\n",
    "import time\n",
    "\n",
    "import sys\n",
    "sys.path.append(\"..\")\n",
    "sys.path.append(\"../../\")\n",
    "\n",
    "from armControl import *\n",
    "from forwardKinematics import robot_config\n",
    "from utils.motor_setup import maxonGearSmall\n",
    "import armControl\n",
    "\n",
    "import signal\n",
    "\n",
    "socket_ip = '192.168.0.115'\n",
    "socket_port = 1122\n",
    "\n",
    "#trajPlanner = trajectoryGenerator()\n",
    "\n",
    "motors = maxonGearSmall()\n",
    "motors.tcp_init(socket_ip, socket_port)\n",
    "\n",
    "#axis_motor_indexes = np.array([-1, -1, -1, 0, 3, 2, 1]) #indexed from 0 for motors and axis\n",
    "#velocity = np.ones(8)*3.14/20\n"
   ]
  },
  {
   "cell_type": "markdown",
   "metadata": {},
   "source": [
    "## Command motors w/ indexing for joints"
   ]
  },
  {
   "cell_type": "markdown",
   "metadata": {},
   "source": [
    "def commandJoints(setpoint_arm, trajectory = True):\n",
    "    myArm = armControl.remoteRobotArm()\n",
    "    myArm.jointAngleSetpoint = setpoint_arm\n",
    "    myArm.updateMotorArmMixing()\n",
    "    setpoint_motor = np.zeros(8)\n",
    "    setpoint_motor[axis_motor_indexes[3:7]] = myArm.motorAngleSetpoint[3:7]\n",
    "    if trajectory:\n",
    "        motors.run_trajectory(setpoint_motor, velocity)\n",
    "    else:\n",
    "        motors.command_motors_radians(setpoint_motor)\n"
   ]
  },
  {
   "cell_type": "markdown",
   "metadata": {},
   "source": [
    "## Arm Motors"
   ]
  },
  {
   "cell_type": "code",
   "execution_count": 44,
   "metadata": {},
   "outputs": [
    {
     "name": "stdout",
     "output_type": "stream",
     "text": [
      "Arming motors now...\n",
      "initializing motors to [0 0 0 0 0 0 0 0]\n",
      "*** C side has an error or needs to be armed ***\n",
      "\n",
      "Arming motors\n"
     ]
    }
   ],
   "source": [
    "print(\"Arming motors now...\")\n",
    "motors.arm_motors()\n",
    "for i in range(8):\n",
    "    motors.zero_motors_radians(i, motors.get_motors_position_radians()[i])"
   ]
  },
  {
   "cell_type": "markdown",
   "metadata": {},
   "source": [
    "## Manual motor zeroing"
   ]
  },
  {
   "cell_type": "code",
   "execution_count": 54,
   "metadata": {},
   "outputs": [],
   "source": [
    "from importlib import reload\n",
    "reload(armControl)\n",
    "\n",
    "myArm = armControl.remoteRobotArm()\n",
    "\n",
    "#for i in range(5):\n",
    "setpoint_arm = np.array([-0.000,0.000,0.0,-0.0,-0.0,0.1,0.00])\n",
    "myArm.commandJoints(motors, setpoint_arm)\n",
    "#time.sleep(2)\n",
    "    #setpoint_arm = np.array([0.0,0.00,-0.0,0.0,0.0,-0.0,0.00])\n",
    "    #myArm.commandJoints(motors, setpoint_arm)\n",
    "    #time.sleep(2)\n",
    "    #myArm.commandJoints(motors, setpoint_arm)\n",
    "time.sleep(0.5)\n"
   ]
  },
  {
   "cell_type": "code",
   "execution_count": 55,
   "metadata": {},
   "outputs": [],
   "source": [
    "for i in range(8):\n",
    "    motors.zero_motors_radians(i, motors.get_motors_position_radians()[i])"
   ]
  },
  {
   "cell_type": "code",
   "execution_count": 19,
   "metadata": {},
   "outputs": [
    {
     "name": "stdout",
     "output_type": "stream",
     "text": [
      "average time: 0.002063405059860321\n",
      "std time: 0.00024425414241415155\n"
     ]
    },
    {
     "data": {
      "image/png": "[encoded data removed]",
      "text/plain": [
       "<Figure size 432x288 with 2 Axes>"
      ]
     },
     "metadata": {
      "needs_background": "light"
     },
     "output_type": "display_data"
    }
   ],
   "source": [
    "setpoint = np.zeros(8)\n",
    "import time\n",
    "\n",
    "#time_list = []\n",
    "true_times = []\n",
    "start = time.time()\n",
    "for i in range(1000):\n",
    "    #time_list.append(time.time()-start)\n",
    "    motors.command_motors_radians(setpoint)\n",
    "    true_times.append(motors.command_time)\n",
    "\n",
    "true_times = np.array(true_times)[1:]/10**9\n",
    "true_times = true_times - true_times[0]\n",
    "\n",
    "diffs = true_times[1:] - true_times[:-1]\n",
    "print('average time: {}'.format(diffs.mean()))\n",
    "print('std time: {}'.format(diffs.std()))\n",
    "\n",
    "plt.figure()\n",
    "#plt.plot(time_list)\n",
    "plt.subplot(2,1,1)\n",
    "plt.plot(true_times)\n",
    "plt.legend(['True times'])\n",
    "plt.subplot(2,1,2)\n",
    "plt.plot(diffs)\n",
    "plt.show()\n",
    "\n"
   ]
  },
  {
   "cell_type": "markdown",
   "metadata": {},
   "source": [
    "## Test arm joint mixing"
   ]
  },
  {
   "cell_type": "markdown",
   "metadata": {},
   "source": [
    "### this is old, now in \"commandJoints\" above\n",
    "\n",
    "import armControl\n",
    "from importlib import reload\n",
    "reload(armControl)\n",
    "\n",
    "setpoint_arm = np.array([0,0,0,0,0,0,-0])\n",
    "myArm = armControl.remoteRobotArm()\n",
    "myArm.jointAngleSetpoint = setpoint_arm\n",
    "myArm.updateMotorArmMixing()\n",
    "print(myArm.motorAngleSetpoint)\n",
    "\n",
    "setpoint_motor = np.zeros(8)\n",
    "setpoint_motor[axis_motor_indexes[3:7]] = myArm.motorAngleSetpoint[3:7]\n",
    "print(setpoint_motor)\n",
    "motors.run_trajectory(setpoint_motor, velocity)\n"
   ]
  },
  {
   "cell_type": "code",
   "execution_count": 141,
   "metadata": {},
   "outputs": [
    {
     "name": "stdout",
     "output_type": "stream",
     "text": [
      "[8.25e+01 4.25e+01 1.75e+00 8.72e-01 8.72e-01 8.72e-01 4.75e-02]\n",
      "[-82.5   -42.5    -1.75   -0.872  -0.872  -0.872   0.   ]\n",
      "[0.         0.00096939 0.00193878 0.00290816 0.00387755 0.00484694\n",
      " 0.00581633 0.00678571 0.0077551  0.00872449 0.00969388 0.01066327\n",
      " 0.01163265 0.01260204 0.01357143 0.01454082 0.0155102  0.01647959\n",
      " 0.01744898 0.01841837 0.01938776 0.02035714 0.02132653 0.02229592\n",
      " 0.02326531 0.02423469 0.02520408 0.02617347 0.02714286 0.02811224\n",
      " 0.02908163 0.03005102 0.03102041 0.0319898  0.03295918 0.03392857\n",
      " 0.03489796 0.03586735 0.03683673 0.03780612 0.03877551 0.0397449\n",
      " 0.04071429 0.04168367 0.04265306 0.04362245 0.04459184 0.04556122\n",
      " 0.04653061 0.0475    ]\n",
      "[-0.872      -0.86850501 -0.86501002 -0.86151503 -0.85802004 -0.85452505\n",
      " -0.85103006 -0.84753507 -0.84404008 -0.84054509 -0.8370501  -0.83355511\n",
      " -0.83006012 -0.82656513 -0.82307014 -0.81957515 -0.81608016 -0.81258517\n",
      " -0.80909018 -0.80559519 -0.8021002  -0.79860521 -0.79511022 -0.79161523\n",
      " -0.78812024 -0.78462525 -0.78113026 -0.77763527 -0.77414028 -0.77064529\n",
      " -0.7671503  -0.76365531 -0.76016032 -0.75666533 -0.75317034 -0.74967535\n",
      " -0.74618036 -0.74268537 -0.73919038 -0.73569539 -0.7322004  -0.72870541\n",
      " -0.72521042 -0.72171543 -0.71822044 -0.71472545 -0.71123046 -0.70773547\n",
      " -0.70424048 -0.70074549 -0.6972505  -0.69375551 -0.69026052 -0.68676553\n",
      " -0.68327054 -0.67977555 -0.67628056 -0.67278557 -0.66929058 -0.66579559\n",
      " -0.6623006  -0.65880561 -0.65531062 -0.65181563 -0.64832064 -0.64482565\n",
      " -0.64133066 -0.63783567 -0.63434068 -0.63084569 -0.6273507  -0.62385571\n",
      " -0.62036072 -0.61686573 -0.61337074 -0.60987575 -0.60638076 -0.60288577\n",
      " -0.59939078 -0.59589579 -0.5924008  -0.58890581 -0.58541082 -0.58191583\n",
      " -0.57842084 -0.57492585 -0.57143086 -0.56793587 -0.56444088 -0.56094589\n",
      " -0.5574509  -0.55395591 -0.55046092 -0.54696593 -0.54347094 -0.53997595\n",
      " -0.53648096 -0.53298597 -0.52949098 -0.52599599 -0.522501   -0.51900601\n",
      " -0.51551102 -0.51201603 -0.50852104 -0.50502605 -0.50153106 -0.49803607\n",
      " -0.49454108 -0.49104609 -0.4875511  -0.48405611 -0.48056112 -0.47706613\n",
      " -0.47357114 -0.47007615 -0.46658116 -0.46308617 -0.45959118 -0.45609619\n",
      " -0.4526012  -0.44910621 -0.44561122 -0.44211623 -0.43862124 -0.43512625\n",
      " -0.43163126 -0.42813627 -0.42464128 -0.42114629 -0.4176513  -0.41415631\n",
      " -0.41066132 -0.40716633 -0.40367134 -0.40017635 -0.39668136 -0.39318637\n",
      " -0.38969138 -0.38619639 -0.3827014  -0.37920641 -0.37571142 -0.37221643\n",
      " -0.36872144 -0.36522645 -0.36173146 -0.35823647 -0.35474148 -0.35124649\n",
      " -0.3477515  -0.34425651 -0.34076152 -0.33726653 -0.33377154 -0.33027655\n",
      " -0.32678156 -0.32328657 -0.31979158 -0.31629659 -0.3128016  -0.30930661\n",
      " -0.30581162 -0.30231663 -0.29882164 -0.29532665 -0.29183166 -0.28833667\n",
      " -0.28484168 -0.28134669 -0.2778517  -0.27435671 -0.27086172 -0.26736673\n",
      " -0.26387174 -0.26037675 -0.25688176 -0.25338677 -0.24989178 -0.24639679\n",
      " -0.2429018  -0.23940681 -0.23591182 -0.23241683 -0.22892184 -0.22542685\n",
      " -0.22193186 -0.21843687 -0.21494188 -0.21144689 -0.2079519  -0.20445691\n",
      " -0.20096192 -0.19746693 -0.19397194 -0.19047695 -0.18698196 -0.18348697\n",
      " -0.17999198 -0.17649699 -0.173002   -0.16950701 -0.16601202 -0.16251703\n",
      " -0.15902204 -0.15552705 -0.15203206 -0.14853707 -0.14504208 -0.14154709\n",
      " -0.1380521  -0.13455711 -0.13106212 -0.12756713 -0.12407214 -0.12057715\n",
      " -0.11708216 -0.11358717 -0.11009218 -0.10659719 -0.1031022  -0.09960721\n",
      " -0.09611222 -0.09261723 -0.08912224 -0.08562725 -0.08213226 -0.07863727\n",
      " -0.07514228 -0.07164729 -0.0681523  -0.06465731 -0.06116232 -0.05766733\n",
      " -0.05417234 -0.05067735 -0.04718236 -0.04368737 -0.04019238 -0.03669739\n",
      " -0.0332024  -0.02970741 -0.02621242 -0.02271743 -0.01922244 -0.01572745\n",
      " -0.01223246 -0.00873747 -0.00524248 -0.00174749  0.00174749  0.00524248\n",
      "  0.00873747  0.01223246  0.01572745  0.01922244  0.02271743  0.02621242\n",
      "  0.02970741  0.0332024   0.03669739  0.04019238  0.04368737  0.04718236\n",
      "  0.05067735  0.05417234  0.05766733  0.06116232  0.06465731  0.0681523\n",
      "  0.07164729  0.07514228  0.07863727  0.08213226  0.08562725  0.08912224\n",
      "  0.09261723  0.09611222  0.09960721  0.1031022   0.10659719  0.11009218\n",
      "  0.11358717  0.11708216  0.12057715  0.12407214  0.12756713  0.13106212\n",
      "  0.13455711  0.1380521   0.14154709  0.14504208  0.14853707  0.15203206\n",
      "  0.15552705  0.15902204  0.16251703  0.16601202  0.16950701  0.173002\n",
      "  0.17649699  0.17999198  0.18348697  0.18698196  0.19047695  0.19397194\n",
      "  0.19746693  0.20096192  0.20445691  0.2079519   0.21144689  0.21494188\n",
      "  0.21843687  0.22193186  0.22542685  0.22892184  0.23241683  0.23591182\n",
      "  0.23940681  0.2429018   0.24639679  0.24989178  0.25338677  0.25688176\n",
      "  0.26037675  0.26387174  0.26736673  0.27086172  0.27435671  0.2778517\n",
      "  0.28134669  0.28484168  0.28833667  0.29183166  0.29532665  0.29882164\n",
      "  0.30231663  0.30581162  0.30930661  0.3128016   0.31629659  0.31979158\n",
      "  0.32328657  0.32678156  0.33027655  0.33377154  0.33726653  0.34076152\n",
      "  0.34425651  0.3477515   0.35124649  0.35474148  0.35823647  0.36173146\n",
      "  0.36522645  0.36872144  0.37221643  0.37571142  0.37920641  0.3827014\n",
      "  0.38619639  0.38969138  0.39318637  0.39668136  0.40017635  0.40367134\n",
      "  0.40716633  0.41066132  0.41415631  0.4176513   0.42114629  0.42464128\n",
      "  0.42813627  0.43163126  0.43512625  0.43862124  0.44211623  0.44561122\n",
      "  0.44910621  0.4526012   0.45609619  0.45959118  0.46308617  0.46658116\n",
      "  0.47007615  0.47357114  0.47706613  0.48056112  0.48405611  0.4875511\n",
      "  0.49104609  0.49454108  0.49803607  0.50153106  0.50502605  0.50852104\n",
      "  0.51201603  0.51551102  0.51900601  0.522501    0.52599599  0.52949098\n",
      "  0.53298597  0.53648096  0.53997595  0.54347094  0.54696593  0.55046092\n",
      "  0.55395591  0.5574509   0.56094589  0.56444088  0.56793587  0.57143086\n",
      "  0.57492585  0.57842084  0.58191583  0.58541082  0.58890581  0.5924008\n",
      "  0.59589579  0.59939078  0.60288577  0.60638076  0.60987575  0.61337074\n",
      "  0.61686573  0.62036072  0.62385571  0.6273507   0.63084569  0.63434068\n",
      "  0.63783567  0.64133066  0.64482565  0.64832064  0.65181563  0.65531062\n",
      "  0.65880561  0.6623006   0.66579559  0.66929058  0.67278557  0.67628056\n",
      "  0.67977555  0.68327054  0.68676553  0.69026052  0.69375551  0.6972505\n",
      "  0.70074549  0.70424048  0.70773547  0.71123046  0.71472545  0.71822044\n",
      "  0.72171543  0.72521042  0.72870541  0.7322004   0.73569539  0.73919038\n",
      "  0.74268537  0.74618036  0.74967535  0.75317034  0.75666533  0.76016032\n",
      "  0.76365531  0.7671503   0.77064529  0.77414028  0.77763527  0.78113026\n",
      "  0.78462525  0.78812024  0.79161523  0.79511022  0.79860521  0.8021002\n",
      "  0.80559519  0.80909018  0.81258517  0.81608016  0.81957515  0.82307014\n",
      "  0.82656513  0.83006012  0.83355511  0.8370501   0.84054509  0.84404008\n",
      "  0.84753507  0.85103006  0.85452505  0.85802004  0.86151503  0.86501002\n",
      "  0.86850501  0.872     ]\n"
     ]
    },
    {
     "ename": "KeyboardInterrupt",
     "evalue": "",
     "output_type": "error",
     "traceback": [
      "\u001b[0;31m---------------------------------------------------------------------------\u001b[0m",
      "\u001b[0;31mKeyboardInterrupt\u001b[0m                         Traceback (most recent call last)",
      "\u001b[0;32m<ipython-input-141-41ad8672dbc5>\u001b[0m in \u001b[0;36m<module>\u001b[0;34m\u001b[0m\n\u001b[1;32m     27\u001b[0m             \u001b[0mmyArm\u001b[0m\u001b[0;34m.\u001b[0m\u001b[0mcommandJoints\u001b[0m\u001b[0;34m(\u001b[0m\u001b[0mmotors\u001b[0m\u001b[0;34m,\u001b[0m \u001b[0msetpoint_arm\u001b[0m\u001b[0;34m,\u001b[0m \u001b[0mtrajectory\u001b[0m \u001b[0;34m=\u001b[0m \u001b[0;32mFalse\u001b[0m\u001b[0;34m)\u001b[0m\u001b[0;34m\u001b[0m\u001b[0;34m\u001b[0m\u001b[0m\n\u001b[1;32m     28\u001b[0m             \u001b[0mtime\u001b[0m\u001b[0;34m.\u001b[0m\u001b[0msleep\u001b[0m\u001b[0;34m(\u001b[0m\u001b[0;36m0.01\u001b[0m\u001b[0;34m)\u001b[0m\u001b[0;34m\u001b[0m\u001b[0;34m\u001b[0m\u001b[0m\n\u001b[0;32m---> 29\u001b[0;31m         \u001b[0mtime\u001b[0m\u001b[0;34m.\u001b[0m\u001b[0msleep\u001b[0m\u001b[0;34m(\u001b[0m\u001b[0;36m5\u001b[0m\u001b[0;34m)\u001b[0m\u001b[0;34m\u001b[0m\u001b[0;34m\u001b[0m\u001b[0m\n\u001b[0m\u001b[1;32m     30\u001b[0m \u001b[0;34m\u001b[0m\u001b[0m\n\u001b[1;32m     31\u001b[0m \u001b[0;34m\u001b[0m\u001b[0m\n",
      "\u001b[0;31mKeyboardInterrupt\u001b[0m: "
     ]
    }
   ],
   "source": [
    "print(myArm.jointUpperLimits)\n",
    "print(myArm.jointLowerLimits)\n",
    "a = np.linspace(myArm.jointLowerLimits[-1],myArm.jointUpperLimits[-1], num=50)\n",
    "b = np.linspace(myArm.jointLowerLimits[-2],myArm.jointUpperLimits[-2], num=500)\n",
    "c = np.linspace(myArm.jointLowerLimits[-3],myArm.jointUpperLimits[-3], num=50)\n",
    "d = np.linspace(myArm.jointLowerLimits[-4],myArm.jointUpperLimits[-4], num=50)\n",
    "\n",
    "print(a)\n",
    "print(b)\n",
    "#c = np.meshgrid(a,b)\n",
    "#print(c)\n",
    "\n",
    "setpoint_arm = np.array([0,0,0,0.,0,0.,0.0])\n",
    "myArm.commandJoints(motors, setpoint_arm)\n",
    "\n",
    "time.sleep(5)\n",
    "\n",
    "for k in range(len(d)):\n",
    "    #time.sleep(5)\n",
    "    for j in range(len(c)):\n",
    "        #time.sleep(5)\n",
    "        setpoint_arm = np.array([0,0,0,d[k],c[j],b[i],0])\n",
    "        myArm.commandJoints(motors, setpoint_arm, trajectory = True)\n",
    "        time.sleep(5)\n",
    "        for i in range(len(b)):\n",
    "            setpoint_arm = np.array([0,0,0,d[k],c[j],b[i],0])\n",
    "            myArm.commandJoints(motors, setpoint_arm, trajectory = False)\n",
    "            time.sleep(0.02)\n",
    "            #add in optitrack position measurements\n",
    "        time.sleep(5)\n",
    "\n",
    "\n",
    "setpoint_arm = np.array([0,0,0,0.,0,0.,0.0])\n",
    "myArm.commandJoints(motors, setpoint_arm)"
   ]
  },
  {
   "cell_type": "markdown",
   "metadata": {},
   "source": [
    "## Sine wave / profile test"
   ]
  },
  {
   "cell_type": "code",
   "execution_count": 65,
   "metadata": {},
   "outputs": [
    {
     "name": "stdout",
     "output_type": "stream",
     "text": [
      "We had a timeout (probably)?\n",
      "average time: 0.0070762984869519084\n",
      "std time: 0.388165448411507\n"
     ]
    },
    {
     "data": {
      "image/png": "[encoded data removed]",
      "text/plain": [
       "<Figure size 432x288 with 2 Axes>"
      ]
     },
     "metadata": {
      "needs_background": "light"
     },
     "output_type": "display_data"
    }
   ],
   "source": [
    "dt = 0.005\n",
    "runtime = 30\n",
    "num_elements = int(runtime/dt)\n",
    "setpoints = np.zeros((num_elements, 7))\n",
    "frequency = 0.3\n",
    "amplitude = np.pi/10\n",
    "for i in range(num_elements):\n",
    "    setpoints[i,3:-1] = (np.ones(3) * np.sin(i*dt*2*pi*frequency)*amplitude)\n",
    "\n",
    "\n",
    "start_time = time.time()\n",
    "true_times = []\n",
    "\n",
    "currents_mA = []\n",
    "for i in range(num_elements):\n",
    "    current_time = time.time()\n",
    "    setpoint = setpoints[i]\n",
    "    myArm.commandJoints(motors, setpoint, trajectory=False)\n",
    "    true_times.append(motors.command_time)\n",
    "\n",
    "    time.sleep(dt)\n",
    "\n",
    "time.sleep(1.5)\n",
    "\n",
    "motors.run_trajectory(np.zeros(8), velocity)\n",
    "\n",
    "\n",
    "true_times = np.array(true_times)[1:]/10**9\n",
    "true_times = true_times - true_times[0]\n",
    "\n",
    "diffs = true_times[1:] - true_times[:-1]\n",
    "print('average time: {}'.format(diffs.mean()))\n",
    "print('std time: {}'.format(diffs.std()))\n",
    "\n",
    "plt.figure()\n",
    "#plt.plot(time_list)\n",
    "plt.subplot(2,1,1)\n",
    "plt.plot(true_times)\n",
    "plt.legend(['True times'])\n",
    "plt.subplot(2,1,2)\n",
    "plt.plot(diffs)\n",
    "plt.show()\n"
   ]
  },
  {
   "cell_type": "markdown",
   "metadata": {},
   "source": [
    "## Cleanup"
   ]
  },
  {
   "cell_type": "code",
   "execution_count": 35,
   "metadata": {},
   "outputs": [],
   "source": [
    "setpoints = np.zeros(8)\n",
    "velocity = np.ones(8)*3.14/5\n",
    "motors.run_trajectory(setpoints, velocity)\n",
    "time.sleep(1)\n",
    "motors.tcp_close()"
   ]
  },
  {
   "cell_type": "code",
   "execution_count": 42,
   "metadata": {},
   "outputs": [],
   "source": [
    "motors.tcp_close()"
   ]
  },
  {
   "cell_type": "code",
   "execution_count": null,
   "metadata": {},
   "outputs": [],
   "source": []
  }
 ],
 "metadata": {
  "kernelspec": {
   "display_name": "Python 3",
   "language": "python",
   "name": "python3"
  },
  "language_info": {
   "codemirror_mode": {
    "name": "ipython",
    "version": 3
   },
   "file_extension": ".py",
   "mimetype": "text/x-python",
   "name": "python",
   "nbconvert_exporter": "python",
   "pygments_lexer": "ipython3",
   "version": "3.6.7"
  }
 },
 "nbformat": 4,
 "nbformat_minor": 2
}
