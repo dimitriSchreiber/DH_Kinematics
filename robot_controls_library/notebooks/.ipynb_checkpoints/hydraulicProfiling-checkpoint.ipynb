{
 "cells": [
  {
   "cell_type": "markdown",
   "metadata": {},
   "source": [
    "# This is the most up to date motor control example. Refer here to work with the FPGA through the network connection"
   ]
  },
  {
   "cell_type": "code",
   "execution_count": 160,
   "metadata": {},
   "outputs": [],
   "source": [
    "import numpy as np\n",
    "import matplotlib.pyplot as plt\n",
    "import time\n",
    "\n",
    "import sys\n",
    "sys.path.append(\"..\")\n",
    "sys.path.append(\"../../\")\n",
    "\n",
    "from armControl import *\n",
    "from forwardKinematics import robot_config\n",
    "from utils.motor_setup import maxonLarge\n",
    "import signal\n",
    "\n",
    "import matplotlib.pyplot as plt\n"
   ]
  },
  {
   "cell_type": "code",
   "execution_count": 161,
   "metadata": {},
   "outputs": [
    {
     "name": "stdout",
     "output_type": "stream",
     "text": [
      "Opening socket at ip: 192.168.0.115 using port: 1122\n"
     ]
    }
   ],
   "source": [
    "socket_ip = '192.168.0.115'\n",
    "socket_port = 1122\n",
    "\n",
    "#trajPlanner = trajectoryGenerator()\n",
    "\n",
    "motors = maxonLarge()\n",
    "motors.tcp_init(socket_ip, socket_port)"
   ]
  },
  {
   "cell_type": "code",
   "execution_count": 162,
   "metadata": {},
   "outputs": [
    {
     "name": "stdout",
     "output_type": "stream",
     "text": [
      "Arming motors now...\n",
      "initializing motors to [ 40 -74   0   0   0   0   0   0]\n",
      "Arming motors\n"
     ]
    }
   ],
   "source": [
    "print(\"Arming motors now...\")\n",
    "motors.arm_motors()\n"
   ]
  },
  {
   "cell_type": "markdown",
   "metadata": {},
   "source": [
    "# benchmark communication speed"
   ]
  },
  {
   "cell_type": "code",
   "execution_count": null,
   "metadata": {},
   "outputs": [],
   "source": [
    "setpoint = np.zeros(8)\n",
    "import time\n",
    "\n",
    "#time_list = []\n",
    "true_times = []\n",
    "adc = []\n",
    "encoders = []\n",
    "setpoints = []\n",
    "start = time.time()\n",
    "for i in range(20000):\n",
    "    #time_list.append(time.time()-start)\n",
    "    setpoint = np.ones(8)*np.sin((time.time()-start)*np.pi*2/20)/10\n",
    "    setpoints.append(setpoint)\n",
    "    motors.command_motors_radians(setpoint)\n",
    "    true_times.append(motors.command_time)\n",
    "    adc.append(motors.avg_current)\n",
    "    encoders.append(motors.get_motors_position_radians())\n",
    "\n",
    "motors.run_trajectory(setpoints = np.zeros(8), velocity=np.ones(8)/20)\n",
    "\n",
    "setpoints = np.array(setpoints)\n",
    "true_times = np.array(true_times)[1:]/10**9\n",
    "encoders = np.array(encoders)\n",
    "adc = np.array(adc)\n",
    "\n",
    "true_times = true_times - true_times[0]\n",
    "\n",
    "diffs = true_times[1:] - true_times[:-1]\n",
    "print('average time: {}'.format(diffs.mean()))\n",
    "print('std time: {}'.format(diffs.std()))"
   ]
  },
  {
   "cell_type": "code",
   "execution_count": 164,
   "metadata": {},
   "outputs": [
    {
     "data": {
      "image/png": "[encoded data removed]",
      "text/plain": [
       "<Figure size 432x288 with 5 Axes>"
      ]
     },
     "metadata": {
      "needs_background": "light"
     },
     "output_type": "display_data"
    }
   ],
   "source": [
    "plt.figure()\n",
    "#plt.plot(time_list)\n",
    "plt.subplot(5,1,1)\n",
    "plt.plot(true_times)\n",
    "plt.legend(['True times'])\n",
    "plt.subplot(5,1,2)\n",
    "plt.plot(diffs)\n",
    "plt.subplot(5,1,3)\n",
    "plt.plot(adc[:,6])\n",
    "plt.subplot(5,1,4)\n",
    "plt.plot(encoders[:,1])\n",
    "plt.plot(-setpoints[:,0])\n",
    "plt.subplot(5,1,5)\n",
    "plt.plot(adc[:,1])\n",
    "plt.show()"
   ]
  },
  {
   "cell_type": "markdown",
   "metadata": {},
   "source": [
    "# current plotting"
   ]
  },
  {
   "cell_type": "code",
   "execution_count": 8,
   "metadata": {},
   "outputs": [
    {
     "data": {
      "text/plain": [
       "<matplotlib.legend.Legend at 0x7faabeec0fd0>"
      ]
     },
     "execution_count": 8,
     "metadata": {},
     "output_type": "execute_result"
    },
    {
     "data": {
      "image/png": "[encoded data removed]",
      "text/plain": [
       "<Figure size 432x288 with 1 Axes>"
      ]
     },
     "metadata": {
      "needs_background": "light"
     },
     "output_type": "display_data"
    }
   ],
   "source": [
    "\n",
    "velocity = np.ones(8)*(np.pi/10)\n",
    "\n",
    "\n",
    "setpoint = np.zeros(8)\n",
    "currents_left = []\n",
    "currents_right = []\n",
    "counts_left = []\n",
    "motor_position = []\n",
    "\n",
    "start = time.time()\n",
    "for i in range(500):\n",
    "    setpoint = np.ones(8)*np.sin((time.time()-start)*2*np.pi/2)/10\n",
    "    currents_left.append(motors.avg_current[0])\n",
    "    currents_right.append(motors.avg_current[1])\n",
    "    #counts_left.append(motors.get_motors_position_radians())\n",
    "    motor_position.append(motors.get_motors_position_radians())\n",
    "    \n",
    "    motors.command_motors_radians(setpoint)\n",
    "    time.sleep(0.01)\n",
    "\n",
    "motors.command_motors_radians(np.zeros(8))\n",
    "\n",
    "currents_left = np.array(currents_left)\n",
    "counts_left = np.array(counts_left)\n",
    "motor_position = np.array(motor_position)\n",
    "\n",
    "plt.plot(currents_left)\n",
    "plt.plot(currents_right)\n",
    "plt.plot(motor_position[:,0])\n",
    "plt.legend(['phase 1 currents', 'phase 2 currents', 'counts'])"
   ]
  },
  {
   "cell_type": "code",
   "execution_count": 179,
   "metadata": {},
   "outputs": [
    {
     "data": {
      "text/plain": [
       "(100, 8)"
      ]
     },
     "execution_count": 179,
     "metadata": {},
     "output_type": "execute_result"
    }
   ],
   "source": [
    "motor_position.shape"
   ]
  },
  {
   "cell_type": "code",
   "execution_count": 199,
   "metadata": {},
   "outputs": [
    {
     "name": "stdout",
     "output_type": "stream",
     "text": [
      "[ 0.00000000e+00 -1.57079633e-04  0.00000000e+00  1.13050212e+00\n",
      "  0.00000000e+00  0.00000000e+00  0.00000000e+00  0.00000000e+00]\n"
     ]
    }
   ],
   "source": [
    "motors.command_motors_radians(np.zeros(8))\n",
    "print(motors.get_motors_position_radians())\n"
   ]
  },
  {
   "cell_type": "markdown",
   "metadata": {},
   "source": [
    "# zeroing code"
   ]
  },
  {
   "cell_type": "code",
   "execution_count": 10,
   "metadata": {},
   "outputs": [
    {
     "name": "stdout",
     "output_type": "stream",
     "text": [
      "0.0\n"
     ]
    },
    {
     "ename": "IndexError",
     "evalue": "too many indices for array",
     "output_type": "error",
     "traceback": [
      "\u001b[0;31m---------------------------------------------------------------------------\u001b[0m",
      "\u001b[0;31mIndexError\u001b[0m                                Traceback (most recent call last)",
      "\u001b[0;32m<ipython-input-10-3f31233dfad8>\u001b[0m in \u001b[0;36m<module>\u001b[0;34m\u001b[0m\n\u001b[1;32m     51\u001b[0m \u001b[0;34m\u001b[0m\u001b[0m\n\u001b[1;32m     52\u001b[0m \u001b[0mplt\u001b[0m\u001b[0;34m.\u001b[0m\u001b[0mplot\u001b[0m\u001b[0;34m(\u001b[0m\u001b[0mcurrents_left\u001b[0m\u001b[0;34m)\u001b[0m\u001b[0;34m\u001b[0m\u001b[0;34m\u001b[0m\u001b[0m\n\u001b[0;32m---> 53\u001b[0;31m \u001b[0mplt\u001b[0m\u001b[0;34m.\u001b[0m\u001b[0mplot\u001b[0m\u001b[0;34m(\u001b[0m\u001b[0mnp\u001b[0m\u001b[0;34m.\u001b[0m\u001b[0mabs\u001b[0m\u001b[0;34m(\u001b[0m\u001b[0mcounts_left\u001b[0m\u001b[0;34m[\u001b[0m\u001b[0;34m:\u001b[0m\u001b[0;34m,\u001b[0m\u001b[0;36m1\u001b[0m\u001b[0;34m]\u001b[0m\u001b[0;34m)\u001b[0m\u001b[0;34m/\u001b[0m\u001b[0;36m5\u001b[0m\u001b[0;34m)\u001b[0m\u001b[0;34m\u001b[0m\u001b[0;34m\u001b[0m\u001b[0m\n\u001b[0m\u001b[1;32m     54\u001b[0m \u001b[0mplt\u001b[0m\u001b[0;34m.\u001b[0m\u001b[0mplot\u001b[0m\u001b[0;34m(\u001b[0m\u001b[0mcurrents_right\u001b[0m\u001b[0;34m)\u001b[0m\u001b[0;34m\u001b[0m\u001b[0;34m\u001b[0m\u001b[0m\n\u001b[1;32m     55\u001b[0m \u001b[0mplt\u001b[0m\u001b[0;34m.\u001b[0m\u001b[0mplot\u001b[0m\u001b[0;34m(\u001b[0m\u001b[0mnp\u001b[0m\u001b[0;34m.\u001b[0m\u001b[0mabs\u001b[0m\u001b[0;34m(\u001b[0m\u001b[0mcounts_right\u001b[0m\u001b[0;34m[\u001b[0m\u001b[0;34m:\u001b[0m\u001b[0;34m,\u001b[0m\u001b[0;36m1\u001b[0m\u001b[0;34m]\u001b[0m\u001b[0;34m)\u001b[0m\u001b[0;34m/\u001b[0m\u001b[0;36m5\u001b[0m\u001b[0;34m)\u001b[0m\u001b[0;34m\u001b[0m\u001b[0;34m\u001b[0m\u001b[0m\n",
      "\u001b[0;31mIndexError\u001b[0m: too many indices for array"
     ]
    },
    {
     "data": {
      "image/png": "[encoded data removed]",
      "text/plain": [
       "<Figure size 432x288 with 1 Axes>"
      ]
     },
     "metadata": {
      "needs_background": "light"
     },
     "output_type": "display_data"
    }
   ],
   "source": [
    "for i in range(1):\n",
    "    setpoint = np.zeros(8)\n",
    "    currents_left = []\n",
    "    counts_left = []\n",
    "\n",
    "    while motors.avg_current[0] < 0.15:\n",
    "        setpoint = setpoint + 0.01\n",
    "        currents_left.append(motors.avg_current[0])\n",
    "        counts_left.append(motors.get_motors_position_radians())\n",
    "        motors.command_motors_radians(setpoint)\n",
    "        time.sleep(0.01)\n",
    "    zero_left = motors.get_motors_position_radians()\n",
    "\n",
    "    motors.run_trajectory(np.zeros(8), velocity)\n",
    "\n",
    "    setpoint = np.zeros(8)    \n",
    "    currents_right = []\n",
    "    counts_right = []\n",
    "    while motors.avg_current[0] < 0.15:\n",
    "        setpoint = setpoint - 0.01\n",
    "        currents_right.append(motors.avg_current[0])\n",
    "        counts_right.append(motors.get_motors_position_radians())\n",
    "        motors.command_motors_radians(setpoint)\n",
    "        time.sleep(0.01)\n",
    "    zero_right = motors.get_motors_position_radians()\n",
    "\n",
    "    motor_zero_new = (zero_right[1] + zero_left[1])/2\n",
    "    motors.zero_motors_radians(1, motor_zero_new)\n",
    "\n",
    "    motors.run_trajectory(np.zeros(8), velocity)\n",
    "    print(motor_zero_new)\n",
    "\n",
    "currents_left = np.array(currents_left)\n",
    "counts_left = np.array(counts_left)\n",
    "currents_right = np.array(currents_right)\n",
    "counts_right = np.array(counts_right)\n",
    "\n",
    "plt.plot(currents_left)\n",
    "plt.plot(np.abs(counts_left[:,1])/5)\n",
    "plt.plot(currents_right)\n",
    "plt.plot(np.abs(counts_right[:,1])/5)\n",
    "plt.legend(['left currents', 'left counts', 'right currents', 'right counts'])"
   ]
  },
  {
   "cell_type": "markdown",
   "metadata": {},
   "source": [
    "## Tuning gains based on oscillation"
   ]
  },
  {
   "cell_type": "markdown",
   "metadata": {},
   "source": [
    "currents = []\n",
    "positions = []\n",
    "\n",
    "start = time.time()\n",
    "while time.time() - start < 10:\n",
    "    currents.append(motors.avg_current[0])\n",
    "    positions.append(motors.get_motors_position_radians())\n",
    "    time.sleep(0.01)\n",
    "\n",
    "currents = np.array(currents)\n",
    "positions = np.array(positions)"
   ]
  },
  {
   "cell_type": "markdown",
   "metadata": {},
   "source": [
    "plt.plot(currents)\n",
    "plt.plot(positions[:,1]/5)\n",
    "plt.legend(['currents', 'position'])"
   ]
  },
  {
   "cell_type": "code",
   "execution_count": 608,
   "metadata": {},
   "outputs": [
    {
     "name": "stdout",
     "output_type": "stream",
     "text": [
      "Mean error: 11.677003236156613\n"
     ]
    },
    {
     "data": {
      "image/png": "[encoded data removed]",
      "text/plain": [
       "<Figure size 432x288 with 1 Axes>"
      ]
     },
     "metadata": {
      "needs_background": "light"
     },
     "output_type": "display_data"
    }
   ],
   "source": [
    "dt = 0.01\n",
    "runtime = 1000\n",
    "num_elements = int(runtime/dt)\n",
    "setpoints = np.zeros((num_elements, 8))\n",
    "frequency = 1\n",
    "for i in range(num_elements):\n",
    "    setpoints[i,:] = (np.ones(8) * np.sin(i*dt*2*pi*frequency)*3.14/3)\n",
    "\n",
    "\n",
    "start_time = time.time()\n",
    "\n",
    "currents_mA = []\n",
    "counts = []\n",
    "for i in range(num_elements):\n",
    "    current_time = time.time()\n",
    "    #print(enc_position)\n",
    "    setpoint = setpoints[i]\n",
    "    motors.command_motors_radians(setpoint)\n",
    "    currents_mA.append(1000*motors.avg_current)\n",
    "    counts.append(motors.get_motors_position_radians())\n",
    "    time.sleep(dt)\n",
    "    \n",
    "motors.run_trajectory(np.zeros(8), velocity)\n",
    "\n",
    "currents_mA = np.array(currents_mA)\n",
    "counts = np.array(counts)\n",
    "plt.plot(currents_mA[:,0])\n",
    "plt.plot(counts[:,1]*180/np.pi)\n",
    "plt.plot(setpoints*180/np.pi)\n",
    "\n",
    "print('Mean error: {}'.format(np.mean(np.abs(counts[:,1]-setpoints[:,1]))*180/np.pi))"
   ]
  },
  {
   "cell_type": "code",
   "execution_count": 159,
   "metadata": {},
   "outputs": [],
   "source": [
    "motors.tcp_close()"
   ]
  },
  {
   "cell_type": "code",
   "execution_count": null,
   "metadata": {},
   "outputs": [],
   "source": []
  }
 ],
 "metadata": {
  "kernelspec": {
   "display_name": "Python 3",
   "language": "python",
   "name": "python3"
  },
  "language_info": {
   "codemirror_mode": {
    "name": "ipython",
    "version": 3
   },
   "file_extension": ".py",
   "mimetype": "text/x-python",
   "name": "python",
   "nbconvert_exporter": "python",
   "pygments_lexer": "ipython3",
   "version": "3.6.7"
  }
 },
 "nbformat": 4,
 "nbformat_minor": 2
}
