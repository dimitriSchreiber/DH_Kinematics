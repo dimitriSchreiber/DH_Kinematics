{
 "cells": [
  {
   "cell_type": "code",
   "execution_count": 24,
   "metadata": {
    "scrolled": true
   },
   "outputs": [
    {
     "name": "stdout",
     "output_type": "stream",
     "text": [
      "Opening socket at ip: 192.168.0.113 using port: 1122\n"
     ]
    }
   ],
   "source": [
    "import numpy as np\n",
    "import matplotlib.pyplot as plt\n",
    "import time\n",
    "\n",
    "import sys\n",
    "sys.path.append(\"..\")\n",
    "sys.path.append(\"../../\")\n",
    "\n",
    "from armControl import *\n",
    "from forwardKinematics import robot_config\n",
    "from utils.motor_setup import *\n",
    "import armControl\n",
    "\n",
    "import signal\n",
    "\n",
    "socket_ip = '192.168.0.113'\n",
    "socket_port = 1122\n",
    "\n",
    "motors = maxonLarge()\n",
    "motors.tcp_init(socket_ip, socket_port)\n",
    "\n"
   ]
  },
  {
   "cell_type": "code",
   "execution_count": 25,
   "metadata": {},
   "outputs": [
    {
     "name": "stdout",
     "output_type": "stream",
     "text": [
      "Arming motors now...\n",
      "initializing motors to [0 0 0 0 0 0 0 0]\n",
      "*** C side has an error or needs to be armed ***\n",
      "\n",
      "Arming motors\n"
     ]
    }
   ],
   "source": [
    "print(\"Arming motors now...\")\n",
    "motors.arm_motors()\n",
    "\n",
    "for i in range(8):\n",
    "    motors.zero_motors_radians(i, motors.get_motors_position_radians()[i])"
   ]
  },
  {
   "cell_type": "code",
   "execution_count": 34,
   "metadata": {},
   "outputs": [
    {
     "name": "stdout",
     "output_type": "stream",
     "text": [
      "[    0     0     0     0   -28 -1337 -1253 -1352]\n",
      "[    0     0     0     0   -28 -1292 -1236 -1396]\n",
      "[    0     0     0     0   -28 -1292 -1236 -1396]\n",
      "[   0    0    0    0  -28 -686 -633 -620]\n",
      "[    0     0     0     0   -28 -1246 -1255 -1180]\n",
      "[    0     0     0     0   -28 -1822 -1751 -1781]\n",
      "[    0     0     0     0   -28 -1876 -1830 -1838]\n",
      "[    0     0     0     0   -28 -1863 -1805 -1818]\n",
      "[    0     0     0     0   -28 -1213 -1075 -1036]\n",
      "[  0   0   0   0 -28  47 251 358]\n",
      "[   0    0    0    0  -28 1124 1292 1432]\n",
      "[   0    0    0    0  -28 1312 1386 1565]\n",
      "[   0    0    0    0  -28 1291 1335 1548]\n",
      "[   0    0    0    0  -28 1266  825 1144]\n",
      "[   0    0    0    0  -28  179 -374 -131]\n",
      "[    0     0     0     0   -28  -916 -1292 -1140]\n",
      "[    0     0     0     0   -28 -1048 -1410 -1261]\n",
      "[    0     0     0     0   -28 -1002 -1386 -1239]\n",
      "[   0    0    0    0  -28 -489 -719 -526]\n",
      "[  0   0   0   0 -28 563 535 700]\n",
      "[   0    0    0    0  -28 1412 1461 1616]\n",
      "[   0    0    0    0  -28 1451 1527 1689]\n",
      "[   0    0    0    0  -28 1440 1467 1675]\n",
      "[  0   0   0   0 -28 907 780 983]\n",
      "[   0    0    0    0  -28 -341 -479 -325]\n",
      "[    0     0     0     0   -28 -1253 -1340 -1303]\n",
      "[    0     0     0     0   -28 -1303 -1407 -1417]\n",
      "[    0     0     0     0   -28 -1287 -1386 -1400]\n",
      "[   0    0    0    0  -28 -607 -630 -545]\n",
      "[  0   0   0   0 -28 559 632 720]\n",
      "[   0    0    0    0  -28 1409 1492 1607]\n",
      "[   0    0    0    0  -28 1450 1552 1669]\n",
      "[   0    0    0    0  -28 1437 1466 1656]\n",
      "[  0   0   0   0 -28 799 687 905]\n",
      "[   0    0    0    0  -28 -458 -587 -418]\n",
      "[    0     0     0     0   -28 -1326 -1397 -1324]\n",
      "[    0     0     0     0   -28 -1363 -1408 -1435]\n",
      "[    0     0     0     0   -28 -1284 -1383 -1416]\n",
      "[   0    0    0    0  -28 -521 -554 -479]\n",
      "[  0   0   0   0 -28 675 721 809]\n",
      "[   0    0    0    0  -28 1486 1538 1629]\n",
      "[   0    0    0    0  -28 1513 1572 1644]\n",
      "[   0    0    0    0  -28 1427 1455 1632]\n",
      "[  0   0   0   0 -28 646 596 811]\n",
      "[   0    0    0    0  -28 -619 -683 -500]\n",
      "[    0     0     0     0   -28 -1377 -1440 -1293]\n",
      "[    0     0     0     0   -28 -1435 -1456 -1302]\n",
      "[    0     0     0     0   -28 -1421 -1365 -1283]\n",
      "[   0    0    0    0  -28 -665 -421 -353]\n",
      "[  0   0   0   0 -28 617 856 934]\n",
      "[   0    0    0    0  -28 1417 1588 1691]\n",
      "[   0    0    0    0  -28 1445 1625 1710]\n",
      "[   0    0    0    0  -28 1430 1606 1593]\n",
      "[  0   0   0   0 -28 635 622 605]\n",
      "[   0    0    0    0  -28 -650 -712 -663]\n",
      "[    0     0     0     0   -28 -1376 -1432 -1367]\n",
      "[    0     0     0     0   -28 -1435 -1407 -1437]\n",
      "[    0     0     0     0   -36 -1421 -1388 -1405]\n",
      "[   0    0    0    0  -36 -599 -422 -306]\n",
      "[  0   0   0   0 -36 699 848 994]\n",
      "[   0    0    0    0  -36 1416 1529 1675]\n",
      "[   0    0    0    0  -36 1440 1547 1682]\n",
      "[   0    0    0    0  -36 1423 1302 1665]\n",
      "[  0   0   0   0 -36 558 331 700]\n",
      "[   0    0    0    0  -36 -731 -920 -605]\n",
      "[    0     0     0     0   -36 -1389 -1484 -1293]\n",
      "[    0     0     0     0   -36 -1438 -1500 -1312]\n",
      "[    0     0     0     0   -36 -1424 -1220  -917]\n",
      "[   0    0    0    0  -36 -536 -201   84]\n",
      "[   0    0    0    0  -36  751 1012 1244]\n",
      "[   0    0    0    0  -36 1431 1602 1791]\n",
      "[   0    0    0    0  -36 1440 1623 1844]\n",
      "[   0    0    0    0  -36 1421 1596 1819]\n",
      "[  0   0   0   0 -36 501 479 668]\n",
      "[   0    0    0    0  -36 -797 -867 -660]\n",
      "[    0     0     0     0   -36 -1386 -1428 -1281]\n",
      "[    0     0     0     0   -36 -1436 -1406 -1231]\n",
      "[    0     0     0     0   -36 -1417 -1380 -1208]\n",
      "[   0    0    0    0  -36 -445 -282 -103]\n",
      "[   0    0    0    0  -36  846  969 1147]\n",
      "[   0    0    0    0  -36 1441 1507 1667]\n",
      "[   0    0    0    0  -42 1462 1472 1716]\n",
      "[   0    0    0    0  -42 1439 1442 1682]\n",
      "[  0   0   0   0 -42 449 321 527]\n",
      "[   0    0    0    0  -42 -835 -950 -739]\n",
      "[    0     0     0     0   -42 -1345 -1431 -1269]\n",
      "[    0     0     0     0   -42 -1348 -1404 -1220]\n",
      "[    0     0     0     0   -42  -876 -1067  -974]\n",
      "[  0   0   0   0 -42 186  98 232]\n",
      "[   0    0    0    0  -42 1262 1218 1350]\n",
      "[   0    0    0    0  -42 1505 1582 1757]\n",
      "[   0    0    0    0 -116 1389 1626 1694]\n",
      "[   0    0    0    0 -116 1361 1149 1395]\n",
      "[   0    0    0    0 -116  323  -48  182]\n",
      "[    0     0     0     0  -116  -924 -1170  -950]\n",
      "[    0     0     0     0  -116 -1387 -1429 -1261]\n",
      "[    0     0     0     0  -116 -1354 -1395 -1236]\n",
      "[   0    0    0    0 -116 -951 -912 -780]\n",
      "[   0    0    0    0 -116  201  258  387]\n",
      "[   0    0    0    0 -116 1299 1316 1435]\n",
      "[   0    0    0    0 -116 1546 1517 1718]\n",
      "[   0    0    0    0 -136 1496 1809 1754]\n",
      "[   0    0    0    0 -136 1471 1207 1220]\n",
      "[   0    0    0    0 -136  372 -104    4]\n",
      "[    0     0     0     0  -136  -892 -1195 -1058]\n",
      "[    0     0     0     0  -136 -1271 -1379 -1230]\n",
      "[    0     0     0     0  -136 -1231 -1347 -1199]\n",
      "[    0     0     0     0  -136 -1200  -864  -685]\n",
      "[   0    0    0    0 -136  -68  330  493]\n",
      "[   0    0    0    0 -136 1102 1356 1502]\n",
      "[   0    0    0    0 -136 1370 1549 1636]\n",
      "[   0    0    0    0 -138 1355 1507 1600]\n",
      "[   0    0    0    0 -138 1003 1007 1050]\n",
      "[   0    0    0    0 -138 -200 -291 -198]\n",
      "[    0     0     0     0  -138 -1248 -1318 -1202]\n",
      "[    0     0     0     0  -138 -1392 -1395 -1361]\n",
      "[    0     0     0     0  -138 -1375 -1358 -1349]\n",
      "[   0    0    0    0 -138 -773 -728 -652]\n",
      "[   0    0    0    0 -138  408  492  570]\n",
      "[   0    0    0    0 -138 1407 1470 1530]\n",
      "[   0    0    0    0 -138 1505 1547 1613]\n",
      "[   0    0    0    0 -138 1486 1504 1592]\n",
      "[   0    0    0    0 -138  908  872  932]\n",
      "[   0    0    0    0 -138 -365 -426 -319]\n",
      "[    0     0     0     0  -138 -1341 -1372 -1294]\n",
      "[    0     0     0     0  -138 -1399 -1422 -1385]\n",
      "[    0     0     0     0  -138 -1380 -1354 -1370]\n",
      "[   0    0    0    0 -138 -710 -676 -616]\n",
      "[   0    0    0    0 -138  509  569  629]\n",
      "[   0    0    0    0 -138 1464 1524 1568]\n",
      "[   0    0    0    0 -138 1506 1585 1634]\n",
      "[   0    0    0    0 -138 1482 1501 1559]\n",
      "[   0    0    0    0 -138  820  795  820]\n",
      "[   0    0    0    0 -138 -484 -531 -430]\n",
      "[    0     0     0     0  -138 -1411 -1410 -1326]\n",
      "[    0     0     0     0  -138 -1532 -1513 -1377]\n",
      "[    0     0     0     0  -138 -1518 -1488 -1360]\n",
      "[   0    0    0    0 -138 -849 -662 -507]\n",
      "[   0    0    0    0 -138  472  627  771]\n",
      "[   0    0    0    0 -138 1420 1511 1638]\n",
      "[   0    0    0    0 -138 1494 1535 1684]\n",
      "[   0    0    0    0 -138 1477 1501 1586]\n",
      "[   0    0    0    0 -138  757  701  745]\n",
      "[   0    0    0    0 -138 -560 -631 -506]\n",
      "[    0     0     0     0  -138 -1435 -1455 -1381]\n",
      "[    0     0     0     0  -138 -1533 -1512 -1498]\n",
      "[    0     0     0     0  -138 -1518 -1482 -1473]\n",
      "[   0    0    0    0 -138 -753 -565 -511]\n",
      "[   0    0    0    0 -138  564  738  805]\n",
      "[   0    0    0    0 -138 1447 1522 1627]\n",
      "[   0    0    0    0 -138 1489 1522 1660]\n",
      "[   0    0    0    0 -138 1476 1504 1562]\n",
      "[   0    0    0    0 -138  668  628  659]\n",
      "[   0    0    0    0 -138 -659 -697 -608]\n",
      "[    0     0     0     0  -138 -1467 -1443 -1358]\n",
      "[    0     0     0     0  -138 -1530 -1506 -1378]\n",
      "[    0     0     0     0  -138 -1517 -1480 -1362]\n",
      "[   0    0    0    0 -138 -676 -499 -362]\n",
      "[   0    0    0    0 -138  655  798  909]\n",
      "[   0    0    0    0 -138 1468 1539 1657]\n",
      "[   0    0    0    0 -138 1486 1520 1702]\n",
      "[   0    0    0    0 -138 1472 1502 1687]\n",
      "[   0    0    0    0 -138  607  576  726]\n",
      "[   0    0    0    0 -138 -718 -771 -596]\n",
      "[    0     0     0     0  -138 -1468 -1437 -1328]\n",
      "[    0     0     0     0  -138 -1531 -1499 -1385]\n",
      "[    0     0     0     0  -138 -1516 -1477 -1362]\n",
      "[   0    0    0    0 -138 -587 -431 -308]\n",
      "[   0    0    0    0 -138  734  868  965]\n",
      "[   0    0    0    0 -138 1478 1538 1665]\n",
      "[   0    0    0    0 -138 1483 1515 1719]\n",
      "[   0    0    0    0 -138 1468 1501 1698]\n",
      "[   0    0    0    0 -138  538  513  663]\n",
      "[   0    0    0    0 -138 -792 -831 -659]\n",
      "[    0     0     0     0  -138 -1471 -1431 -1319]\n",
      "[    0     0     0     0  -138 -1530 -1443 -1373]\n",
      "[    0     0     0     0  -138 -1513 -1156 -1345]\n",
      "[   0    0    0    0 -138 -519  -87 -228]\n",
      "[   0    0    0    0 -138  809 1121 1040]\n",
      "[   0    0    0    0 -138 1472 1650 1658]\n",
      "[   0    0    0    0 -138 1484 1666 1712]\n",
      "[   0    0    0    0 -138 1467 1639 1686]\n",
      "[   0    0    0    0 -138  468  490  577]\n",
      "[   0    0    0    0 -138 -852 -860 -729]\n",
      "[    0     0     0     0  -138 -1461 -1414 -1320]\n",
      "[    0     0     0     0  -138 -1471 -1366 -1370]\n",
      "[    0     0     0     0  -138 -1031 -1339 -1011]\n"
     ]
    },
    {
     "name": "stdout",
     "output_type": "stream",
     "text": [
      "[  -1    0    0    0 -138   30 -210   89]\n",
      "[   0    0    0    0 -138 1186 1040 1252]\n",
      "[   0    0    0    0 -138 1670 1547 1749]\n",
      "[  -1    0    0    0 -138 1634 1514 1740]\n",
      "[  -1    0    0    0 -138 1607 1494 1713]\n",
      "[  -1    0    0    0 -138  508  350  557]\n",
      "[  -1    0    0    0 -138 -846 -952 -734]\n"
     ]
    }
   ],
   "source": [
    "start = time.time()\n",
    "\n",
    "direction = 10000\n",
    "while(time.time()-start < 80):\n",
    "    diff = time.time() - start\n",
    "    direction *= 1\n",
    "    motors.command_motors(np.sin(diff*2*np.pi)*direction * np.ones(8))\n",
    "    print(motors.motor_encoders_data)\n",
    "    time.sleep(0.1)"
   ]
  },
  {
   "cell_type": "code",
   "execution_count": 23,
   "metadata": {},
   "outputs": [],
   "source": [
    "motors.tcp_close()"
   ]
  },
  {
   "cell_type": "code",
   "execution_count": 24,
   "metadata": {},
   "outputs": [
    {
     "data": {
      "image/png": "[encoded data removed]",
      "text/plain": [
       "<Figure size 432x288 with 1 Axes>"
      ]
     },
     "metadata": {
      "needs_background": "light"
     },
     "output_type": "display_data"
    }
   ],
   "source": [
    "myArm = armControl.remoteRobotArm()\n",
    "dt = 0.01\n",
    "rt = 5\n",
    "hz = 0.5\n",
    "amplitude = np.pi#0.25 #this causes chirping, 0.25\n",
    "\n",
    "setpoint_arm = np.array([-0.0,-0.,0.,-0.,-0.,0,0])\n",
    "myArm.commandJoints(motors, setpoint_arm, trajectory=False)\n",
    "\n",
    "motorSetpoints = []\n",
    "motorPositions = []\n",
    "\n",
    "y = np.vstack([np.zeros([int(rt/dt/4),1]),np.ones([int(rt/dt*3/8),1])*amplitude,np.ones([int(rt/dt*3/8),1])*amplitude/2])\n",
    "#y = np.vstack([y.copy(), y.copy()])\n",
    "\n",
    "for i in range(int(rt/dt)-1):\n",
    "    x = y[i]*amplitude\n",
    "    setpoint_arm = 1*np.ones(7)*x#np.array([-0.0,-0.,x,-0.,-0.,0,0])\n",
    "    myArm.commandJoints(motors, setpoint_arm, trajectory=False)\n",
    "    \n",
    "    motorSetpoints.append(motors.get_motors_setpoint_radians())\n",
    "    motorPositions.append(motors.get_motors_position_radians())\n",
    "    time.sleep(dt)\n",
    "    \n",
    "motorSetpoints = np.array(motorSetpoints)\n",
    "motorPositions = np.array(motorPositions)\n",
    "\n",
    "\n",
    "plt.figure()\n",
    "plt.plot(motorSetpoints[:,:])\n",
    "plt.plot(motorPositions[:,:])\n",
    "plt.legend(['Setpoint', 'Position'])\n",
    "plt.xlabel(['Time'])\n",
    "plt.ylabel(['Position (radians)'])\n",
    "plt.show()"
   ]
  },
  {
   "cell_type": "markdown",
   "metadata": {},
   "source": [
    "## Sine wave, joint"
   ]
  },
  {
   "cell_type": "code",
   "execution_count": 90,
   "metadata": {
    "scrolled": true
   },
   "outputs": [
    {
     "data": {
      "image/png": "[encoded data removed]",
      "text/plain": [
       "<Figure size 432x288 with 1 Axes>"
      ]
     },
     "metadata": {
      "needs_background": "light"
     },
     "output_type": "display_data"
    }
   ],
   "source": [
    "myArm = armControl.remoteRobotArm()\n",
    "dt = 0.005\n",
    "rt = 1\n",
    "hz = 0.1\n",
    "startPos = 0.0\n",
    "amplitude = 2*np.pi/16 #\n",
    "\n",
    "setpoint_arm = np.array([-0.0,-0.,0.,-0.,-0.,0,0])\n",
    "myArm.commandJoints(motors, setpoint_arm, trajectory=True)\n",
    "\n",
    "motorSetpoints = []\n",
    "motorPositions = []\n",
    "\n",
    "for i in range(int(rt/dt-1)):\n",
    "    x = np.sin(i*2*np.pi*dt*hz)*amplitude+startPos\n",
    "    setpoint_arm = np.ones(7)*x#np.array([-0.0,-0.,x,-0.,-0.,0,0])\n",
    "    myArm.commandJoints(motors, setpoint_arm, trajectory=False)\n",
    "    \n",
    "    motorSetpoints.append(motors.get_motors_setpoint_radians())\n",
    "    motorPositions.append(motors.get_motors_position_radians())\n",
    "    time.sleep(dt)\n",
    "    \n",
    "motorSetpoints = np.array(motorSetpoints)\n",
    "motorPositions = np.array(motorPositions)\n",
    "#plt.plot(motorSetpoints[:,:])\n",
    "#plt.plot(motorPositions[:,:])\n",
    "plt.figure()\n",
    "plt.plot(motorSetpoints[:,1])\n",
    "plt.plot(motorPositions[:,1])\n",
    "plt.legend(['Setpoint', 'Position'])\n",
    "plt.xlabel(['Time'])\n",
    "plt.ylabel(['Position (radians)'])\n",
    "plt.show()"
   ]
  },
  {
   "cell_type": "markdown",
   "metadata": {},
   "source": [
    "# Sinewave, motor"
   ]
  },
  {
   "cell_type": "code",
   "execution_count": 6,
   "metadata": {},
   "outputs": [
    {
     "data": {
      "image/png": "[encoded data removed]",
      "text/plain": [
       "<Figure size 432x288 with 1 Axes>"
      ]
     },
     "metadata": {
      "needs_background": "light"
     },
     "output_type": "display_data"
    }
   ],
   "source": [
    "dt = 0.005\n",
    "rt = 5\n",
    "hz = 1\n",
    "startPos = 0.0\n",
    "amplitude = 2*np.pi/8 #\n",
    "\n",
    "#setpoint_arm = np.array([-0.0,-0.,0.,-0.,-0.,0,0])\n",
    "#myArm.commandJoints(motors, setpoint_arm, trajectory=True)\n",
    "\n",
    "motorSetpoints = []\n",
    "motorPositions = []\n",
    "\n",
    "for i in range(int(rt/dt-1)):\n",
    "    x = np.sin(i*2*np.pi*dt*hz)*amplitude+startPos\n",
    "    setpoint_motor = np.ones(8)*x#np.array([-0.0,-0.,x,-0.,-0.,0,0])\n",
    "    #myArm.commandJoints(motors, setpoint_arm, trajectory=False)\n",
    "    motors.command_motors_radians(setpoint_motor)\n",
    "    #motors.run_trajectory(setpoint_motor, np.ones(8)*np.pi*100)\n",
    "    motorSetpoints.append(motors.get_motors_setpoint_radians())\n",
    "    motorPositions.append(motors.get_motors_position_radians())\n",
    "    time.sleep(dt)\n",
    "    \n",
    "motorSetpoints = np.array(motorSetpoints)\n",
    "motorPositions = np.array(motorPositions)\n",
    "#plt.plot(motorSetpoints[:,:])\n",
    "#plt.plot(motorPositions[:,:])\n",
    "plt.figure()\n",
    "plt.plot(motorSetpoints[:,1])\n",
    "plt.plot(motorPositions[:,1])\n",
    "plt.legend(['Setpoint', 'Position'])\n",
    "plt.xlabel(['Time'])\n",
    "plt.ylabel(['Position (radians)'])\n",
    "plt.show()"
   ]
  },
  {
   "cell_type": "code",
   "execution_count": 17,
   "metadata": {},
   "outputs": [],
   "source": [
    "setpoints = np.zeros(8)\n",
    "velocity = np.ones(8)*3.14/5\n",
    "motors.run_trajectory(setpoints, velocity)\n",
    "time.sleep(1)\n"
   ]
  },
  {
   "cell_type": "code",
   "execution_count": 18,
   "metadata": {},
   "outputs": [],
   "source": [
    "motors.tcp_close()"
   ]
  },
  {
   "cell_type": "markdown",
   "metadata": {},
   "source": []
  }
 ],
 "metadata": {
  "kernelspec": {
   "display_name": "Python 3",
   "language": "python",
   "name": "python3"
  },
  "language_info": {
   "codemirror_mode": {
    "name": "ipython",
    "version": 3
   },
   "file_extension": ".py",
   "mimetype": "text/x-python",
   "name": "python",
   "nbconvert_exporter": "python",
   "pygments_lexer": "ipython3",
   "version": "3.6.7"
  }
 },
 "nbformat": 4,
 "nbformat_minor": 2
}
