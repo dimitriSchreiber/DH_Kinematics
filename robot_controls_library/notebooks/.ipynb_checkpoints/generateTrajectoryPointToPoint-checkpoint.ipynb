{
 "cells": [
  {
   "cell_type": "markdown",
   "metadata": {},
   "source": [
    "## Create trajectory generator class"
   ]
  },
  {
   "cell_type": "code",
   "execution_count": 8,
   "metadata": {},
   "outputs": [],
   "source": [
    "import numpy as np\n",
    "import matplotlib.pyplot as plt\n",
    "\n",
    "class trajectoryGenerator:\n",
    "    \n",
    "    #list of start points and end points and corresponding max velocities,\n",
    "    #period is in how fast the output command is sent to the robot, unit should be same as velocity\n",
    "    def creatTrajectoryMaxVelocity(self, startPoints, endPoints, maxVelocities, period):\n",
    "        \n",
    "        startPoints = np.array(startPoints)\n",
    "        endPoints = np.array(endPoints)\n",
    "        maxVelocities = np.array(maxVelocities)\n",
    "        \n",
    "        dist = np.abs(endPoints - startPoints)\n",
    "        \n",
    "        #cubic spline has maximum velocity at the center (1.5 distance/sample)\n",
    "        numPoints_list = (np.ceil(1.5*(dist/(period*maxVelocities)))).astype(int)\n",
    "                        \n",
    "        trajectory = np.ones((len(startPoints), np.max(numPoints_list)))\n",
    "        time = np.linspace(0, np.max(numPoints_list)*period, np.max(numPoints_list))\n",
    "                \n",
    "        for i in range(0, len(startPoints)):\n",
    "            trajectory[i, :numPoints_list[i]] = self.createTrajectoryNumPoints(startPoints[i], endPoints[i], numPoints_list[i])\n",
    "            trajectory[i, numPoints_list[i]:] = endPoints[i]\n",
    "            \n",
    "        return trajectory, time\n",
    "    \n",
    "    def createTrajectoryNumPoints(self, startPoints, endPoints, num_points):\n",
    "        \n",
    "        startPoints = np.array(startPoints)\n",
    "        endPoints = np.array(endPoints)\n",
    "        \n",
    "        #Create smooth function with cubic spline\n",
    "        # y = -2x^3 + 3x^2\n",
    "        x = np.linspace(0, 1, num_points)\n",
    "        y = (-2*x**3 + 3*x**2)\n",
    "        \n",
    "        dist = endPoints - startPoints\n",
    "        if dist.size > 1:\n",
    "            numDim = len(dist)\n",
    "        else:\n",
    "            numDim = 1\n",
    "            \n",
    "        trajectory = np.ones((numDim, num_points))\n",
    "        \n",
    "        if numDim > 1:\n",
    "            for i in range(0, numDim):\n",
    "                trajectory[i, :] = dist[i]*y + startPoints[i]\n",
    "        else:\n",
    "            trajectory[0, :] = dist*y + startPoints\n",
    "            \n",
    "        return trajectory\n",
    "        \n",
    "    def plotTrajectory(self, trajectory, time = None):\n",
    "        for i in range(0, trajectory.shape[0]):\n",
    "            if time is not None:\n",
    "                plt.plot(time, trajectory[i,:])\n",
    "            else:\n",
    "                plt.plot(trajectory[i,:])\n",
    "        plt.show()"
   ]
  },
  {
   "cell_type": "markdown",
   "metadata": {},
   "source": [
    "## Test point based trajectory generator"
   ]
  },
  {
   "cell_type": "code",
   "execution_count": 9,
   "metadata": {},
   "outputs": [
    {
     "data": {
      "image/png": "[encoded data removed]",
      "text/plain": [
       "<matplotlib.figure.Figure at 0x7f2d3bd63978>"
      ]
     },
     "metadata": {},
     "output_type": "display_data"
    }
   ],
   "source": [
    "trajPlanner = trajectoryGenerator()\n",
    "\n",
    "trajectories = trajPlanner.createTrajectoryNumPoints(np.array([0,0]), [10,5], 1000)\n",
    "trajPlanner.plotTrajectory(trajectories)"
   ]
  },
  {
   "cell_type": "code",
   "execution_count": 10,
   "metadata": {},
   "outputs": [
    {
     "data": {
      "text/plain": [
       "(2, 1000)"
      ]
     },
     "execution_count": 10,
     "metadata": {},
     "output_type": "execute_result"
    }
   ],
   "source": [
    "trajectories.shape"
   ]
  },
  {
   "cell_type": "markdown",
   "metadata": {},
   "source": [
    "## Test max velocity trajectory generator"
   ]
  },
  {
   "cell_type": "code",
   "execution_count": 11,
   "metadata": {},
   "outputs": [
    {
     "data": {
      "image/png": "[encoded data removed]",
      "text/plain": [
       "<matplotlib.figure.Figure at 0x7f2d340f4198>"
      ]
     },
     "metadata": {},
     "output_type": "display_data"
    },
    {
     "name": "stdout",
     "output_type": "stream",
     "text": [
      "Computed max velocity: 7.067152646158327\n",
      "Computed max velocity: 1.9999468537415435\n"
     ]
    }
   ],
   "source": [
    "trajPlanner = trajectoryGenerator()\n",
    "\n",
    "period = 1.0/30.0 # 30 Hz\n",
    "\n",
    "trajectories, time = trajPlanner.creatTrajectoryMaxVelocity(np.array([1,-10]), [7,-20], [7,2], period)\n",
    "\n",
    "trajPlanner.plotTrajectory(trajectories, time)\n",
    "\n",
    "for j in range(0, trajectories.shape[0]):\n",
    "    maxVel = 0\n",
    "    for i in range(1, trajectories.shape[1]):\n",
    "        vel = np.abs(trajectories[j,i] - trajectories[j,i-1])/(time[i] - time[i-1])\n",
    "        if vel > maxVel:\n",
    "            maxVel = vel\n",
    "\n",
    "    print(\"Computed max velocity: {}\".format(maxVel))"
   ]
  },
  {
   "cell_type": "code",
   "execution_count": null,
   "metadata": {},
   "outputs": [],
   "source": [
    "10"
   ]
  }
 ],
 "metadata": {
  "kernelspec": {
   "display_name": "Python 3",
   "language": "python",
   "name": "python3"
  },
  "language_info": {
   "codemirror_mode": {
    "name": "ipython",
    "version": 3
   },
   "file_extension": ".py",
   "mimetype": "text/x-python",
   "name": "python",
   "nbconvert_exporter": "python",
   "pygments_lexer": "ipython3",
   "version": "3.7.0"
  }
 },
 "nbformat": 4,
 "nbformat_minor": 2
}
