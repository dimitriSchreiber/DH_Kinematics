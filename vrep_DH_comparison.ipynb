{
 "cells": [
  {
   "cell_type": "code",
   "execution_count": 1,
   "metadata": {},
   "outputs": [],
   "source": [
    "from vrep_interface_library.vrepRobot import VREP_Environement, VREP_Robot\n",
    "import vrep_interface_library.VREP_Python.vrep as vrep\n",
    "\n",
    "import numpy as np\n",
    "np.set_printoptions(precision=3, suppress=True)\n",
    "\n",
    "import time"
   ]
  },
  {
   "cell_type": "code",
   "execution_count": 67,
   "metadata": {},
   "outputs": [
    {
     "name": "stdout",
     "output_type": "stream",
     "text": [
      "Connected to remote API server\n",
      "In synchronous mode\n"
     ]
    }
   ],
   "source": [
    "vrep_env = VREP_Environement(synchronous = True, dt = 0.05)\n",
    "\n",
    "ct_robot_joint_handles = ['ct_robot_joint1', \n",
    "                    'ct_robot_joint2', \n",
    "                    'ct_robot_joint3', \n",
    "                    'ct_robot_joint4', \n",
    "                    'ct_robot_joint5', \n",
    "                    'ct_robot_joint6', \n",
    "                    'ct_robot_joint7', \n",
    "                    'ct_robot_joint8']\n",
    "\n",
    "ct_robot_reference_frame_handles = ['reference_frame_j1', \n",
    "                    'reference_frame_j2',\n",
    "                    'reference_frame_j3',\n",
    "                    'reference_frame_j4',\n",
    "                    'reference_frame_j5',\n",
    "                    'reference_frame_j6',\n",
    "                    'reference_frame_j7',\n",
    "                    'reference_frame_j8',\n",
    "                    'reference_frame_base']\n",
    "\n",
    "vrep_reference_frame_handles = ['reference_frame_vrep_j1',\n",
    "                           'reference_frame_vrep_j2',\n",
    "                           'reference_frame_vrep_j3',\n",
    "                           'reference_frame_vrep_j4',\n",
    "                           'reference_frame_vrep_j5',\n",
    "                           'reference_frame_vrep_j6',\n",
    "                           'reference_frame_vrep_j7',\n",
    "                           'reference_frame_vrep_j8',\n",
    "                           'reference_frame_vrep_base']\n",
    "\n",
    "dh_reference_frame_handles = ['reference_frame_dh_j1',\n",
    "                           'reference_frame_dh_j2',\n",
    "                           'reference_frame_dh_j3',\n",
    "                           'reference_frame_dh_j4',\n",
    "                           'reference_frame_dh_j5',\n",
    "                           'reference_frame_dh_j6',\n",
    "                           'reference_frame_dh_j7',\n",
    "                           'reference_frame_dh_j8',\n",
    "                           'reference_frame_dh_base']\n",
    "\n",
    "vrep_env.add_robot(VREP_Robot('ct_robot_joints', ct_robot_joint_handles, connection_type = 'nonblocking'))\n",
    "vrep_env.add_robot(VREP_Robot('ct_robot_reference_frames', ct_robot_reference_frame_handles, connection_type = 'nonblocking'))\n",
    "vrep_env.add_robot(VREP_Robot('dh_reference_frames', dh_reference_frame_handles, connection_type = 'nonblocking'))\n",
    "vrep_env.add_robot(VREP_Robot('vrep_reference_frames', vrep_reference_frame_handles, connection_type = 'nonblocking'))"
   ]
  },
  {
   "cell_type": "code",
   "execution_count": 72,
   "metadata": {},
   "outputs": [
    {
     "name": "stdout",
     "output_type": "stream",
     "text": [
      "4 robot(s) connected: ['ct_robot_joints', 'ct_robot_reference_frames', 'dh_reference_frames', 'vrep_reference_frames']\n"
     ]
    }
   ],
   "source": [
    "vrep_env.start_simulation()\n",
    "\n",
    "vrep_env.ct_robot_joints.getCollisionHandle('Collision')\n",
    "vrep.simxSynchronousTrigger(vrep_env.clientID)\n",
    "vrep.simxGetPingTime(vrep_env.clientID)\n",
    "\n",
    "vrep_env.ct_robot_joints.getCollisionState(initialize = True)\n",
    "vrep.simxSynchronousTrigger(vrep_env.clientID)\n",
    "vrep.simxGetPingTime(vrep_env.clientID)\n",
    "\n",
    "for i in range(8):\n",
    "    #setup joints for streaming gets\n",
    "    vrep_env.ct_robot_joints.getJointPosition(vrep_env.ct_robot_joints.handles[i], initialize = True)\n",
    "\n",
    "    #setup ct robot reference frames for streaming gets\n",
    "    vrep_env.ct_robot_reference_frames.getObjectQuaternion(vrep_env.ct_robot_reference_frames.handles[i], relative2='reference_frame_base', initialize = True)\n",
    "    vrep_env.ct_robot_reference_frames.getObjectPosition(vrep_env.ct_robot_reference_frames.handles[i], relative2='reference_frame_base', initialize = True)\n",
    "\n",
    "    #setup dh reference frames for streaming gets\n",
    "    vrep_env.dh_reference_frames.getObjectQuaternion(vrep_env.dh_reference_frames.handles[i], relative2='reference_frame_dh_base', initialize = True)\n",
    "    vrep_env.dh_reference_frames.getObjectPosition(vrep_env.dh_reference_frames.handles[i], relative2='reference_frame_dh_base', initialize = True)    \n",
    "\n",
    "    #setup vrep reference frames for streaming gets\n",
    "    vrep_env.vrep_reference_frames.getObjectQuaternion(vrep_env.vrep_reference_frames.handles[i], relative2='reference_frame_vrep_base', initialize = True)\n",
    "    vrep_env.vrep_reference_frames.getObjectPosition(vrep_env.vrep_reference_frames.handles[i], relative2='reference_frame_vrep_base', initialize = True)    \n",
    "  \n",
    "    #trigger\n",
    "    vrep.simxSynchronousTrigger(vrep_env.clientID)\n",
    "    vrep.simxGetPingTime(vrep_env.clientID)"
   ]
  },
  {
   "cell_type": "code",
   "execution_count": 73,
   "metadata": {},
   "outputs": [],
   "source": [
    "from kinematics_library.rigid_kinematics import *\n",
    "\n",
    "pi = np.pi\n",
    "robot = dh_robot_config(num_joints = 4, alpha = [-pi/2, pi/2, 0, pi/2], theta = [0, pi/2, 0, pi/2], D = [0, 0, 0, 0], a = [0, 0, 0, 0], jointType = ['p', 'p', 'p', 'r'], ai = pi/2, aj = 0, ak = 0)"
   ]
  },
  {
   "cell_type": "code",
   "execution_count": 75,
   "metadata": {},
   "outputs": [
    {
     "name": "stdout",
     "output_type": "stream",
     "text": [
      "---------------\n",
      "VREP joint 1 position: [0.0, -0.10000001639127731, -2.9802322387695312e-08], quaternion: [0.707 0.707 0.    0.   ]\n",
      "FK joint 1 position: [ 0.  -0.1  0. ], quaternion: [0.707 0.707 0.    0.   ]\n",
      "---------------\n",
      "VREP joint 2 position: [0.0, -0.1000000461935997, 0.09999999403953552], quaternion: [ 0.707  0.    -0.     0.707]\n",
      "FK joint 2 position: [ 0.  -0.1  0.1], quaternion: [0.707 0.    0.    0.707]\n",
      "---------------\n",
      "VREP joint 3 position: [0.10000001639127731, -0.1000000461935997, 0.09999999403953552], quaternion: [0.5 0.5 0.5 0.5]\n",
      "FK joint 3 position: [ 0.1 -0.1  0.1], quaternion: [0.5 0.5 0.5 0.5]\n",
      "---------------\n",
      "VREP joint 4 position: [0.10000001639127731, -0.1000000461935997, 0.09999999403953552], quaternion: [-0.     0.707 -0.     0.707]\n",
      "FK joint 4 position: [ 0.1 -0.1  0.1], quaternion: [ 0.    -0.707  0.    -0.707]\n"
     ]
    }
   ],
   "source": [
    "qs = np.array([0.1,0.1,0.1,0.])\n",
    "\n",
    "for i in range(4):\n",
    "    \n",
    "    #set joint positions\n",
    "    for j in range(8):\n",
    "        vrep_env.ct_robot_joints.setJointPosition(vrep_env.ct_robot_joints.handles[i], qs[i])\n",
    "    \n",
    "    vrep.simxSynchronousTrigger(vrep_env.clientID)\n",
    "    vrep.simxGetPingTime(vrep_env.clientID)\n",
    "    \n",
    "    vrep_position = vrep_env.ct_robot_reference_frames.getObjectPosition(vrep_env.ct_robot_reference_frames.handles[i], relative2='reference_frame_base')[1]\n",
    "    vrep_quaternion = vrep_env.ct_robot_reference_frames.getObjectQuaternion(vrep_env.ct_robot_reference_frames.handles[i], relative2='reference_frame_base')[1]\n",
    "    vrep_quaternion = np.roll(vrep_quaternion, 1)\n",
    "    \n",
    "    #get my FK\n",
    "    fk_position = robot.Tx(i, qs)\n",
    "    fk_quat = robot.Orientation_quaternion(i,qs)\n",
    "    \n",
    "    #set dh vis coordinate frame positions / orientations\n",
    "    vrep_env.dh_reference_frames.setObjectPosition(vrep_env.dh_reference_frames.handles[i], fk_position, relative2='reference_frame_dh_base')\n",
    "    vrep_env.dh_reference_frames.setObjectQuaternion(vrep_env.dh_reference_frames.handles[i], np.roll(fk_quat,-1), relative2='reference_frame_dh_base') #roll due to (x,y,z,w) convention from VREP\n",
    "    \n",
    "    #set vrep vis coordinate frame positions / orientations\n",
    "    vrep_env.vrep_reference_frames.setObjectPosition(vrep_env.vrep_reference_frames.handles[i], vrep_position, relative2='reference_frame_vrep_base')\n",
    "    vrep_env.vrep_reference_frames.setObjectQuaternion(vrep_env.vrep_reference_frames.handles[i], np.roll(vrep_quaternion,-1), relative2='reference_frame_vrep_base') #roll due to (x,y,z,w) convention from VREP\n",
    "\n",
    "    vrep.simxSynchronousTrigger(vrep_env.clientID)\n",
    "    vrep.simxGetPingTime(vrep_env.clientID)\n",
    "   \n",
    "    \n",
    "    \n",
    "    print('---------------')\n",
    "    print('VREP joint {} position: {}, quaternion: {}'.format(i+1, vrep_position, vrep_quaternion))\n",
    "    print('FK joint {} position: {}, quaternion: {}'.format(i+1, fk_position, fk_quat))\n",
    "\n",
    "\n",
    "#collisionState = vrep_env.ik_robot.getCollisionState()\n",
    "\n",
    "#EEPosition[i,:] = vrep_env.ik_robot.getObjectPosition(vrep_env.ik_robot.handles[8], relative2='ik_rf7_static')[1]\n",
    "#EEQuaternion[i,:] = vrep_env.ik_robot.getObjectQuaternion(vrep_env.ik_robot.handles[8], relative2='ik_rf7_static')[1]\n"
   ]
  },
  {
   "cell_type": "code",
   "execution_count": 66,
   "metadata": {},
   "outputs": [
    {
     "data": {
      "text/plain": [
       "(0, 88)"
      ]
     },
     "execution_count": 66,
     "metadata": {},
     "output_type": "execute_result"
    }
   ],
   "source": [
    "vrep_env.dh_reference_frames.setObjectPosition(vrep_env.dh_reference_frames.handles[0], np.array([0,0.1,0]), relative2='reference_frame_dh_base')\n",
    "vrep.simxSynchronousTrigger(vrep_env.clientID)\n",
    "vrep.simxGetPingTime(vrep_env.clientID)\n"
   ]
  },
  {
   "cell_type": "code",
   "execution_count": 22,
   "metadata": {},
   "outputs": [
    {
     "data": {
      "text/plain": [
       "1"
      ]
     },
     "execution_count": 22,
     "metadata": {},
     "output_type": "execute_result"
    }
   ],
   "source": [
    "vrep.shutdown()\n"
   ]
  }
 ],
 "metadata": {
  "kernelspec": {
   "display_name": "Python 3",
   "language": "python",
   "name": "python3"
  },
  "language_info": {
   "codemirror_mode": {
    "name": "ipython",
    "version": 3
   },
   "file_extension": ".py",
   "mimetype": "text/x-python",
   "name": "python",
   "nbconvert_exporter": "python",
   "pygments_lexer": "ipython3",
   "version": "3.7.1"
  }
 },
 "nbformat": 4,
 "nbformat_minor": 2
}
