{
 "cells": [
  {
   "cell_type": "code",
   "execution_count": 2,
   "metadata": {},
   "outputs": [
    {
     "ename": "ModuleNotFoundError",
     "evalue": "No module named 'vrep_interface_library'",
     "output_type": "error",
     "traceback": [
      "\u001b[0;31m---------------------------------------------------------------------------\u001b[0m",
      "\u001b[0;31mModuleNotFoundError\u001b[0m                       Traceback (most recent call last)",
      "\u001b[0;32m<ipython-input-2-82a441fe4822>\u001b[0m in \u001b[0;36m<module>\u001b[0;34m\u001b[0m\n\u001b[0;32m----> 1\u001b[0;31m \u001b[0;32mfrom\u001b[0m \u001b[0mvrepRobot\u001b[0m \u001b[0;32mimport\u001b[0m \u001b[0mVREP_Environement\u001b[0m\u001b[0;34m,\u001b[0m \u001b[0mVREP_Robot\u001b[0m\u001b[0;34m\u001b[0m\u001b[0;34m\u001b[0m\u001b[0m\n\u001b[0m\u001b[1;32m      2\u001b[0m \u001b[0;32mimport\u001b[0m \u001b[0mVREP_Python\u001b[0m\u001b[0;34m.\u001b[0m\u001b[0mvrep\u001b[0m \u001b[0;32mas\u001b[0m \u001b[0mvrep\u001b[0m\u001b[0;34m\u001b[0m\u001b[0;34m\u001b[0m\u001b[0m\n\u001b[1;32m      3\u001b[0m \u001b[0;34m\u001b[0m\u001b[0m\n\u001b[1;32m      4\u001b[0m \u001b[0;32mimport\u001b[0m \u001b[0mnumpy\u001b[0m \u001b[0;32mas\u001b[0m \u001b[0mnp\u001b[0m\u001b[0;34m\u001b[0m\u001b[0;34m\u001b[0m\u001b[0m\n\u001b[1;32m      5\u001b[0m \u001b[0;32mimport\u001b[0m \u001b[0mtime\u001b[0m\u001b[0;34m\u001b[0m\u001b[0;34m\u001b[0m\u001b[0m\n",
      "\u001b[0;32m~/DH_Kinematics/vrep_interface_library/vrepRobot.py\u001b[0m in \u001b[0;36m<module>\u001b[0;34m\u001b[0m\n\u001b[1;32m      1\u001b[0m \u001b[0;31m# import vrep_interface_library.VREP_Python.vrep as vrep\u001b[0m\u001b[0;34m\u001b[0m\u001b[0;34m\u001b[0m\u001b[0;34m\u001b[0m\u001b[0m\n\u001b[0;32m----> 2\u001b[0;31m \u001b[0;32mimport\u001b[0m \u001b[0mVREP_Python\u001b[0m\u001b[0;34m.\u001b[0m\u001b[0mvrep\u001b[0m \u001b[0;32mas\u001b[0m \u001b[0mvrep\u001b[0m\u001b[0;34m\u001b[0m\u001b[0;34m\u001b[0m\u001b[0m\n\u001b[0m\u001b[1;32m      3\u001b[0m \u001b[0;32mimport\u001b[0m \u001b[0mnumpy\u001b[0m \u001b[0;32mas\u001b[0m \u001b[0mnp\u001b[0m\u001b[0;34m\u001b[0m\u001b[0;34m\u001b[0m\u001b[0m\n\u001b[1;32m      4\u001b[0m \u001b[0;32mimport\u001b[0m \u001b[0mtime\u001b[0m\u001b[0;34m\u001b[0m\u001b[0;34m\u001b[0m\u001b[0m\n\u001b[1;32m      5\u001b[0m \u001b[0;34m\u001b[0m\u001b[0m\n",
      "\u001b[0;32m~/DH_Kinematics/vrep_interface_library/VREP_Python/vrep.py\u001b[0m in \u001b[0;36m<module>\u001b[0;34m\u001b[0m\n\u001b[1;32m      6\u001b[0m \u001b[0;34m\u001b[0m\u001b[0m\n\u001b[1;32m      7\u001b[0m \u001b[0;31m#sys.path.append(\".\")\u001b[0m\u001b[0;34m\u001b[0m\u001b[0;34m\u001b[0m\u001b[0;34m\u001b[0m\u001b[0m\n\u001b[0;32m----> 8\u001b[0;31m \u001b[0;32mfrom\u001b[0m \u001b[0mvrep_interface_library\u001b[0m\u001b[0;34m.\u001b[0m\u001b[0mVREP_Python\u001b[0m\u001b[0;34m.\u001b[0m\u001b[0mvrepConst\u001b[0m \u001b[0;32mimport\u001b[0m \u001b[0;34m*\u001b[0m\u001b[0;34m\u001b[0m\u001b[0;34m\u001b[0m\u001b[0m\n\u001b[0m\u001b[1;32m      9\u001b[0m \u001b[0;34m\u001b[0m\u001b[0m\n\u001b[1;32m     10\u001b[0m \u001b[0;31m#load library\u001b[0m\u001b[0;34m\u001b[0m\u001b[0;34m\u001b[0m\u001b[0;34m\u001b[0m\u001b[0m\n",
      "\u001b[0;31mModuleNotFoundError\u001b[0m: No module named 'vrep_interface_library'"
     ]
    }
   ],
   "source": [
    "from vrepRobot import VREP_Environement, VREP_Robot\n",
    "import VREP_Python.vrep as vrep\n",
    "\n",
    "import numpy as np\n",
    "import time"
   ]
  },
  {
   "cell_type": "code",
   "execution_count": 24,
   "metadata": {},
   "outputs": [
    {
     "name": "stdout",
     "output_type": "stream",
     "text": [
      "Connected to remote API server\n",
      "In synchronous mode\n"
     ]
    }
   ],
   "source": [
    "vrep_env = VREP_Environement(synchronous = True, dt = 0.05)\n",
    "\n",
    "ct_robot_joint_handles = ['ct_robot_joint1', \n",
    "                    'ct_robot_joint2', \n",
    "                    'ct_robot_joint3', \n",
    "                    'ct_robot_joint4', \n",
    "                    'ct_robot_joint5', \n",
    "                    'ct_robot_joint6', \n",
    "                    'ct_robot_joint7', \n",
    "                    'ct_robot_joint8']\n",
    "\n",
    "ct_robot_reference_frame_handles = ['reference_frame_j1', \n",
    "                    'reference_frame_j2',\n",
    "                    'reference_frame_j3',\n",
    "                    'reference_frame_j4',\n",
    "                    'reference_frame_j5',\n",
    "                    'reference_frame_j6',\n",
    "                    'reference_frame_j7',\n",
    "                    'reference_frame_j8',\n",
    "                    'reference_frame_base']\n",
    "\n",
    "dh_reference_frame_handles = ['reference_frame_dh_1',\n",
    "                           'reference_frame_dh_2',\n",
    "                           'reference_frame_dh_3',\n",
    "                           'reference_frame_dh_4',\n",
    "                           'reference_frame_dh_5',\n",
    "                           'reference_frame_dh_6',\n",
    "                           'reference_frame_dh_7',\n",
    "                           'reference_frame_dh_8',\n",
    "                           'reference_frame_dh_base']\n",
    "\n",
    "vrep_env.add_robot(VREP_Robot('ct_robot_joints', ct_robot_joint_handles, connection_type = 'nonblocking'))\n",
    "vrep_env.add_robot(VREP_Robot('ct_robot_reference_frames', ct_robot_reference_frame_handles, connection_type = 'nonblocking'))\n",
    "vrep_env.add_robot(VREP_Robot('dh_reference_frames', dh_reference_frame_handles, connection_type = 'nonblocking'))"
   ]
  },
  {
   "cell_type": "code",
   "execution_count": 25,
   "metadata": {},
   "outputs": [
    {
     "name": "stdout",
     "output_type": "stream",
     "text": [
      "3 robot(s) connected: ['ct_robot_joints', 'ct_robot_reference_frames', 'dh_reference_frames']\n"
     ]
    },
    {
     "data": {
      "text/plain": [
       "(0, 10)"
      ]
     },
     "execution_count": 25,
     "metadata": {},
     "output_type": "execute_result"
    }
   ],
   "source": [
    "vrep_env.start_simulation()\n",
    "\n",
    "vrep_env.ct_robot_joints.getCollisionHandle('Collision')\n",
    "vrep.simxSynchronousTrigger(vrep_env.clientID)\n",
    "vrep.simxGetPingTime(vrep_env.clientID)\n",
    "\n",
    "vrep_env.ct_robot_joints.getCollisionState(initialize = True)\n",
    "vrep.simxSynchronousTrigger(vrep_env.clientID)\n",
    "vrep.simxGetPingTime(vrep_env.clientID)\n",
    "\n",
    "\n",
    "\n"
   ]
  },
  {
   "cell_type": "code",
   "execution_count": 26,
   "metadata": {},
   "outputs": [],
   "source": [
    "for i in range(8):\n",
    "    #setup joints for streaming gets\n",
    "    vrep_env.ct_robot_joints.getJointPosition(vrep_env.ct_robot_joints.handles[i], initialize = True)\n",
    "\n",
    "    #setup ct robot reference frames for streaming gets\n",
    "    vrep_env.ct_robot_reference_frames.getObjectQuaternion(vrep_env.ct_robot_reference_frames.handles[i], relative2='reference_frame_base', initialize = True)\n",
    "    vrep_env.ct_robot_reference_frames.getObjectPosition(vrep_env.ct_robot_reference_frames.handles[i], relative2='reference_frame_base', initialize = True)\n",
    "\n",
    "    #setup dh reference frames for streaming gets\n",
    "    vrep_env.dh_reference_frames.getObjectQuaternion(vrep_env.dh_reference_frames.handles[i], relative2='reference_frame_dh_base', initialize = True)\n",
    "    vrep_env.dh_reference_frames.getObjectPosition(vrep_env.dh_reference_frames.handles[i], relative2='reference_frame_dh_base', initialize = True)    \n",
    "    \n",
    "    #trigger\n",
    "    vrep.simxSynchronousTrigger(vrep_env.clientID)\n",
    "    vrep.simxGetPingTime(vrep_env.clientID)\n"
   ]
  },
  {
   "cell_type": "code",
   "execution_count": 32,
   "metadata": {},
   "outputs": [
    {
     "name": "stdout",
     "output_type": "stream",
     "text": [
      "Joint 0 position: [0.0, 0.0, 0.0], quaternion: 0\n",
      "Joint 1 position: [0.0, 0.0, 0.0], quaternion: 0\n",
      "Joint 2 position: [0.0, 0.0, 0.0], quaternion: 0\n",
      "Joint 3 position: [0.0, 0.0, 0.0], quaternion: 0\n",
      "Joint 4 position: [0.0, 0.0, 0.0], quaternion: 0\n",
      "Joint 5 position: [0.08000001311302185, 7.078051567077637e-08, 0.0], quaternion: 0\n",
      "Joint 6 position: [0.1600000113248825, 1.4156103134155273e-07, 0.0], quaternion: 0\n",
      "Joint 7 position: [0.2099989801645279, 8.419156074523926e-07, 0.0], quaternion: 0\n"
     ]
    }
   ],
   "source": [
    "\n",
    "for i in range(8):\n",
    "    \n",
    "    for j in range(8):\n",
    "        vrep_env.ct_robot_joints.setJointPosition(vrep_env.ct_robot_joints.handles[i], 0)\n",
    "        \n",
    "    joint_position = vrep_env.ct_robot_reference_frames.getObjectPosition(vrep_env.ct_robot_reference_frames.handles[i], relative2='reference_frame_base')[1]\n",
    "    joint_quaternion = vrep_env.ct_robot_reference_frames.getObjectPosition(vrep_env.ct_robot_reference_frames.handles[i], relative2='reference_frame_base')[1]\n",
    "\n",
    "    vrep.simxSynchronousTrigger(vrep_env.clientID)\n",
    "    vrep.simxGetPingTime(vrep_env.clientID)\n",
    "\n",
    "    print('Joint {} position: {}, quaternion: {}'.format(i, joint_position, 0))\n",
    "\n",
    "\n",
    "\n",
    "#collisionState = vrep_env.ik_robot.getCollisionState()\n",
    "\n",
    "#EEPosition[i,:] = vrep_env.ik_robot.getObjectPosition(vrep_env.ik_robot.handles[8], relative2='ik_rf7_static')[1]\n",
    "#EEQuaternion[i,:] = vrep_env.ik_robot.getObjectQuaternion(vrep_env.ik_robot.handles[8], relative2='ik_rf7_static')[1]\n"
   ]
  },
  {
   "cell_type": "code",
   "execution_count": 22,
   "metadata": {},
   "outputs": [
    {
     "data": {
      "text/plain": [
       "1"
      ]
     },
     "execution_count": 22,
     "metadata": {},
     "output_type": "execute_result"
    }
   ],
   "source": [
    "vrep.simxStopSimulation(vrep_env.clientID, vrep.simx_opmode_oneshot)\n"
   ]
  },
  {
   "cell_type": "code",
   "execution_count": null,
   "metadata": {},
   "outputs": [],
   "source": []
  }
 ],
 "metadata": {
  "kernelspec": {
   "display_name": "Python 3",
   "language": "python",
   "name": "python3"
  },
  "language_info": {
   "codemirror_mode": {
    "name": "ipython",
    "version": 3
   },
   "file_extension": ".py",
   "mimetype": "text/x-python",
   "name": "python",
   "nbconvert_exporter": "python",
   "pygments_lexer": "ipython3",
   "version": "3.6.8"
  }
 },
 "nbformat": 4,
 "nbformat_minor": 2
}
