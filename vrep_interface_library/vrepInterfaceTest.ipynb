{
 "cells": [
  {
   "cell_type": "code",
   "execution_count": 7,
   "metadata": {},
   "outputs": [],
   "source": [
    "from vrepRobot import VREP_Environement, VREP_Robot\n",
    "import VREP_Python.vrep as vrep\n",
    "\n",
    "import numpy as np\n",
    "import time"
   ]
  },
  {
   "cell_type": "code",
   "execution_count": 22,
   "metadata": {},
   "outputs": [
    {
     "name": "stdout",
     "output_type": "stream",
     "text": [
      "Connected to remote API server\n",
      "In synchronous mode\n"
     ]
    }
   ],
   "source": [
    "vrep_env = VREP_Environement(synchronous = True, dt = 0.05)\n",
    "\n",
    "ct_robot_joint_handles = ['ct_robot_joint1', \n",
    "                    'ct_robot_joint2', \n",
    "                    'ct_robot_joint3', \n",
    "                    'ct_robot_joint4', \n",
    "                    'ct_robot_joint5', \n",
    "                    'ct_robot_joint6', \n",
    "                    'ct_robot_joint7', \n",
    "                    'ct_robot_joint8']\n",
    "\n",
    "ct_robot_reference_frame_handles = ['reference_frame_j1', \n",
    "                    'reference_frame_j2',\n",
    "                    'reference_frame_j3',\n",
    "                    'reference_frame_j4',\n",
    "                    'reference_frame_j5',\n",
    "                    'reference_frame_j6',\n",
    "                    'reference_frame_j7',\n",
    "                    'reference_frame_j8',\n",
    "                    'reference_frame_base']\n",
    "\n",
    "dh_reference_frame_handles = ['reference_frame_dh_1',\n",
    "                           'reference_frame_dh_2',\n",
    "                           'reference_frame_dh_3',\n",
    "                           'reference_frame_dh_4',\n",
    "                           'reference_frame_dh_5',\n",
    "                           'reference_frame_dh_6',\n",
    "                           'reference_frame_dh_7',\n",
    "                           'reference_frame_dh_8',\n",
    "                           'reference_frame_dh_base']\n",
    "\n",
    "vrep_env.add_robot(VREP_Robot('ct_robot_joints', ct_robot_joint_handles, connection_type = 'nonblocking'))\n",
    "vrep_env.add_robot(VREP_Robot('ct_robot_reference_frames', ct_robot_reference_frame_handles, connection_type = 'nonblocking'))\n",
    "vrep_env.add_robot(VREP_Robot('dh_reference_frames', dh_reference_frame_handles, connection_type = 'nonblocking'))"
   ]
  },
  {
   "cell_type": "code",
   "execution_count": 25,
   "metadata": {},
   "outputs": [
    {
     "name": "stdout",
     "output_type": "stream",
     "text": [
      "3 robot(s) connected: ['ct_robot_joints', 'ct_robot_reference_frames', 'dh_reference_frames']\n",
      "False\n",
      "[35, 1263]\n"
     ]
    }
   ],
   "source": [
    "vrep_env.start_simulation()\n",
    "\n",
    "vrep_env.ct_robot_joints.getCollisionHandle('Collision')\n",
    "vrep.simxSynchronousTrigger(vrep_env.clientID)\n",
    "_, pin1 = vrep.simxGetPingTime(vrep_env.clientID)\n",
    "\n",
    "print(vrep_env.ct_robot_joints.getCollisionState(initialize = True))\n",
    "vrep.simxSynchronousTrigger(vrep_env.clientID)\n",
    "_, pin2 = vrep.simxGetPingTime(vrep_env.clientID)\n",
    "\n",
    "print([pin1, pin2])\n",
    "\n",
    "\n"
   ]
  },
  {
   "cell_type": "code",
   "execution_count": 26,
   "metadata": {},
   "outputs": [],
   "source": [
    "for i in range(8):\n",
    "    #setup joints for streaming gets\n",
    "    vrep_env.ct_robot_joints.getJointPosition(vrep_env.ct_robot_joints.handles[i], initialize = True)\n",
    "\n",
    "    #setup ct robot reference frames for streaming gets\n",
    "    vrep_env.ct_robot_reference_frames.getObjectQuaternion(vrep_env.ct_robot_reference_frames.handles[i], relative2='reference_frame_base', initialize = True)\n",
    "    vrep_env.ct_robot_reference_frames.getObjectPosition(vrep_env.ct_robot_reference_frames.handles[i], relative2='reference_frame_base', initialize = True)\n",
    "\n",
    "    #setup dh reference frames for streaming gets\n",
    "    vrep_env.dh_reference_frames.getObjectQuaternion(vrep_env.dh_reference_frames.handles[i], relative2='reference_frame_dh_base', initialize = True)\n",
    "    vrep_env.dh_reference_frames.getObjectPosition(vrep_env.dh_reference_frames.handles[i], relative2='reference_frame_dh_base', initialize = True)    \n",
    "    \n",
    "    #trigger\n",
    "    vrep.simxSynchronousTrigger(vrep_env.clientID)\n",
    "    vrep.simxGetPingTime(vrep_env.clientID)\n"
   ]
  },
  {
   "cell_type": "code",
   "execution_count": 27,
   "metadata": {},
   "outputs": [
    {
     "name": "stdout",
     "output_type": "stream",
     "text": [
      "Joint 0 position: [-0.09469848871231079, -0.2122821807861328, 0.9647060632705688], quaternion: 0\n",
      "Joint 1 position: [-0.1945313662290573, -0.03536522388458252, 0.9841529726982117], quaternion: 0\n",
      "Joint 2 position: [-0.08784107863903046, -0.137420654296875, 1.1639683246612549], quaternion: 0\n",
      "Joint 3 position: [-0.19453109800815582, -0.1839975118637085, 1.0399930477142334], quaternion: 0\n",
      "Joint 4 position: [-0.19453109800815582, -0.1839975118637085, 1.0399930477142334], quaternion: 0\n",
      "Joint 5 position: [-0.14434309303760529, -0.16208744049072266, 1.0983121395111084], quaternion: 0\n",
      "Joint 6 position: [-0.09415513277053833, -0.14017713069915771, 1.1566312313079834], quaternion: 0\n",
      "Joint 7 position: [-0.06278778612613678, -0.12648379802703857, 1.1930792331695557], quaternion: 0\n"
     ]
    }
   ],
   "source": [
    "\n",
    "for i in range(8):\n",
    "    \n",
    "    for j in range(8):\n",
    "        vrep_env.ct_robot_joints.setJointPosition(vrep_env.ct_robot_joints.handles[i], 0)\n",
    "        \n",
    "    joint_position = vrep_env.ct_robot_reference_frames.getObjectPosition(vrep_env.ct_robot_reference_frames.handles[i], relative2='reference_frame_base')[1]\n",
    "    joint_quaternion = vrep_env.ct_robot_reference_frames.getObjectPosition(vrep_env.ct_robot_reference_frames.handles[i], relative2='reference_frame_base')[1]\n",
    "\n",
    "    vrep.simxSynchronousTrigger(vrep_env.clientID)\n",
    "    vrep.simxGetPingTime(vrep_env.clientID)\n",
    "\n",
    "    print('Joint {} position: {}, quaternion: {}'.format(i, joint_position, 0))\n",
    "\n",
    "\n",
    "\n",
    "#collisionState = vrep_env.ik_robot.getCollisionState()\n",
    "\n",
    "#EEPosition[i,:] = vrep_env.ik_robot.getObjectPosition(vrep_env.ik_robot.handles[8], relative2='ik_rf7_static')[1]\n",
    "#EEQuaternion[i,:] = vrep_env.ik_robot.getObjectQuaternion(vrep_env.ik_robot.handles[8], relative2='ik_rf7_static')[1]\n"
   ]
  },
  {
   "cell_type": "code",
   "execution_count": 22,
   "metadata": {},
   "outputs": [
    {
     "data": {
      "text/plain": [
       "1"
      ]
     },
     "execution_count": 22,
     "metadata": {},
     "output_type": "execute_result"
    }
   ],
   "source": [
    "vrep.simxStopSimulation(vrep_env.clientID, vrep.simx_opmode_oneshot)\n"
   ]
  },
  {
   "cell_type": "code",
   "execution_count": null,
   "metadata": {},
   "outputs": [],
   "source": []
  }
 ],
 "metadata": {
  "kernelspec": {
   "display_name": "Python 3",
   "language": "python",
   "name": "python3"
  },
  "language_info": {
   "codemirror_mode": {
    "name": "ipython",
    "version": 3
   },
   "file_extension": ".py",
   "mimetype": "text/x-python",
   "name": "python",
   "nbconvert_exporter": "python",
   "pygments_lexer": "ipython3",
   "version": "3.6.8"
  }
 },
 "nbformat": 4,
 "nbformat_minor": 2
}
