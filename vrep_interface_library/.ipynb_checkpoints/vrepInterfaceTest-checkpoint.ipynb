{
 "cells": [
  {
   "cell_type": "code",
   "execution_count": 1,
   "metadata": {},
   "outputs": [],
   "source": [
    "from vrepRobot import VREP_Environement, VREP_Robot\n",
    "import VREP_Python.vrep as vrep\n",
    "\n",
    "import numpy as np\n",
    "import time"
   ]
  },
  {
   "cell_type": "code",
   "execution_count": 7,
   "metadata": {},
   "outputs": [
    {
     "name": "stdout",
     "output_type": "stream",
     "text": [
      "Connected to remote API server\n",
      "In synchronous mode\n"
     ]
    }
   ],
   "source": [
    "vrep_env = VREP_Environement(synchronous = True, dt = 0.05)\n",
    "\n",
    "ct_robot_joint_handles = ['ct_robot_joint1', \n",
    "                    'ct_robot_joint2', \n",
    "                    'ct_robot_joint3', \n",
    "                    'ct_robot_joint4', \n",
    "                    'ct_robot_joint5', \n",
    "                    'ct_robot_joint6', \n",
    "                    'ct_robot_joint7', \n",
    "                    'ct_robot_joint8']\n",
    "\n",
    "ct_robot_reference_frame_handles = ['reference_frame_j1', \n",
    "                    'reference_frame_j2',\n",
    "                    'reference_frame_j3',\n",
    "                    'reference_frame_j4',\n",
    "                    'reference_frame_j5',\n",
    "                    'reference_frame_j6',\n",
    "                    'reference_frame_j7',\n",
    "                    'reference_frame_j8',\n",
    "                    'reference_frame_base']\n",
    "\n",
    "dh_reference_frame_handles = ['reference_frame_dh_1',\n",
    "                           'reference_frame_dh_2',\n",
    "                           'reference_frame_dh_3',\n",
    "                           'reference_frame_dh_4',\n",
    "                           'reference_frame_dh_5',\n",
    "                           'reference_frame_dh_6',\n",
    "                           'reference_frame_dh_7',\n",
    "                           'reference_frame_dh_8',\n",
    "                           'reference_frame_dh_base']\n",
    "\n",
    "vrep_env.add_robot(VREP_Robot('ct_robot_joints', ct_robot_joint_handles, connection_type = 'nonblocking'))\n",
    "vrep_env.add_robot(VREP_Robot('ct_robot_reference_frames', ct_robot_reference_frame_handles, connection_type = 'nonblocking'))\n",
    "vrep_env.add_robot(VREP_Robot('dh_reference_frames', dh_reference_frame_handles, connection_type = 'nonblocking'))"
   ]
  },
  {
   "cell_type": "code",
   "execution_count": 8,
   "metadata": {},
   "outputs": [
    {
     "name": "stdout",
     "output_type": "stream",
     "text": [
      "3 robot(s) connected: ['ct_robot_joints', 'ct_robot_reference_frames', 'dh_reference_frames']\n"
     ]
    },
    {
     "data": {
      "text/plain": [
       "(0, 10)"
      ]
     },
     "execution_count": 8,
     "metadata": {},
     "output_type": "execute_result"
    }
   ],
   "source": [
    "vrep_env.start_simulation()\n",
    "\n",
    "vrep_env.ct_robot_joints.getCollisionHandle('Collision')\n",
    "vrep.simxSynchronousTrigger(vrep_env.clientID)\n",
    "vrep.simxGetPingTime(vrep_env.clientID)\n",
    "\n",
    "vrep_env.ct_robot_joints.getCollisionState(initialize = True)\n",
    "vrep.simxSynchronousTrigger(vrep_env.clientID)\n",
    "vrep.simxGetPingTime(vrep_env.clientID)\n",
    "\n",
    "\n",
    "\n"
   ]
  },
  {
   "cell_type": "code",
   "execution_count": 11,
   "metadata": {},
   "outputs": [
    {
     "ename": "ValueError",
     "evalue": "74 is not in list",
     "output_type": "error",
     "traceback": [
      "\u001b[0;31m---------------------------------------------------------------------------\u001b[0m",
      "\u001b[0;31mValueError\u001b[0m                                Traceback (most recent call last)",
      "\u001b[0;32m<ipython-input-11-53c8e9ddfa5f>\u001b[0m in \u001b[0;36m<module>\u001b[0;34m\u001b[0m\n\u001b[1;32m      4\u001b[0m \u001b[0;34m\u001b[0m\u001b[0m\n\u001b[1;32m      5\u001b[0m     \u001b[0;31m#setup ct robot reference frames for streaming gets\u001b[0m\u001b[0;34m\u001b[0m\u001b[0;34m\u001b[0m\u001b[0;34m\u001b[0m\u001b[0m\n\u001b[0;32m----> 6\u001b[0;31m     \u001b[0mvrep_env\u001b[0m\u001b[0;34m.\u001b[0m\u001b[0mct_robot_reference_frames\u001b[0m\u001b[0;34m.\u001b[0m\u001b[0mgetObjectQuaternion\u001b[0m\u001b[0;34m(\u001b[0m\u001b[0mvrep_env\u001b[0m\u001b[0;34m.\u001b[0m\u001b[0mct_robot_reference_frames\u001b[0m\u001b[0;34m.\u001b[0m\u001b[0mhandles\u001b[0m\u001b[0;34m[\u001b[0m\u001b[0mi\u001b[0m\u001b[0;34m]\u001b[0m\u001b[0;34m,\u001b[0m \u001b[0mrelative2\u001b[0m\u001b[0;34m=\u001b[0m\u001b[0mvrep_env\u001b[0m\u001b[0;34m.\u001b[0m\u001b[0mct_robot_reference_frames\u001b[0m\u001b[0;34m.\u001b[0m\u001b[0mhandles\u001b[0m\u001b[0;34m[\u001b[0m\u001b[0;34m-\u001b[0m\u001b[0;36m1\u001b[0m\u001b[0;34m]\u001b[0m\u001b[0;34m,\u001b[0m \u001b[0minitialize\u001b[0m \u001b[0;34m=\u001b[0m \u001b[0;32mTrue\u001b[0m\u001b[0;34m)\u001b[0m\u001b[0;34m\u001b[0m\u001b[0;34m\u001b[0m\u001b[0m\n\u001b[0m\u001b[1;32m      7\u001b[0m     \u001b[0mvrep_env\u001b[0m\u001b[0;34m.\u001b[0m\u001b[0mct_robot_reference_frames\u001b[0m\u001b[0;34m.\u001b[0m\u001b[0mgetObjectPosition\u001b[0m\u001b[0;34m(\u001b[0m\u001b[0mvrep_env\u001b[0m\u001b[0;34m.\u001b[0m\u001b[0mct_robot_reference_frames\u001b[0m\u001b[0;34m.\u001b[0m\u001b[0mhandles\u001b[0m\u001b[0;34m[\u001b[0m\u001b[0mi\u001b[0m\u001b[0;34m]\u001b[0m\u001b[0;34m,\u001b[0m \u001b[0mrelative2\u001b[0m\u001b[0;34m=\u001b[0m\u001b[0mvrep_env\u001b[0m\u001b[0;34m.\u001b[0m\u001b[0mct_robot_reference_frames\u001b[0m\u001b[0;34m.\u001b[0m\u001b[0mhandles\u001b[0m\u001b[0;34m[\u001b[0m\u001b[0;34m-\u001b[0m\u001b[0;36m1\u001b[0m\u001b[0;34m]\u001b[0m\u001b[0;34m,\u001b[0m \u001b[0minitialize\u001b[0m \u001b[0;34m=\u001b[0m \u001b[0;32mTrue\u001b[0m\u001b[0;34m)\u001b[0m\u001b[0;34m\u001b[0m\u001b[0;34m\u001b[0m\u001b[0m\n\u001b[1;32m      8\u001b[0m \u001b[0;34m\u001b[0m\u001b[0m\n",
      "\u001b[0;32m~/Desktop/DH_Kinematics/vrep_interface_library/vrepRobot.py\u001b[0m in \u001b[0;36mgetObjectQuaternion\u001b[0;34m(self, object_name, relative2, initialize)\u001b[0m\n\u001b[1;32m    294\u001b[0m             \u001b[0mrelative_handle\u001b[0m \u001b[0;34m=\u001b[0m \u001b[0mvrep\u001b[0m\u001b[0;34m.\u001b[0m\u001b[0msim_handle_parent\u001b[0m\u001b[0;34m\u001b[0m\u001b[0;34m\u001b[0m\u001b[0m\n\u001b[1;32m    295\u001b[0m         \u001b[0;32melse\u001b[0m\u001b[0;34m:\u001b[0m\u001b[0;34m\u001b[0m\u001b[0;34m\u001b[0m\u001b[0m\n\u001b[0;32m--> 296\u001b[0;31m             \u001b[0mrelative_handle\u001b[0m \u001b[0;34m=\u001b[0m \u001b[0mself\u001b[0m\u001b[0;34m.\u001b[0m\u001b[0mhandles\u001b[0m\u001b[0;34m[\u001b[0m\u001b[0mself\u001b[0m\u001b[0;34m.\u001b[0m\u001b[0mhandle_names\u001b[0m\u001b[0;34m.\u001b[0m\u001b[0mindex\u001b[0m\u001b[0;34m(\u001b[0m\u001b[0mrelative2\u001b[0m\u001b[0;34m)\u001b[0m\u001b[0;34m]\u001b[0m\u001b[0;34m\u001b[0m\u001b[0;34m\u001b[0m\u001b[0m\n\u001b[0m\u001b[1;32m    297\u001b[0m \u001b[0;34m\u001b[0m\u001b[0m\n\u001b[1;32m    298\u001b[0m         \u001b[0;32mif\u001b[0m \u001b[0mself\u001b[0m\u001b[0;34m.\u001b[0m\u001b[0mclientID\u001b[0m \u001b[0;34m==\u001b[0m \u001b[0;32mNone\u001b[0m\u001b[0;34m:\u001b[0m\u001b[0;34m\u001b[0m\u001b[0;34m\u001b[0m\u001b[0m\n",
      "\u001b[0;31mValueError\u001b[0m: 74 is not in list"
     ]
    }
   ],
   "source": [
    "for i in range(8):\n",
    "    #setup joints for streaming gets\n",
    "    vrep_env.ct_robot_joints.getJointPosition(vrep_env.ct_robot_joints.handles[i], initialize = True)\n",
    "\n",
    "    #setup ct robot reference frames for streaming gets\n",
    "    vrep_env.ct_robot_reference_frames.getObjectQuaternion(vrep_env.ct_robot_reference_frames.handles[i], relative2='reference_frame_base', initialize = True)\n",
    "    vrep_env.ct_robot_reference_frames.getObjectPosition(vrep_env.ct_robot_reference_frames.handles[i], relative2='reference_frame_base', initialize = True)\n",
    "\n",
    "    #setup dh reference frames for streaming gets\n",
    "    vrep_env.dh_reference_frames.getObjectQuaternion(vrep_env.dh_reference_frames.handles[i], relative2='reference_frame_dh_base', initialize = True)\n",
    "    vrep_env.dh_reference_frames.getObjectPosition(vrep_env.dh_reference_frames.handles[i], relative2='reference_frame_dh_base', initialize = True)    \n",
    "    \n",
    "    #trigger\n",
    "    vrep.simxSynchronousTrigger(vrep_env.clientID)\n",
    "    vrep.simxGetPingTime(vrep_env.clientID)\n"
   ]
  },
  {
   "cell_type": "code",
   "execution_count": null,
   "metadata": {},
   "outputs": [],
   "source": [
    "vrep_env.ik_robot.setJointPosition(vrep_env.ik_robot.handles[j], joint_angle[j])\n",
    "\n",
    "vrep.simxSynchronousTrigger(vrep_env.clientID)\n",
    "vrep.simxGetPingTime(vrep_env.clientID)\n",
    "collisionState = vrep_env.ik_robot.getCollisionState()\n",
    "\n",
    "EEPosition[i,:] = vrep_env.ik_robot.getObjectPosition(vrep_env.ik_robot.handles[8], relative2='ik_rf7_static')[1]\n",
    "EEQuaternion[i,:] = vrep_env.ik_robot.getObjectQuaternion(vrep_env.ik_robot.handles[8], relative2='ik_rf7_static')[1]\n"
   ]
  },
  {
   "cell_type": "code",
   "execution_count": null,
   "metadata": {},
   "outputs": [
    {
     "name": "stdout",
     "output_type": "stream",
     "text": [
      "1 robot(s) connected: ['ct_robot']\n"
     ]
    }
   ],
   "source": [
    "x = np.linspace(0,0.5, num = 100)\n",
    "returnCode = np.zeros(100)\n",
    "joint_position = np.zeros(100)\n",
    "\n",
    "\n",
    "\n",
    "while vrep_env.ct_robot.getJointPosition(vrep_env.ct_robot.handles[1], initialize = True)[0]:\n",
    "    time.sleep(0.01)\n",
    "\n",
    "\n",
    "start = time.time()\n",
    "for i in range(len(x)):\n",
    "    #vrep.simxSynchronousTrigger(vrep_env.clientID)\n",
    "    #vrep.simxGetPingTime(vrep_env.clientID)\n",
    "    \n",
    "    vrep_env.ct_robot.setJointPosition(vrep_env.ct_robot.handles[0], x[i])\n",
    "    vrep_env.ct_robot.setJointPosition(vrep_env.ct_robot.handles[1], 0.1)\n",
    "    vrep_env.ct_robot.setJointPosition(vrep_env.ct_robot.handles[2], 0.5)\n",
    "    \n",
    "    rc = 0\n",
    "    while not rc:\n",
    "        rc, jp = vrep_env.ct_robot.getJointPosition(vrep_env.ct_robot.handles[0])\n",
    "    \n",
    "    returnCode[i] = rc\n",
    "    joint_position[i] = jp\n",
    "    #time.sleep(0.001)\n",
    "dT = (time.time() - start) / 100\n",
    "\n",
    "print(dT)\n",
    "\n",
    "vrep.simxStopSimulation(vrep_env.clientID, vrep.simx_opmode_oneshot)\n"
   ]
  },
  {
   "cell_type": "code",
   "execution_count": 87,
   "metadata": {},
   "outputs": [
    {
     "name": "stdout",
     "output_type": "stream",
     "text": [
      "1 robot(s) connected: ['ct_robot']\n",
      "(1, 0.0)\n",
      "1\n",
      "(1, 0.0)\n",
      "0\n",
      "(1, 0.0)\n",
      "1\n",
      "(1, 0.0)\n",
      "0\n",
      "(1, 0.0)\n",
      "1\n",
      "(1, 0.0)\n",
      "0\n",
      "(1, 0.0)\n",
      "1\n",
      "(1, 0.0)\n",
      "0\n",
      "(1, 0.0)\n",
      "1\n",
      "(1, 0.0)\n",
      "0\n"
     ]
    },
    {
     "data": {
      "text/plain": [
       "0"
      ]
     },
     "execution_count": 87,
     "metadata": {},
     "output_type": "execute_result"
    }
   ],
   "source": [
    "vrep_env.start_simulation()\n",
    "\n",
    "a = 0\n",
    "for i in range(10):\n",
    "    print(vrep_env.ct_robot.getJointPosition(vrep_env.ct_robot.handles[0]))\n",
    "    a = (a + 1) % 2\n",
    "    vrep_env.ct_robot.setJointPosition(vrep_env.ct_robot.handles[0], a)\n",
    "    print(a)\n",
    "    \n",
    "vrep.simxStopSimulation(vrep_env.clientID, vrep.simx_opmode_oneshot)\n"
   ]
  },
  {
   "cell_type": "code",
   "execution_count": 79,
   "metadata": {},
   "outputs": [
    {
     "data": {
      "image/png": "[encoded data removed]",
      "text/plain": [
       "<Figure size 432x288 with 1 Axes>"
      ]
     },
     "metadata": {
      "needs_background": "light"
     },
     "output_type": "display_data"
    }
   ],
   "source": [
    "import matplotlib.pyplot as plt\n",
    "plt.plot(joint_position)\n",
    "plt.show()"
   ]
  },
  {
   "cell_type": "code",
   "execution_count": 71,
   "metadata": {},
   "outputs": [
    {
     "name": "stdout",
     "output_type": "stream",
     "text": [
      "(0, 17)\n",
      "(0, 10)\n",
      "(0, 11)\n",
      "(0, 10)\n",
      "(0, 10)\n",
      "(0, 11)\n",
      "(0, 15)\n",
      "(0, 10)\n",
      "(0, 9)\n",
      "(0, 10)\n",
      "(0, 12)\n",
      "(0, 15)\n",
      "(0, 10)\n",
      "(0, 10)\n",
      "(0, 11)\n",
      "(0, 9)\n",
      "(0, 29)\n",
      "(0, 25)\n",
      "(0, 10)\n",
      "(0, 15)\n",
      "(0, 10)\n",
      "(0, 10)\n",
      "(0, 10)\n",
      "(0, 10)\n",
      "(0, 10)\n",
      "(0, 15)\n",
      "(0, 11)\n",
      "(0, 10)\n",
      "(0, 10)\n",
      "(0, 10)\n",
      "(0, 21)\n",
      "(0, 10)\n",
      "(0, 9)\n",
      "(0, 10)\n",
      "(0, 15)\n",
      "(0, 10)\n",
      "(0, 10)\n",
      "(0, 11)\n",
      "(0, 11)\n",
      "(0, 12)\n",
      "(0, 9)\n",
      "(0, 10)\n",
      "(0, 14)\n",
      "(0, 10)\n",
      "(0, 10)\n",
      "(0, 10)\n",
      "(0, 11)\n",
      "(0, 15)\n",
      "(0, 10)\n",
      "(0, 10)\n",
      "(0, 11)\n",
      "(0, 10)\n",
      "(0, 10)\n",
      "(0, 10)\n",
      "(0, 11)\n",
      "(0, 15)\n",
      "(0, 10)\n",
      "(0, 10)\n",
      "(0, 10)\n",
      "(0, 11)\n",
      "(0, 11)\n",
      "(0, 10)\n",
      "(0, 11)\n",
      "(0, 10)\n",
      "(0, 9)\n",
      "(0, 16)\n",
      "(0, 9)\n",
      "(0, 10)\n",
      "(0, 10)\n",
      "(0, 10)\n",
      "(0, 11)\n",
      "(0, 12)\n",
      "(0, 10)\n",
      "(0, 10)\n",
      "(0, 14)\n",
      "(0, 10)\n",
      "(0, 11)\n",
      "(0, 10)\n",
      "(0, 9)\n",
      "(0, 15)\n",
      "(0, 11)\n",
      "(0, 11)\n",
      "(0, 10)\n",
      "(0, 9)\n",
      "(0, 10)\n",
      "(0, 12)\n",
      "(0, 10)\n",
      "(0, 10)\n",
      "(0, 29)\n",
      "(0, 11)\n",
      "(0, 11)\n",
      "(0, 15)\n",
      "(0, 10)\n",
      "(0, 11)\n",
      "(0, 10)\n",
      "(0, 9)\n",
      "(0, 15)\n",
      "(0, 11)\n",
      "(0, 11)\n",
      "(0, 11)\n"
     ]
    }
   ],
   "source": [
    "for i in range(100):\n",
    "    print(vrep.simxGetPingTime(vrep_env.clientID))"
   ]
  },
  {
   "cell_type": "code",
   "execution_count": 44,
   "metadata": {},
   "outputs": [
    {
     "data": {
      "text/plain": [
       "array([1., 1., 1., 1., 1., 1., 1., 1., 1., 1., 1., 1., 1., 1., 1., 1., 1.,\n",
       "       1., 1., 1., 1., 1., 1., 1., 1., 1., 1., 1., 1., 1., 1., 1., 1., 1.,\n",
       "       1., 1., 1., 1., 1., 1., 1., 1., 1., 1., 1., 1., 1., 1., 1., 1., 1.,\n",
       "       1., 1., 1., 1., 1., 1., 1., 1., 1., 1., 1., 1., 1., 1., 1., 1., 1.,\n",
       "       1., 1., 1., 1., 1., 1., 1., 1., 1., 1., 1., 1., 1., 1., 1., 1., 1.,\n",
       "       1., 1., 1., 1., 1., 1., 1., 1., 1., 1., 1., 1., 1., 1., 1.])"
      ]
     },
     "execution_count": 44,
     "metadata": {},
     "output_type": "execute_result"
    }
   ],
   "source": [
    "returnCode"
   ]
  },
  {
   "cell_type": "code",
   "execution_count": null,
   "metadata": {},
   "outputs": [],
   "source": []
  }
 ],
 "metadata": {
  "kernelspec": {
   "display_name": "Python 3",
   "language": "python",
   "name": "python3"
  },
  "language_info": {
   "codemirror_mode": {
    "name": "ipython",
    "version": 3
   },
   "file_extension": ".py",
   "mimetype": "text/x-python",
   "name": "python",
   "nbconvert_exporter": "python",
   "pygments_lexer": "ipython3",
   "version": "3.7.1"
  }
 },
 "nbformat": 4,
 "nbformat_minor": 2
}
