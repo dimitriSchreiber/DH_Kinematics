{
 "cells": [
  {
   "cell_type": "code",
   "execution_count": 15,
   "metadata": {},
   "outputs": [],
   "source": [
    "from vrepRobot import VREP_Environement, VREP_Robot\n",
    "import VREP_Python.vrep as vrep\n",
    "\n",
    "import numpy as np\n",
    "import time"
   ]
  },
  {
   "cell_type": "code",
   "execution_count": 68,
   "metadata": {},
   "outputs": [
    {
     "name": "stdout",
     "output_type": "stream",
     "text": [
      "Connected to remote API server\n"
     ]
    }
   ],
   "source": [
    "vrep_env = VREP_Environement(dt = 0.001)\n",
    "\n",
    "ct_robot_handles = ['ct_robot_prismatic_joint1', \n",
    "                    'ct_robot_prismatic_joint2', \n",
    "                    'ct_robot_prismatic_joint3', \n",
    "                    'ct_robot_revolute_joint4', \n",
    "                    'ct_robot_revolute_joint5', \n",
    "                    'ct_robot_revolute_joint6', \n",
    "                    'ct_robot_revolute_joint7', \n",
    "                    'ct_robot_prismatic_joint8',\n",
    "                    'reference_frame_j1', \n",
    "                    'reference_frame_j2',\n",
    "                    'reference_frame_j3',\n",
    "                    'reference_frame_j4',\n",
    "                    'reference_frame_j5',\n",
    "                    'reference_frame_j6',\n",
    "                    'reference_frame_j7',\n",
    "                    'reference_frame_j8',\n",
    "                    'reference_frame_base']\n",
    "\n",
    "vrep_env.add_robot(VREP_Robot('ct_robot', ct_robot_handles))"
   ]
  },
  {
   "cell_type": "code",
   "execution_count": null,
   "metadata": {},
   "outputs": [
    {
     "name": "stdout",
     "output_type": "stream",
     "text": [
      "1 robot(s) connected: ['ct_robot']\n"
     ]
    }
   ],
   "source": [
    "x = np.linspace(0,0.5, num = 100)\n",
    "returnCode = np.zeros(100)\n",
    "joint_position = np.zeros(100)\n",
    "\n",
    "\n",
    "vrep_env.start_simulation()\n",
    "\n",
    "while vrep_env.ct_robot.getJointPosition(vrep_env.ct_robot.handles[1], initialize = True)[0]:\n",
    "    time.sleep(0.01)\n",
    "\n",
    "\n",
    "start = time.time()\n",
    "for i in range(len(x)):\n",
    "    #vrep.simxSynchronousTrigger(vrep_env.clientID)\n",
    "    #vrep.simxGetPingTime(vrep_env.clientID)\n",
    "    \n",
    "    vrep_env.ct_robot.setJointPosition(vrep_env.ct_robot.handles[0], x[i])\n",
    "    vrep_env.ct_robot.setJointPosition(vrep_env.ct_robot.handles[1], 0.1)\n",
    "    vrep_env.ct_robot.setJointPosition(vrep_env.ct_robot.handles[2], 0.5)\n",
    "    \n",
    "    rc = 0\n",
    "    while not rc:\n",
    "        rc, jp = vrep_env.ct_robot.getJointPosition(vrep_env.ct_robot.handles[0])\n",
    "    \n",
    "    returnCode[i] = rc\n",
    "    joint_position[i] = jp\n",
    "    #time.sleep(0.001)\n",
    "dT = (time.time() - start) / 100\n",
    "\n",
    "print(dT)\n",
    "\n",
    "vrep.simxStopSimulation(vrep_env.clientID, vrep.simx_opmode_oneshot)\n"
   ]
  },
  {
   "cell_type": "code",
   "execution_count": 87,
   "metadata": {},
   "outputs": [
    {
     "name": "stdout",
     "output_type": "stream",
     "text": [
      "1 robot(s) connected: ['ct_robot']\n",
      "(1, 0.0)\n",
      "1\n",
      "(1, 0.0)\n",
      "0\n",
      "(1, 0.0)\n",
      "1\n",
      "(1, 0.0)\n",
      "0\n",
      "(1, 0.0)\n",
      "1\n",
      "(1, 0.0)\n",
      "0\n",
      "(1, 0.0)\n",
      "1\n",
      "(1, 0.0)\n",
      "0\n",
      "(1, 0.0)\n",
      "1\n",
      "(1, 0.0)\n",
      "0\n"
     ]
    },
    {
     "data": {
      "text/plain": [
       "0"
      ]
     },
     "execution_count": 87,
     "metadata": {},
     "output_type": "execute_result"
    }
   ],
   "source": [
    "vrep_env.start_simulation()\n",
    "\n",
    "a = 0\n",
    "for i in range(10):\n",
    "    print(vrep_env.ct_robot.getJointPosition(vrep_env.ct_robot.handles[0]))\n",
    "    a = (a + 1) % 2\n",
    "    vrep_env.ct_robot.setJointPosition(vrep_env.ct_robot.handles[0], a)\n",
    "    print(a)\n",
    "    \n",
    "vrep.simxStopSimulation(vrep_env.clientID, vrep.simx_opmode_oneshot)\n"
   ]
  },
  {
   "cell_type": "code",
   "execution_count": 79,
   "metadata": {},
   "outputs": [
    {
     "data": {
      "image/png": "[encoded data removed]",
      "text/plain": [
       "<Figure size 432x288 with 1 Axes>"
      ]
     },
     "metadata": {
      "needs_background": "light"
     },
     "output_type": "display_data"
    }
   ],
   "source": [
    "import matplotlib.pyplot as plt\n",
    "plt.plot(joint_position)\n",
    "plt.show()"
   ]
  },
  {
   "cell_type": "code",
   "execution_count": 71,
   "metadata": {},
   "outputs": [
    {
     "name": "stdout",
     "output_type": "stream",
     "text": [
      "(0, 17)\n",
      "(0, 10)\n",
      "(0, 11)\n",
      "(0, 10)\n",
      "(0, 10)\n",
      "(0, 11)\n",
      "(0, 15)\n",
      "(0, 10)\n",
      "(0, 9)\n",
      "(0, 10)\n",
      "(0, 12)\n",
      "(0, 15)\n",
      "(0, 10)\n",
      "(0, 10)\n",
      "(0, 11)\n",
      "(0, 9)\n",
      "(0, 29)\n",
      "(0, 25)\n",
      "(0, 10)\n",
      "(0, 15)\n",
      "(0, 10)\n",
      "(0, 10)\n",
      "(0, 10)\n",
      "(0, 10)\n",
      "(0, 10)\n",
      "(0, 15)\n",
      "(0, 11)\n",
      "(0, 10)\n",
      "(0, 10)\n",
      "(0, 10)\n",
      "(0, 21)\n",
      "(0, 10)\n",
      "(0, 9)\n",
      "(0, 10)\n",
      "(0, 15)\n",
      "(0, 10)\n",
      "(0, 10)\n",
      "(0, 11)\n",
      "(0, 11)\n",
      "(0, 12)\n",
      "(0, 9)\n",
      "(0, 10)\n",
      "(0, 14)\n",
      "(0, 10)\n",
      "(0, 10)\n",
      "(0, 10)\n",
      "(0, 11)\n",
      "(0, 15)\n",
      "(0, 10)\n",
      "(0, 10)\n",
      "(0, 11)\n",
      "(0, 10)\n",
      "(0, 10)\n",
      "(0, 10)\n",
      "(0, 11)\n",
      "(0, 15)\n",
      "(0, 10)\n",
      "(0, 10)\n",
      "(0, 10)\n",
      "(0, 11)\n",
      "(0, 11)\n",
      "(0, 10)\n",
      "(0, 11)\n",
      "(0, 10)\n",
      "(0, 9)\n",
      "(0, 16)\n",
      "(0, 9)\n",
      "(0, 10)\n",
      "(0, 10)\n",
      "(0, 10)\n",
      "(0, 11)\n",
      "(0, 12)\n",
      "(0, 10)\n",
      "(0, 10)\n",
      "(0, 14)\n",
      "(0, 10)\n",
      "(0, 11)\n",
      "(0, 10)\n",
      "(0, 9)\n",
      "(0, 15)\n",
      "(0, 11)\n",
      "(0, 11)\n",
      "(0, 10)\n",
      "(0, 9)\n",
      "(0, 10)\n",
      "(0, 12)\n",
      "(0, 10)\n",
      "(0, 10)\n",
      "(0, 29)\n",
      "(0, 11)\n",
      "(0, 11)\n",
      "(0, 15)\n",
      "(0, 10)\n",
      "(0, 11)\n",
      "(0, 10)\n",
      "(0, 9)\n",
      "(0, 15)\n",
      "(0, 11)\n",
      "(0, 11)\n",
      "(0, 11)\n"
     ]
    }
   ],
   "source": [
    "for i in range(100):\n",
    "    print(vrep.simxGetPingTime(vrep_env.clientID))"
   ]
  },
  {
   "cell_type": "code",
   "execution_count": 44,
   "metadata": {},
   "outputs": [
    {
     "data": {
      "text/plain": [
       "array([1., 1., 1., 1., 1., 1., 1., 1., 1., 1., 1., 1., 1., 1., 1., 1., 1.,\n",
       "       1., 1., 1., 1., 1., 1., 1., 1., 1., 1., 1., 1., 1., 1., 1., 1., 1.,\n",
       "       1., 1., 1., 1., 1., 1., 1., 1., 1., 1., 1., 1., 1., 1., 1., 1., 1.,\n",
       "       1., 1., 1., 1., 1., 1., 1., 1., 1., 1., 1., 1., 1., 1., 1., 1., 1.,\n",
       "       1., 1., 1., 1., 1., 1., 1., 1., 1., 1., 1., 1., 1., 1., 1., 1., 1.,\n",
       "       1., 1., 1., 1., 1., 1., 1., 1., 1., 1., 1., 1., 1., 1., 1.])"
      ]
     },
     "execution_count": 44,
     "metadata": {},
     "output_type": "execute_result"
    }
   ],
   "source": [
    "returnCode"
   ]
  },
  {
   "cell_type": "code",
   "execution_count": null,
   "metadata": {},
   "outputs": [],
   "source": []
  }
 ],
 "metadata": {
  "kernelspec": {
   "display_name": "Python 3",
   "language": "python",
   "name": "python3"
  },
  "language_info": {
   "codemirror_mode": {
    "name": "ipython",
    "version": 3
   },
   "file_extension": ".py",
   "mimetype": "text/x-python",
   "name": "python",
   "nbconvert_exporter": "python",
   "pygments_lexer": "ipython3",
   "version": "3.7.1"
  }
 },
 "nbformat": 4,
 "nbformat_minor": 2
}
